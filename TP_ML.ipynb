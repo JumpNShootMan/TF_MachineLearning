{
  "nbformat": 4,
  "nbformat_minor": 0,
  "metadata": {
    "colab": {
      "name": "TP_ML",
      "provenance": [],
      "collapsed_sections": [],
      "authorship_tag": "ABX9TyOfm8niXCBDrO7ONB6FpVZp",
      "include_colab_link": true
    },
    "kernelspec": {
      "name": "python3",
      "display_name": "Python 3"
    }
  },
  "cells": [
    {
      "cell_type": "markdown",
      "metadata": {
        "id": "view-in-github",
        "colab_type": "text"
      },
      "source": [
        "<a href=\"https://colab.research.google.com/github/JumpNShootMan/TP_MachineLearning/blob/Develop/TP_ML.ipynb\" target=\"_parent\"><img src=\"https://colab.research.google.com/assets/colab-badge.svg\" alt=\"Open In Colab\"/></a>"
      ]
    },
    {
      "cell_type": "markdown",
      "metadata": {
        "id": "bt-reoeYEDCI",
        "colab_type": "text"
      },
      "source": [
        "Trabajo Parcial de Machine Learning\n"
      ]
    },
    {
      "cell_type": "code",
      "metadata": {
        "id": "HEg6hitNCB5_",
        "colab_type": "code",
        "colab": {
          "base_uri": "https://localhost:8080/",
          "height": 34
        },
        "outputId": "84e3047c-e21f-4f69-897a-9b079772fbb2"
      },
      "source": [
        "from google.colab import drive\n",
        "drive.mount(\"/content/drive/\")"
      ],
      "execution_count": null,
      "outputs": [
        {
          "output_type": "stream",
          "text": [
            "Drive already mounted at /content/drive/; to attempt to forcibly remount, call drive.mount(\"/content/drive/\", force_remount=True).\n"
          ],
          "name": "stdout"
        }
      ]
    },
    {
      "cell_type": "code",
      "metadata": {
        "id": "n9GqPIpqHETE",
        "colab_type": "code",
        "colab": {
          "base_uri": "https://localhost:8080/",
          "height": 84
        },
        "outputId": "cc75f9ca-c135-4f4b-919f-79ac45d86781"
      },
      "source": [
        "!pip install opencv-python==3.4.2.16\n",
        "!pip install opencv-contrib-python==3.4.2.16\n",
        "import cv2\n",
        "import numpy as np\n",
        "import pandas as pd\n",
        "import os\n",
        "from sklearn.cluster import KMeans\n",
        "from matplotlib import pyplot as plt"
      ],
      "execution_count": null,
      "outputs": [
        {
          "output_type": "stream",
          "text": [
            "Requirement already satisfied: opencv-python==3.4.2.16 in /usr/local/lib/python3.6/dist-packages (3.4.2.16)\n",
            "Requirement already satisfied: numpy>=1.11.3 in /usr/local/lib/python3.6/dist-packages (from opencv-python==3.4.2.16) (1.18.5)\n",
            "Requirement already satisfied: opencv-contrib-python==3.4.2.16 in /usr/local/lib/python3.6/dist-packages (3.4.2.16)\n",
            "Requirement already satisfied: numpy>=1.11.3 in /usr/local/lib/python3.6/dist-packages (from opencv-contrib-python==3.4.2.16) (1.18.5)\n"
          ],
          "name": "stdout"
        }
      ]
    },
    {
      "cell_type": "code",
      "metadata": {
        "id": "oWVuz7ipH5zY",
        "colab_type": "code",
        "colab": {
          "base_uri": "https://localhost:8080/",
          "height": 215
        },
        "outputId": "5afd887e-d7d4-471d-cdf1-eda20456d969"
      },
      "source": [
        "data = pd.read_csv('/content/drive/My Drive/2020-2/Machine_Learning/Datasets/datos_banco.csv', encoding='latin-1')\n",
        "\n",
        "data.head()"
      ],
      "execution_count": null,
      "outputs": [
        {
          "output_type": "execute_result",
          "data": {
            "text/html": [
              "<div>\n",
              "<style scoped>\n",
              "    .dataframe tbody tr th:only-of-type {\n",
              "        vertical-align: middle;\n",
              "    }\n",
              "\n",
              "    .dataframe tbody tr th {\n",
              "        vertical-align: top;\n",
              "    }\n",
              "\n",
              "    .dataframe thead th {\n",
              "        text-align: right;\n",
              "    }\n",
              "</style>\n",
              "<table border=\"1\" class=\"dataframe\">\n",
              "  <thead>\n",
              "    <tr style=\"text-align: right;\">\n",
              "      <th></th>\n",
              "      <th>idPrestamo</th>\n",
              "      <th>target</th>\n",
              "      <th>monthly_debt_capacity</th>\n",
              "      <th>var_employment_time_in_months</th>\n",
              "      <th>approved_amount</th>\n",
              "      <th>approved_term</th>\n",
              "      <th>approved_interest_amount</th>\n",
              "      <th>var_net_income</th>\n",
              "      <th>person_gender</th>\n",
              "      <th>credit_history_marital_status</th>\n",
              "      <th>var_max_sbs_qual_12m</th>\n",
              "      <th>person_degree_type_desc</th>\n",
              "      <th>default_request_term</th>\n",
              "      <th>default_request_amount</th>\n",
              "    </tr>\n",
              "  </thead>\n",
              "  <tbody>\n",
              "    <tr>\n",
              "      <th>0</th>\n",
              "      <td>LIBDISP9832897855</td>\n",
              "      <td>1</td>\n",
              "      <td>252.39</td>\n",
              "      <td>9.0</td>\n",
              "      <td>1,200</td>\n",
              "      <td>6</td>\n",
              "      <td>289.11</td>\n",
              "      <td>1140.125000</td>\n",
              "      <td>MALE</td>\n",
              "      <td>C</td>\n",
              "      <td>NORMAL</td>\n",
              "      <td>Secundaria</td>\n",
              "      <td>1</td>\n",
              "      <td>0</td>\n",
              "    </tr>\n",
              "    <tr>\n",
              "      <th>1</th>\n",
              "      <td>LIBDISP9021501745</td>\n",
              "      <td>1</td>\n",
              "      <td>244.57</td>\n",
              "      <td>50.0</td>\n",
              "      <td>2,200</td>\n",
              "      <td>12</td>\n",
              "      <td>696.15</td>\n",
              "      <td>1061.375000</td>\n",
              "      <td>FEMALE</td>\n",
              "      <td>S</td>\n",
              "      <td>NORMAL</td>\n",
              "      <td>Secundaria</td>\n",
              "      <td>0</td>\n",
              "      <td>0</td>\n",
              "    </tr>\n",
              "    <tr>\n",
              "      <th>2</th>\n",
              "      <td>LIBDISP4057314971</td>\n",
              "      <td>0</td>\n",
              "      <td>491.5</td>\n",
              "      <td>64.0</td>\n",
              "      <td>1,000</td>\n",
              "      <td>3</td>\n",
              "      <td>84.99</td>\n",
              "      <td>2082.196667</td>\n",
              "      <td>FEMALE</td>\n",
              "      <td>S</td>\n",
              "      <td>NORMAL</td>\n",
              "      <td>Secundaria</td>\n",
              "      <td>0</td>\n",
              "      <td>0</td>\n",
              "    </tr>\n",
              "    <tr>\n",
              "      <th>3</th>\n",
              "      <td>LIBDISP8375185888</td>\n",
              "      <td>0</td>\n",
              "      <td>848.65</td>\n",
              "      <td>77.0</td>\n",
              "      <td>1,500</td>\n",
              "      <td>6</td>\n",
              "      <td>221.53</td>\n",
              "      <td>3422.423333</td>\n",
              "      <td>MALE</td>\n",
              "      <td>S</td>\n",
              "      <td>NORMAL</td>\n",
              "      <td>Universitaria</td>\n",
              "      <td>0</td>\n",
              "      <td>0</td>\n",
              "    </tr>\n",
              "    <tr>\n",
              "      <th>4</th>\n",
              "      <td>LIBDISP9694463037</td>\n",
              "      <td>0</td>\n",
              "      <td>470.52</td>\n",
              "      <td>82.0</td>\n",
              "      <td>1,000</td>\n",
              "      <td>3</td>\n",
              "      <td>91.34</td>\n",
              "      <td>1882.090000</td>\n",
              "      <td>FEMALE</td>\n",
              "      <td>S</td>\n",
              "      <td>NORMAL</td>\n",
              "      <td>Universitaria</td>\n",
              "      <td>1</td>\n",
              "      <td>0</td>\n",
              "    </tr>\n",
              "  </tbody>\n",
              "</table>\n",
              "</div>"
            ],
            "text/plain": [
              "          idPrestamo  target  ... default_request_term  default_request_amount\n",
              "0  LIBDISP9832897855       1  ...                    1                       0\n",
              "1  LIBDISP9021501745       1  ...                    0                       0\n",
              "2  LIBDISP4057314971       0  ...                    0                       0\n",
              "3  LIBDISP8375185888       0  ...                    0                       0\n",
              "4  LIBDISP9694463037       0  ...                    1                       0\n",
              "\n",
              "[5 rows x 14 columns]"
            ]
          },
          "metadata": {
            "tags": []
          },
          "execution_count": 19
        }
      ]
    }
  ]
}