{
  "nbformat": 4,
  "nbformat_minor": 0,
  "metadata": {
    "colab": {
      "name": "TP_ML",
      "provenance": [],
      "collapsed_sections": [],
      "include_colab_link": true
    },
    "kernelspec": {
      "name": "python3",
      "display_name": "Python 3"
    }
  },
  "cells": [
    {
      "cell_type": "markdown",
      "metadata": {
        "id": "view-in-github",
        "colab_type": "text"
      },
      "source": [
        "<a href=\"https://colab.research.google.com/github/JumpNShootMan/TP_MachineLearning/blob/Develop/TP_ML.ipynb\" target=\"_parent\"><img src=\"https://colab.research.google.com/assets/colab-badge.svg\" alt=\"Open In Colab\"/></a>"
      ]
    },
    {
      "cell_type": "markdown",
      "metadata": {
        "id": "bt-reoeYEDCI"
      },
      "source": [
        "Trabajo Parcial de Machine Learning\n"
      ]
    },
    {
      "cell_type": "code",
      "metadata": {
        "id": "HEg6hitNCB5_"
      },
      "source": [
        "from google.colab import drive\n",
        "drive.mount(\"/content/drive/\")"
      ],
      "execution_count": null,
      "outputs": []
    },
    {
      "cell_type": "code",
      "metadata": {
        "id": "n9GqPIpqHETE",
        "outputId": "85279346-86bd-413c-e540-a00a0267d3d6",
        "colab": {
          "base_uri": "https://localhost:8080/",
          "height": 340
        }
      },
      "source": [
        "!pip install opencv-python==3.4.2.16\n",
        "!pip install opencv-contrib-python==3.4.2.16\n",
        "import cv2\n",
        "import numpy as np\n",
        "import pandas as pd\n",
        "import os\n",
        "from sklearn.cluster import KMeans\n",
        "from matplotlib import pyplot as plt"
      ],
      "execution_count": 2,
      "outputs": [
        {
          "output_type": "stream",
          "text": [
            "Collecting opencv-python==3.4.2.16\n",
            "\u001b[?25l  Downloading https://files.pythonhosted.org/packages/fa/7d/5042b668a8ed41d2a80b8c172f5efcd572e3c046c75ae029407e19b7fc68/opencv_python-3.4.2.16-cp36-cp36m-manylinux1_x86_64.whl (25.0MB)\n",
            "\u001b[K     |████████████████████████████████| 25.0MB 171kB/s \n",
            "\u001b[?25hRequirement already satisfied: numpy>=1.11.3 in /usr/local/lib/python3.6/dist-packages (from opencv-python==3.4.2.16) (1.18.5)\n",
            "\u001b[31mERROR: albumentations 0.1.12 has requirement imgaug<0.2.7,>=0.2.5, but you'll have imgaug 0.2.9 which is incompatible.\u001b[0m\n",
            "Installing collected packages: opencv-python\n",
            "  Found existing installation: opencv-python 4.1.2.30\n",
            "    Uninstalling opencv-python-4.1.2.30:\n",
            "      Successfully uninstalled opencv-python-4.1.2.30\n",
            "Successfully installed opencv-python-3.4.2.16\n",
            "Collecting opencv-contrib-python==3.4.2.16\n",
            "\u001b[?25l  Downloading https://files.pythonhosted.org/packages/08/f1/66330f4042c4fb3b2d77a159db8e8916d9cdecc29bc8c1f56bc7f8a9bec9/opencv_contrib_python-3.4.2.16-cp36-cp36m-manylinux1_x86_64.whl (30.6MB)\n",
            "\u001b[K     |████████████████████████████████| 30.6MB 147kB/s \n",
            "\u001b[?25hRequirement already satisfied: numpy>=1.11.3 in /usr/local/lib/python3.6/dist-packages (from opencv-contrib-python==3.4.2.16) (1.18.5)\n",
            "Installing collected packages: opencv-contrib-python\n",
            "  Found existing installation: opencv-contrib-python 4.1.2.30\n",
            "    Uninstalling opencv-contrib-python-4.1.2.30:\n",
            "      Successfully uninstalled opencv-contrib-python-4.1.2.30\n",
            "Successfully installed opencv-contrib-python-3.4.2.16\n"
          ],
          "name": "stdout"
        }
      ]
    },
    {
      "cell_type": "code",
      "metadata": {
        "id": "oWVuz7ipH5zY",
        "outputId": "9700e5cb-a00c-46dc-f83f-48e099d34cb8",
        "colab": {
          "base_uri": "https://localhost:8080/",
          "height": 534
        }
      },
      "source": [
        "data = pd.read_csv('https://raw.githubusercontent.com/JumpNShootMan/TP_MachineLearning/master/datos_banco.csv', encoding='latin-1')\n",
        "\n",
        "data.head(15)"
      ],
      "execution_count": 104,
      "outputs": [
        {
          "output_type": "execute_result",
          "data": {
            "text/html": [
              "<div>\n",
              "<style scoped>\n",
              "    .dataframe tbody tr th:only-of-type {\n",
              "        vertical-align: middle;\n",
              "    }\n",
              "\n",
              "    .dataframe tbody tr th {\n",
              "        vertical-align: top;\n",
              "    }\n",
              "\n",
              "    .dataframe thead th {\n",
              "        text-align: right;\n",
              "    }\n",
              "</style>\n",
              "<table border=\"1\" class=\"dataframe\">\n",
              "  <thead>\n",
              "    <tr style=\"text-align: right;\">\n",
              "      <th></th>\n",
              "      <th>idPrestamo</th>\n",
              "      <th>target</th>\n",
              "      <th>monthly_debt_capacity</th>\n",
              "      <th>var_employment_time_in_months</th>\n",
              "      <th>approved_amount</th>\n",
              "      <th>approved_term</th>\n",
              "      <th>approved_interest_amount</th>\n",
              "      <th>var_net_income</th>\n",
              "      <th>person_gender</th>\n",
              "      <th>credit_history_marital_status</th>\n",
              "      <th>var_max_sbs_qual_12m</th>\n",
              "      <th>person_degree_type_desc</th>\n",
              "      <th>default_request_term</th>\n",
              "      <th>default_request_amount</th>\n",
              "    </tr>\n",
              "  </thead>\n",
              "  <tbody>\n",
              "    <tr>\n",
              "      <th>0</th>\n",
              "      <td>LIBDISP9832897855</td>\n",
              "      <td>1</td>\n",
              "      <td>252.39</td>\n",
              "      <td>9.0</td>\n",
              "      <td>1,200</td>\n",
              "      <td>6</td>\n",
              "      <td>289.11</td>\n",
              "      <td>1140.125000</td>\n",
              "      <td>MALE</td>\n",
              "      <td>C</td>\n",
              "      <td>NORMAL</td>\n",
              "      <td>Secundaria</td>\n",
              "      <td>1</td>\n",
              "      <td>0</td>\n",
              "    </tr>\n",
              "    <tr>\n",
              "      <th>1</th>\n",
              "      <td>LIBDISP9021501745</td>\n",
              "      <td>1</td>\n",
              "      <td>244.57</td>\n",
              "      <td>50.0</td>\n",
              "      <td>2,200</td>\n",
              "      <td>12</td>\n",
              "      <td>696.15</td>\n",
              "      <td>1061.375000</td>\n",
              "      <td>FEMALE</td>\n",
              "      <td>S</td>\n",
              "      <td>NORMAL</td>\n",
              "      <td>Secundaria</td>\n",
              "      <td>0</td>\n",
              "      <td>0</td>\n",
              "    </tr>\n",
              "    <tr>\n",
              "      <th>2</th>\n",
              "      <td>LIBDISP4057314971</td>\n",
              "      <td>0</td>\n",
              "      <td>491.5</td>\n",
              "      <td>64.0</td>\n",
              "      <td>1,000</td>\n",
              "      <td>3</td>\n",
              "      <td>84.99</td>\n",
              "      <td>2082.196667</td>\n",
              "      <td>FEMALE</td>\n",
              "      <td>S</td>\n",
              "      <td>NORMAL</td>\n",
              "      <td>Secundaria</td>\n",
              "      <td>0</td>\n",
              "      <td>0</td>\n",
              "    </tr>\n",
              "    <tr>\n",
              "      <th>3</th>\n",
              "      <td>LIBDISP8375185888</td>\n",
              "      <td>0</td>\n",
              "      <td>848.65</td>\n",
              "      <td>77.0</td>\n",
              "      <td>1,500</td>\n",
              "      <td>6</td>\n",
              "      <td>221.53</td>\n",
              "      <td>3422.423333</td>\n",
              "      <td>MALE</td>\n",
              "      <td>S</td>\n",
              "      <td>NORMAL</td>\n",
              "      <td>Universitaria</td>\n",
              "      <td>0</td>\n",
              "      <td>0</td>\n",
              "    </tr>\n",
              "    <tr>\n",
              "      <th>4</th>\n",
              "      <td>LIBDISP9694463037</td>\n",
              "      <td>0</td>\n",
              "      <td>470.52</td>\n",
              "      <td>82.0</td>\n",
              "      <td>1,000</td>\n",
              "      <td>3</td>\n",
              "      <td>91.34</td>\n",
              "      <td>1882.090000</td>\n",
              "      <td>FEMALE</td>\n",
              "      <td>S</td>\n",
              "      <td>NORMAL</td>\n",
              "      <td>Universitaria</td>\n",
              "      <td>1</td>\n",
              "      <td>0</td>\n",
              "    </tr>\n",
              "    <tr>\n",
              "      <th>5</th>\n",
              "      <td>LIBDISP0492929616</td>\n",
              "      <td>0</td>\n",
              "      <td>490.77</td>\n",
              "      <td>79.0</td>\n",
              "      <td>1,500</td>\n",
              "      <td>6</td>\n",
              "      <td>221.53</td>\n",
              "      <td>2448.016667</td>\n",
              "      <td>MALE</td>\n",
              "      <td>S</td>\n",
              "      <td>NORMAL</td>\n",
              "      <td>Carrera TÃÂ©cnica</td>\n",
              "      <td>1</td>\n",
              "      <td>0</td>\n",
              "    </tr>\n",
              "    <tr>\n",
              "      <th>6</th>\n",
              "      <td>LIBDISP6813272232</td>\n",
              "      <td>0</td>\n",
              "      <td>428.57</td>\n",
              "      <td>71.0</td>\n",
              "      <td>4,000</td>\n",
              "      <td>12</td>\n",
              "      <td>1,109.56</td>\n",
              "      <td>1803.923333</td>\n",
              "      <td>FEMALE</td>\n",
              "      <td>S</td>\n",
              "      <td>NORMAL</td>\n",
              "      <td>Universitaria</td>\n",
              "      <td>0</td>\n",
              "      <td>0</td>\n",
              "    </tr>\n",
              "    <tr>\n",
              "      <th>7</th>\n",
              "      <td>LIBDISP8862427268</td>\n",
              "      <td>1</td>\n",
              "      <td>647.87</td>\n",
              "      <td>4.0</td>\n",
              "      <td>1,200</td>\n",
              "      <td>6</td>\n",
              "      <td>289.11</td>\n",
              "      <td>2660.630000</td>\n",
              "      <td>MALE</td>\n",
              "      <td>S</td>\n",
              "      <td>NORMAL</td>\n",
              "      <td>Secundaria</td>\n",
              "      <td>1</td>\n",
              "      <td>0</td>\n",
              "    </tr>\n",
              "    <tr>\n",
              "      <th>8</th>\n",
              "      <td>LIBDISP7167831610</td>\n",
              "      <td>0</td>\n",
              "      <td>694.23</td>\n",
              "      <td>NaN</td>\n",
              "      <td>900</td>\n",
              "      <td>6</td>\n",
              "      <td>149.79</td>\n",
              "      <td>2912.158333</td>\n",
              "      <td>FEMALE</td>\n",
              "      <td>C</td>\n",
              "      <td>CPP</td>\n",
              "      <td>Universitaria</td>\n",
              "      <td>1</td>\n",
              "      <td>0</td>\n",
              "    </tr>\n",
              "    <tr>\n",
              "      <th>9</th>\n",
              "      <td>LIBDISP3835927929</td>\n",
              "      <td>1</td>\n",
              "      <td>209.48</td>\n",
              "      <td>77.0</td>\n",
              "      <td>1,000</td>\n",
              "      <td>6</td>\n",
              "      <td>152.32</td>\n",
              "      <td>2498.043333</td>\n",
              "      <td>MALE</td>\n",
              "      <td>S</td>\n",
              "      <td>NORMAL</td>\n",
              "      <td>Secundaria</td>\n",
              "      <td>1</td>\n",
              "      <td>0</td>\n",
              "    </tr>\n",
              "    <tr>\n",
              "      <th>10</th>\n",
              "      <td>LIBDISP0355045033</td>\n",
              "      <td>0</td>\n",
              "      <td>740.53</td>\n",
              "      <td>43.0</td>\n",
              "      <td>600</td>\n",
              "      <td>4</td>\n",
              "      <td>61.97</td>\n",
              "      <td>4339.761667</td>\n",
              "      <td>MALE</td>\n",
              "      <td>S</td>\n",
              "      <td>NORMAL</td>\n",
              "      <td>Universitaria</td>\n",
              "      <td>0</td>\n",
              "      <td>0</td>\n",
              "    </tr>\n",
              "    <tr>\n",
              "      <th>11</th>\n",
              "      <td>LIBDISP5414743218</td>\n",
              "      <td>0</td>\n",
              "      <td>256.66</td>\n",
              "      <td>73.0</td>\n",
              "      <td>1,200</td>\n",
              "      <td>6</td>\n",
              "      <td>289.11</td>\n",
              "      <td>2279.176667</td>\n",
              "      <td>FEMALE</td>\n",
              "      <td>S</td>\n",
              "      <td>CPP</td>\n",
              "      <td>Secundaria</td>\n",
              "      <td>0</td>\n",
              "      <td>0</td>\n",
              "    </tr>\n",
              "    <tr>\n",
              "      <th>12</th>\n",
              "      <td>LIBDISP1965000460</td>\n",
              "      <td>0</td>\n",
              "      <td>211.16</td>\n",
              "      <td>5.0</td>\n",
              "      <td>1,000</td>\n",
              "      <td>6</td>\n",
              "      <td>240.92</td>\n",
              "      <td>1204.875000</td>\n",
              "      <td>FEMALE</td>\n",
              "      <td>S</td>\n",
              "      <td>CPP</td>\n",
              "      <td>Secundaria</td>\n",
              "      <td>0</td>\n",
              "      <td>0</td>\n",
              "    </tr>\n",
              "    <tr>\n",
              "      <th>13</th>\n",
              "      <td>LIBDISP1947886051</td>\n",
              "      <td>0</td>\n",
              "      <td>214.08</td>\n",
              "      <td>14.0</td>\n",
              "      <td>1,000</td>\n",
              "      <td>6</td>\n",
              "      <td>240.92</td>\n",
              "      <td>1312.500000</td>\n",
              "      <td>MALE</td>\n",
              "      <td>S</td>\n",
              "      <td>CPP</td>\n",
              "      <td>Carrera TÃÂ©cnica</td>\n",
              "      <td>1</td>\n",
              "      <td>0</td>\n",
              "    </tr>\n",
              "    <tr>\n",
              "      <th>14</th>\n",
              "      <td>LIBDISP4328432214</td>\n",
              "      <td>1</td>\n",
              "      <td>298.9</td>\n",
              "      <td>12.0</td>\n",
              "      <td>1,400</td>\n",
              "      <td>6</td>\n",
              "      <td>207.69</td>\n",
              "      <td>1875.000000</td>\n",
              "      <td>MALE</td>\n",
              "      <td>S</td>\n",
              "      <td>NORMAL</td>\n",
              "      <td>Universitaria</td>\n",
              "      <td>1</td>\n",
              "      <td>0</td>\n",
              "    </tr>\n",
              "  </tbody>\n",
              "</table>\n",
              "</div>"
            ],
            "text/plain": [
              "           idPrestamo  target  ... default_request_term  default_request_amount\n",
              "0   LIBDISP9832897855       1  ...                    1                       0\n",
              "1   LIBDISP9021501745       1  ...                    0                       0\n",
              "2   LIBDISP4057314971       0  ...                    0                       0\n",
              "3   LIBDISP8375185888       0  ...                    0                       0\n",
              "4   LIBDISP9694463037       0  ...                    1                       0\n",
              "5   LIBDISP0492929616       0  ...                    1                       0\n",
              "6   LIBDISP6813272232       0  ...                    0                       0\n",
              "7   LIBDISP8862427268       1  ...                    1                       0\n",
              "8   LIBDISP7167831610       0  ...                    1                       0\n",
              "9   LIBDISP3835927929       1  ...                    1                       0\n",
              "10  LIBDISP0355045033       0  ...                    0                       0\n",
              "11  LIBDISP5414743218       0  ...                    0                       0\n",
              "12  LIBDISP1965000460       0  ...                    0                       0\n",
              "13  LIBDISP1947886051       0  ...                    1                       0\n",
              "14  LIBDISP4328432214       1  ...                    1                       0\n",
              "\n",
              "[15 rows x 14 columns]"
            ]
          },
          "metadata": {
            "tags": []
          },
          "execution_count": 104
        }
      ]
    },
    {
      "cell_type": "code",
      "metadata": {
        "id": "X7TuauZME3LX",
        "outputId": "291d9cd4-7dc7-4416-e755-5eaf17b76f63",
        "colab": {
          "base_uri": "https://localhost:8080/",
          "height": 272
        }
      },
      "source": [
        "data.dtypes"
      ],
      "execution_count": 105,
      "outputs": [
        {
          "output_type": "execute_result",
          "data": {
            "text/plain": [
              "idPrestamo                        object\n",
              "target                             int64\n",
              "monthly_debt_capacity             object\n",
              "var_employment_time_in_months    float64\n",
              "approved_amount                   object\n",
              "approved_term                      int64\n",
              "approved_interest_amount          object\n",
              "var_net_income                   float64\n",
              "person_gender                     object\n",
              "credit_history_marital_status     object\n",
              "var_max_sbs_qual_12m              object\n",
              "person_degree_type_desc           object\n",
              "default_request_term               int64\n",
              "default_request_amount             int64\n",
              "dtype: object"
            ]
          },
          "metadata": {
            "tags": []
          },
          "execution_count": 105
        }
      ]
    },
    {
      "cell_type": "markdown",
      "metadata": {
        "id": "rtWbT3hfrQV6"
      },
      "source": [
        "# Tratamiento de datos\n",
        "\n"
      ]
    },
    {
      "cell_type": "code",
      "metadata": {
        "id": "lft8hUC25_Dl"
      },
      "source": [
        "del data[\"idPrestamo\"]\n",
        "del data[\"default_request_amount\"]"
      ],
      "execution_count": 106,
      "outputs": []
    },
    {
      "cell_type": "code",
      "metadata": {
        "id": "yey5uIiLCO4A",
        "outputId": "89b83df6-afc2-4f9e-cfde-2ad64557b566",
        "colab": {
          "base_uri": "https://localhost:8080/",
          "height": 153
        }
      },
      "source": [
        "data.groupby('var_max_sbs_qual_12m').size()\n",
        "data.groupby('person_degree_type_desc').size()"
      ],
      "execution_count": 107,
      "outputs": [
        {
          "output_type": "execute_result",
          "data": {
            "text/plain": [
              "person_degree_type_desc\n",
              "Carrera TÃÂ©cnica    432\n",
              "Carrera TÌÄå©cnica    192\n",
              "Postgrado              65\n",
              "Primaria                3\n",
              "Secundaria            220\n",
              "Universitaria         807\n",
              "dtype: int64"
            ]
          },
          "metadata": {
            "tags": []
          },
          "execution_count": 107
        }
      ]
    },
    {
      "cell_type": "code",
      "metadata": {
        "id": "rMlDTx-ELGPF",
        "outputId": "57743028-b02e-4e66-cf04-a45ef81b1218",
        "colab": {
          "base_uri": "https://localhost:8080/",
          "height": 102
        }
      },
      "source": [
        "for i in range(len(data['person_degree_type_desc'])):\n",
        "  if data['person_degree_type_desc'][i] == \"Carrera TÃÂ©cnica\" or data['person_degree_type_desc'][i] == \"Carrera TÌÄå©cnica\":\n",
        "    data['person_degree_type_desc'][i] = \"Carrera Tecnica\""
      ],
      "execution_count": 108,
      "outputs": [
        {
          "output_type": "stream",
          "text": [
            "/usr/local/lib/python3.6/dist-packages/ipykernel_launcher.py:3: SettingWithCopyWarning: \n",
            "A value is trying to be set on a copy of a slice from a DataFrame\n",
            "\n",
            "See the caveats in the documentation: https://pandas.pydata.org/pandas-docs/stable/user_guide/indexing.html#returning-a-view-versus-a-copy\n",
            "  This is separate from the ipykernel package so we can avoid doing imports until\n"
          ],
          "name": "stderr"
        }
      ]
    },
    {
      "cell_type": "code",
      "metadata": {
        "id": "PMPEXRgPBdQE",
        "outputId": "d8a09d63-5e51-498d-c605-e88f4c91e616",
        "colab": {
          "base_uri": "https://localhost:8080/",
          "height": 224
        }
      },
      "source": [
        "data.var_max_sbs_qual_12m = pd.Categorical(data.var_max_sbs_qual_12m)\n",
        "data.var_max_sbs_qual_12m = data.var_max_sbs_qual_12m.cat.codes\n",
        "data.person_degree_type_desc = pd.Categorical(data.person_degree_type_desc)\n",
        "data.person_degree_type_desc = data.person_degree_type_desc.cat.codes\n",
        "data.head()"
      ],
      "execution_count": 109,
      "outputs": [
        {
          "output_type": "execute_result",
          "data": {
            "text/html": [
              "<div>\n",
              "<style scoped>\n",
              "    .dataframe tbody tr th:only-of-type {\n",
              "        vertical-align: middle;\n",
              "    }\n",
              "\n",
              "    .dataframe tbody tr th {\n",
              "        vertical-align: top;\n",
              "    }\n",
              "\n",
              "    .dataframe thead th {\n",
              "        text-align: right;\n",
              "    }\n",
              "</style>\n",
              "<table border=\"1\" class=\"dataframe\">\n",
              "  <thead>\n",
              "    <tr style=\"text-align: right;\">\n",
              "      <th></th>\n",
              "      <th>target</th>\n",
              "      <th>monthly_debt_capacity</th>\n",
              "      <th>var_employment_time_in_months</th>\n",
              "      <th>approved_amount</th>\n",
              "      <th>approved_term</th>\n",
              "      <th>approved_interest_amount</th>\n",
              "      <th>var_net_income</th>\n",
              "      <th>person_gender</th>\n",
              "      <th>credit_history_marital_status</th>\n",
              "      <th>var_max_sbs_qual_12m</th>\n",
              "      <th>person_degree_type_desc</th>\n",
              "      <th>default_request_term</th>\n",
              "    </tr>\n",
              "  </thead>\n",
              "  <tbody>\n",
              "    <tr>\n",
              "      <th>0</th>\n",
              "      <td>1</td>\n",
              "      <td>252.39</td>\n",
              "      <td>9.0</td>\n",
              "      <td>1,200</td>\n",
              "      <td>6</td>\n",
              "      <td>289.11</td>\n",
              "      <td>1140.125000</td>\n",
              "      <td>MALE</td>\n",
              "      <td>C</td>\n",
              "      <td>3</td>\n",
              "      <td>3</td>\n",
              "      <td>1</td>\n",
              "    </tr>\n",
              "    <tr>\n",
              "      <th>1</th>\n",
              "      <td>1</td>\n",
              "      <td>244.57</td>\n",
              "      <td>50.0</td>\n",
              "      <td>2,200</td>\n",
              "      <td>12</td>\n",
              "      <td>696.15</td>\n",
              "      <td>1061.375000</td>\n",
              "      <td>FEMALE</td>\n",
              "      <td>S</td>\n",
              "      <td>3</td>\n",
              "      <td>3</td>\n",
              "      <td>0</td>\n",
              "    </tr>\n",
              "    <tr>\n",
              "      <th>2</th>\n",
              "      <td>0</td>\n",
              "      <td>491.5</td>\n",
              "      <td>64.0</td>\n",
              "      <td>1,000</td>\n",
              "      <td>3</td>\n",
              "      <td>84.99</td>\n",
              "      <td>2082.196667</td>\n",
              "      <td>FEMALE</td>\n",
              "      <td>S</td>\n",
              "      <td>3</td>\n",
              "      <td>3</td>\n",
              "      <td>0</td>\n",
              "    </tr>\n",
              "    <tr>\n",
              "      <th>3</th>\n",
              "      <td>0</td>\n",
              "      <td>848.65</td>\n",
              "      <td>77.0</td>\n",
              "      <td>1,500</td>\n",
              "      <td>6</td>\n",
              "      <td>221.53</td>\n",
              "      <td>3422.423333</td>\n",
              "      <td>MALE</td>\n",
              "      <td>S</td>\n",
              "      <td>3</td>\n",
              "      <td>4</td>\n",
              "      <td>0</td>\n",
              "    </tr>\n",
              "    <tr>\n",
              "      <th>4</th>\n",
              "      <td>0</td>\n",
              "      <td>470.52</td>\n",
              "      <td>82.0</td>\n",
              "      <td>1,000</td>\n",
              "      <td>3</td>\n",
              "      <td>91.34</td>\n",
              "      <td>1882.090000</td>\n",
              "      <td>FEMALE</td>\n",
              "      <td>S</td>\n",
              "      <td>3</td>\n",
              "      <td>4</td>\n",
              "      <td>1</td>\n",
              "    </tr>\n",
              "  </tbody>\n",
              "</table>\n",
              "</div>"
            ],
            "text/plain": [
              "   target monthly_debt_capacity  ...  person_degree_type_desc default_request_term\n",
              "0       1                252.39  ...                        3                    1\n",
              "1       1                244.57  ...                        3                    0\n",
              "2       0                 491.5  ...                        3                    0\n",
              "3       0                848.65  ...                        4                    0\n",
              "4       0                470.52  ...                        4                    1\n",
              "\n",
              "[5 rows x 12 columns]"
            ]
          },
          "metadata": {
            "tags": []
          },
          "execution_count": 109
        }
      ]
    },
    {
      "cell_type": "code",
      "metadata": {
        "id": "E9kHGQCi9PCU",
        "outputId": "38b03e88-1ef6-4c78-b85b-2da8ba4ffa81",
        "colab": {
          "base_uri": "https://localhost:8080/",
          "height": 224
        }
      },
      "source": [
        "genero = {'MALE': 0, 'FEMALE': 1, 0: 0, 1: 1}\n",
        "estado = {'C': 0 , 'S': 1, 'D': 2, 'V': 3, 0:0,1:1,2:2,3:3}\n",
        "data.person_gender = [genero[item] for item in data.person_gender]\n",
        "data.credit_history_marital_status = [estado[item] for item in data.credit_history_marital_status]\n",
        "data.credit_history_marital_status = [estado[item] for item in data.credit_history_marital_status]\n",
        "data.head()"
      ],
      "execution_count": 110,
      "outputs": [
        {
          "output_type": "execute_result",
          "data": {
            "text/html": [
              "<div>\n",
              "<style scoped>\n",
              "    .dataframe tbody tr th:only-of-type {\n",
              "        vertical-align: middle;\n",
              "    }\n",
              "\n",
              "    .dataframe tbody tr th {\n",
              "        vertical-align: top;\n",
              "    }\n",
              "\n",
              "    .dataframe thead th {\n",
              "        text-align: right;\n",
              "    }\n",
              "</style>\n",
              "<table border=\"1\" class=\"dataframe\">\n",
              "  <thead>\n",
              "    <tr style=\"text-align: right;\">\n",
              "      <th></th>\n",
              "      <th>target</th>\n",
              "      <th>monthly_debt_capacity</th>\n",
              "      <th>var_employment_time_in_months</th>\n",
              "      <th>approved_amount</th>\n",
              "      <th>approved_term</th>\n",
              "      <th>approved_interest_amount</th>\n",
              "      <th>var_net_income</th>\n",
              "      <th>person_gender</th>\n",
              "      <th>credit_history_marital_status</th>\n",
              "      <th>var_max_sbs_qual_12m</th>\n",
              "      <th>person_degree_type_desc</th>\n",
              "      <th>default_request_term</th>\n",
              "    </tr>\n",
              "  </thead>\n",
              "  <tbody>\n",
              "    <tr>\n",
              "      <th>0</th>\n",
              "      <td>1</td>\n",
              "      <td>252.39</td>\n",
              "      <td>9.0</td>\n",
              "      <td>1,200</td>\n",
              "      <td>6</td>\n",
              "      <td>289.11</td>\n",
              "      <td>1140.125000</td>\n",
              "      <td>0</td>\n",
              "      <td>0</td>\n",
              "      <td>3</td>\n",
              "      <td>3</td>\n",
              "      <td>1</td>\n",
              "    </tr>\n",
              "    <tr>\n",
              "      <th>1</th>\n",
              "      <td>1</td>\n",
              "      <td>244.57</td>\n",
              "      <td>50.0</td>\n",
              "      <td>2,200</td>\n",
              "      <td>12</td>\n",
              "      <td>696.15</td>\n",
              "      <td>1061.375000</td>\n",
              "      <td>1</td>\n",
              "      <td>1</td>\n",
              "      <td>3</td>\n",
              "      <td>3</td>\n",
              "      <td>0</td>\n",
              "    </tr>\n",
              "    <tr>\n",
              "      <th>2</th>\n",
              "      <td>0</td>\n",
              "      <td>491.5</td>\n",
              "      <td>64.0</td>\n",
              "      <td>1,000</td>\n",
              "      <td>3</td>\n",
              "      <td>84.99</td>\n",
              "      <td>2082.196667</td>\n",
              "      <td>1</td>\n",
              "      <td>1</td>\n",
              "      <td>3</td>\n",
              "      <td>3</td>\n",
              "      <td>0</td>\n",
              "    </tr>\n",
              "    <tr>\n",
              "      <th>3</th>\n",
              "      <td>0</td>\n",
              "      <td>848.65</td>\n",
              "      <td>77.0</td>\n",
              "      <td>1,500</td>\n",
              "      <td>6</td>\n",
              "      <td>221.53</td>\n",
              "      <td>3422.423333</td>\n",
              "      <td>0</td>\n",
              "      <td>1</td>\n",
              "      <td>3</td>\n",
              "      <td>4</td>\n",
              "      <td>0</td>\n",
              "    </tr>\n",
              "    <tr>\n",
              "      <th>4</th>\n",
              "      <td>0</td>\n",
              "      <td>470.52</td>\n",
              "      <td>82.0</td>\n",
              "      <td>1,000</td>\n",
              "      <td>3</td>\n",
              "      <td>91.34</td>\n",
              "      <td>1882.090000</td>\n",
              "      <td>1</td>\n",
              "      <td>1</td>\n",
              "      <td>3</td>\n",
              "      <td>4</td>\n",
              "      <td>1</td>\n",
              "    </tr>\n",
              "  </tbody>\n",
              "</table>\n",
              "</div>"
            ],
            "text/plain": [
              "   target monthly_debt_capacity  ...  person_degree_type_desc default_request_term\n",
              "0       1                252.39  ...                        3                    1\n",
              "1       1                244.57  ...                        3                    0\n",
              "2       0                 491.5  ...                        3                    0\n",
              "3       0                848.65  ...                        4                    0\n",
              "4       0                470.52  ...                        4                    1\n",
              "\n",
              "[5 rows x 12 columns]"
            ]
          },
          "metadata": {
            "tags": []
          },
          "execution_count": 110
        }
      ]
    },
    {
      "cell_type": "code",
      "metadata": {
        "id": "d8WZmW2F8p4N",
        "outputId": "54e17ba7-9609-42b8-83ed-60f8bbce90ef",
        "colab": {
          "base_uri": "https://localhost:8080/",
          "height": 297
        }
      },
      "source": [
        "data.describe()"
      ],
      "execution_count": 111,
      "outputs": [
        {
          "output_type": "execute_result",
          "data": {
            "text/html": [
              "<div>\n",
              "<style scoped>\n",
              "    .dataframe tbody tr th:only-of-type {\n",
              "        vertical-align: middle;\n",
              "    }\n",
              "\n",
              "    .dataframe tbody tr th {\n",
              "        vertical-align: top;\n",
              "    }\n",
              "\n",
              "    .dataframe thead th {\n",
              "        text-align: right;\n",
              "    }\n",
              "</style>\n",
              "<table border=\"1\" class=\"dataframe\">\n",
              "  <thead>\n",
              "    <tr style=\"text-align: right;\">\n",
              "      <th></th>\n",
              "      <th>target</th>\n",
              "      <th>var_employment_time_in_months</th>\n",
              "      <th>approved_term</th>\n",
              "      <th>var_net_income</th>\n",
              "      <th>person_gender</th>\n",
              "      <th>credit_history_marital_status</th>\n",
              "      <th>var_max_sbs_qual_12m</th>\n",
              "      <th>person_degree_type_desc</th>\n",
              "      <th>default_request_term</th>\n",
              "    </tr>\n",
              "  </thead>\n",
              "  <tbody>\n",
              "    <tr>\n",
              "      <th>count</th>\n",
              "      <td>1719.000000</td>\n",
              "      <td>1519.000000</td>\n",
              "      <td>1719.000000</td>\n",
              "      <td>1719.000000</td>\n",
              "      <td>1719.000000</td>\n",
              "      <td>1719.000000</td>\n",
              "      <td>1719.000000</td>\n",
              "      <td>1719.000000</td>\n",
              "      <td>1719.000000</td>\n",
              "    </tr>\n",
              "    <tr>\n",
              "      <th>mean</th>\n",
              "      <td>0.295521</td>\n",
              "      <td>33.979592</td>\n",
              "      <td>6.464805</td>\n",
              "      <td>2693.545884</td>\n",
              "      <td>0.335079</td>\n",
              "      <td>0.845841</td>\n",
              "      <td>2.613147</td>\n",
              "      <td>2.303083</td>\n",
              "      <td>0.507853</td>\n",
              "    </tr>\n",
              "    <tr>\n",
              "      <th>std</th>\n",
              "      <td>0.456409</td>\n",
              "      <td>26.889423</td>\n",
              "      <td>3.009842</td>\n",
              "      <td>1825.694773</td>\n",
              "      <td>0.472155</td>\n",
              "      <td>0.386130</td>\n",
              "      <td>0.991742</td>\n",
              "      <td>1.845470</td>\n",
              "      <td>0.500084</td>\n",
              "    </tr>\n",
              "    <tr>\n",
              "      <th>min</th>\n",
              "      <td>0.000000</td>\n",
              "      <td>-1.000000</td>\n",
              "      <td>1.000000</td>\n",
              "      <td>0.000000</td>\n",
              "      <td>0.000000</td>\n",
              "      <td>0.000000</td>\n",
              "      <td>0.000000</td>\n",
              "      <td>0.000000</td>\n",
              "      <td>0.000000</td>\n",
              "    </tr>\n",
              "    <tr>\n",
              "      <th>25%</th>\n",
              "      <td>0.000000</td>\n",
              "      <td>11.000000</td>\n",
              "      <td>6.000000</td>\n",
              "      <td>1750.000000</td>\n",
              "      <td>0.000000</td>\n",
              "      <td>1.000000</td>\n",
              "      <td>3.000000</td>\n",
              "      <td>0.000000</td>\n",
              "      <td>0.000000</td>\n",
              "    </tr>\n",
              "    <tr>\n",
              "      <th>50%</th>\n",
              "      <td>0.000000</td>\n",
              "      <td>26.000000</td>\n",
              "      <td>6.000000</td>\n",
              "      <td>2373.758333</td>\n",
              "      <td>0.000000</td>\n",
              "      <td>1.000000</td>\n",
              "      <td>3.000000</td>\n",
              "      <td>3.000000</td>\n",
              "      <td>1.000000</td>\n",
              "    </tr>\n",
              "    <tr>\n",
              "      <th>75%</th>\n",
              "      <td>1.000000</td>\n",
              "      <td>61.000000</td>\n",
              "      <td>6.000000</td>\n",
              "      <td>3075.133333</td>\n",
              "      <td>1.000000</td>\n",
              "      <td>1.000000</td>\n",
              "      <td>3.000000</td>\n",
              "      <td>4.000000</td>\n",
              "      <td>1.000000</td>\n",
              "    </tr>\n",
              "    <tr>\n",
              "      <th>max</th>\n",
              "      <td>1.000000</td>\n",
              "      <td>87.000000</td>\n",
              "      <td>12.000000</td>\n",
              "      <td>28587.000000</td>\n",
              "      <td>1.000000</td>\n",
              "      <td>3.000000</td>\n",
              "      <td>4.000000</td>\n",
              "      <td>4.000000</td>\n",
              "      <td>1.000000</td>\n",
              "    </tr>\n",
              "  </tbody>\n",
              "</table>\n",
              "</div>"
            ],
            "text/plain": [
              "            target  ...  default_request_term\n",
              "count  1719.000000  ...           1719.000000\n",
              "mean      0.295521  ...              0.507853\n",
              "std       0.456409  ...              0.500084\n",
              "min       0.000000  ...              0.000000\n",
              "25%       0.000000  ...              0.000000\n",
              "50%       0.000000  ...              1.000000\n",
              "75%       1.000000  ...              1.000000\n",
              "max       1.000000  ...              1.000000\n",
              "\n",
              "[8 rows x 9 columns]"
            ]
          },
          "metadata": {
            "tags": []
          },
          "execution_count": 111
        }
      ]
    },
    {
      "cell_type": "code",
      "metadata": {
        "id": "ySBnEL6fvQ7n",
        "outputId": "51986d00-697e-48e2-cbc5-cbd4f9d0aac8",
        "colab": {
          "base_uri": "https://localhost:8080/",
          "height": 360
        }
      },
      "source": [
        "indices = []\n",
        "print(\"\\t\\t Features \\t miss values \\t values\")\n",
        "for i in data:\n",
        "  count = 0\n",
        "  for j in range(len(data[i])):\n",
        "    if data[i].dtype == \"float64\":\n",
        "      if np.isnan(data[i][j]):\n",
        "        count +=1\n",
        "        indices.append(j)\n",
        "        data[i][j] = 33.979592\n",
        "  print(\"%30s \\t %10d  %10d\"%(i, count,len(data[i])) )\n",
        "\n",
        "print(indices)"
      ],
      "execution_count": 112,
      "outputs": [
        {
          "output_type": "stream",
          "text": [
            "\t\t Features \t miss values \t values\n",
            "                        target \t          0        1719\n",
            "         monthly_debt_capacity \t          0        1719\n",
            " var_employment_time_in_months \t        200        1719\n",
            "               approved_amount \t          0        1719\n",
            "                 approved_term \t          0        1719\n",
            "      approved_interest_amount \t          0        1719\n",
            "                var_net_income \t          0        1719\n",
            "                 person_gender \t          0        1719\n",
            " credit_history_marital_status \t          0        1719\n",
            "          var_max_sbs_qual_12m \t          0        1719\n",
            "       person_degree_type_desc \t          0        1719\n",
            "          default_request_term \t          0        1719\n",
            "[8, 40, 70, 74, 76, 103, 109, 114, 133, 141, 147, 164, 169, 171, 198, 207, 212, 219, 233, 262, 265, 268, 269, 270, 275, 289, 293, 309, 317, 322, 334, 339, 340, 355, 361, 364, 372, 394, 398, 399, 402, 415, 439, 444, 471, 475, 484, 488, 493, 494, 497, 499, 516, 520, 525, 539, 559, 568, 570, 573, 579, 584, 592, 603, 609, 610, 618, 632, 649, 660, 681, 686, 694, 701, 703, 704, 706, 708, 715, 723, 742, 749, 750, 752, 765, 768, 769, 771, 782, 783, 799, 800, 806, 807, 815, 834, 843, 848, 851, 852, 855, 866, 874, 893, 903, 921, 927, 928, 948, 958, 961, 968, 969, 970, 984, 986, 987, 996, 998, 1001, 1015, 1020, 1048, 1049, 1050, 1071, 1075, 1079, 1080, 1091, 1109, 1131, 1143, 1145, 1164, 1166, 1168, 1180, 1183, 1196, 1214, 1219, 1235, 1247, 1252, 1289, 1292, 1301, 1305, 1306, 1312, 1329, 1330, 1331, 1337, 1347, 1367, 1369, 1372, 1375, 1382, 1387, 1392, 1398, 1407, 1411, 1434, 1444, 1451, 1454, 1476, 1481, 1482, 1483, 1489, 1490, 1494, 1498, 1505, 1520, 1525, 1526, 1542, 1544, 1549, 1552, 1558, 1572, 1582, 1603, 1609, 1612, 1639, 1642, 1643, 1656, 1661, 1672, 1679, 1712]\n"
          ],
          "name": "stdout"
        },
        {
          "output_type": "stream",
          "text": [
            "/usr/local/lib/python3.6/dist-packages/ipykernel_launcher.py:10: SettingWithCopyWarning: \n",
            "A value is trying to be set on a copy of a slice from a DataFrame\n",
            "\n",
            "See the caveats in the documentation: https://pandas.pydata.org/pandas-docs/stable/user_guide/indexing.html#returning-a-view-versus-a-copy\n",
            "  # Remove the CWD from sys.path while we load stuff.\n"
          ],
          "name": "stderr"
        }
      ]
    },
    {
      "cell_type": "code",
      "metadata": {
        "id": "lN1pLnchD76i",
        "outputId": "491b85ee-ae89-4223-c37c-139c015b0c3c",
        "colab": {
          "base_uri": "https://localhost:8080/",
          "height": 379
        }
      },
      "source": [
        "data.head(10)"
      ],
      "execution_count": 113,
      "outputs": [
        {
          "output_type": "execute_result",
          "data": {
            "text/html": [
              "<div>\n",
              "<style scoped>\n",
              "    .dataframe tbody tr th:only-of-type {\n",
              "        vertical-align: middle;\n",
              "    }\n",
              "\n",
              "    .dataframe tbody tr th {\n",
              "        vertical-align: top;\n",
              "    }\n",
              "\n",
              "    .dataframe thead th {\n",
              "        text-align: right;\n",
              "    }\n",
              "</style>\n",
              "<table border=\"1\" class=\"dataframe\">\n",
              "  <thead>\n",
              "    <tr style=\"text-align: right;\">\n",
              "      <th></th>\n",
              "      <th>target</th>\n",
              "      <th>monthly_debt_capacity</th>\n",
              "      <th>var_employment_time_in_months</th>\n",
              "      <th>approved_amount</th>\n",
              "      <th>approved_term</th>\n",
              "      <th>approved_interest_amount</th>\n",
              "      <th>var_net_income</th>\n",
              "      <th>person_gender</th>\n",
              "      <th>credit_history_marital_status</th>\n",
              "      <th>var_max_sbs_qual_12m</th>\n",
              "      <th>person_degree_type_desc</th>\n",
              "      <th>default_request_term</th>\n",
              "    </tr>\n",
              "  </thead>\n",
              "  <tbody>\n",
              "    <tr>\n",
              "      <th>0</th>\n",
              "      <td>1</td>\n",
              "      <td>252.39</td>\n",
              "      <td>9.000000</td>\n",
              "      <td>1,200</td>\n",
              "      <td>6</td>\n",
              "      <td>289.11</td>\n",
              "      <td>1140.125000</td>\n",
              "      <td>0</td>\n",
              "      <td>0</td>\n",
              "      <td>3</td>\n",
              "      <td>3</td>\n",
              "      <td>1</td>\n",
              "    </tr>\n",
              "    <tr>\n",
              "      <th>1</th>\n",
              "      <td>1</td>\n",
              "      <td>244.57</td>\n",
              "      <td>50.000000</td>\n",
              "      <td>2,200</td>\n",
              "      <td>12</td>\n",
              "      <td>696.15</td>\n",
              "      <td>1061.375000</td>\n",
              "      <td>1</td>\n",
              "      <td>1</td>\n",
              "      <td>3</td>\n",
              "      <td>3</td>\n",
              "      <td>0</td>\n",
              "    </tr>\n",
              "    <tr>\n",
              "      <th>2</th>\n",
              "      <td>0</td>\n",
              "      <td>491.5</td>\n",
              "      <td>64.000000</td>\n",
              "      <td>1,000</td>\n",
              "      <td>3</td>\n",
              "      <td>84.99</td>\n",
              "      <td>2082.196667</td>\n",
              "      <td>1</td>\n",
              "      <td>1</td>\n",
              "      <td>3</td>\n",
              "      <td>3</td>\n",
              "      <td>0</td>\n",
              "    </tr>\n",
              "    <tr>\n",
              "      <th>3</th>\n",
              "      <td>0</td>\n",
              "      <td>848.65</td>\n",
              "      <td>77.000000</td>\n",
              "      <td>1,500</td>\n",
              "      <td>6</td>\n",
              "      <td>221.53</td>\n",
              "      <td>3422.423333</td>\n",
              "      <td>0</td>\n",
              "      <td>1</td>\n",
              "      <td>3</td>\n",
              "      <td>4</td>\n",
              "      <td>0</td>\n",
              "    </tr>\n",
              "    <tr>\n",
              "      <th>4</th>\n",
              "      <td>0</td>\n",
              "      <td>470.52</td>\n",
              "      <td>82.000000</td>\n",
              "      <td>1,000</td>\n",
              "      <td>3</td>\n",
              "      <td>91.34</td>\n",
              "      <td>1882.090000</td>\n",
              "      <td>1</td>\n",
              "      <td>1</td>\n",
              "      <td>3</td>\n",
              "      <td>4</td>\n",
              "      <td>1</td>\n",
              "    </tr>\n",
              "    <tr>\n",
              "      <th>5</th>\n",
              "      <td>0</td>\n",
              "      <td>490.77</td>\n",
              "      <td>79.000000</td>\n",
              "      <td>1,500</td>\n",
              "      <td>6</td>\n",
              "      <td>221.53</td>\n",
              "      <td>2448.016667</td>\n",
              "      <td>0</td>\n",
              "      <td>1</td>\n",
              "      <td>3</td>\n",
              "      <td>0</td>\n",
              "      <td>1</td>\n",
              "    </tr>\n",
              "    <tr>\n",
              "      <th>6</th>\n",
              "      <td>0</td>\n",
              "      <td>428.57</td>\n",
              "      <td>71.000000</td>\n",
              "      <td>4,000</td>\n",
              "      <td>12</td>\n",
              "      <td>1,109.56</td>\n",
              "      <td>1803.923333</td>\n",
              "      <td>1</td>\n",
              "      <td>1</td>\n",
              "      <td>3</td>\n",
              "      <td>4</td>\n",
              "      <td>0</td>\n",
              "    </tr>\n",
              "    <tr>\n",
              "      <th>7</th>\n",
              "      <td>1</td>\n",
              "      <td>647.87</td>\n",
              "      <td>4.000000</td>\n",
              "      <td>1,200</td>\n",
              "      <td>6</td>\n",
              "      <td>289.11</td>\n",
              "      <td>2660.630000</td>\n",
              "      <td>0</td>\n",
              "      <td>1</td>\n",
              "      <td>3</td>\n",
              "      <td>3</td>\n",
              "      <td>1</td>\n",
              "    </tr>\n",
              "    <tr>\n",
              "      <th>8</th>\n",
              "      <td>0</td>\n",
              "      <td>694.23</td>\n",
              "      <td>33.979592</td>\n",
              "      <td>900</td>\n",
              "      <td>6</td>\n",
              "      <td>149.79</td>\n",
              "      <td>2912.158333</td>\n",
              "      <td>1</td>\n",
              "      <td>0</td>\n",
              "      <td>0</td>\n",
              "      <td>4</td>\n",
              "      <td>1</td>\n",
              "    </tr>\n",
              "    <tr>\n",
              "      <th>9</th>\n",
              "      <td>1</td>\n",
              "      <td>209.48</td>\n",
              "      <td>77.000000</td>\n",
              "      <td>1,000</td>\n",
              "      <td>6</td>\n",
              "      <td>152.32</td>\n",
              "      <td>2498.043333</td>\n",
              "      <td>0</td>\n",
              "      <td>1</td>\n",
              "      <td>3</td>\n",
              "      <td>3</td>\n",
              "      <td>1</td>\n",
              "    </tr>\n",
              "  </tbody>\n",
              "</table>\n",
              "</div>"
            ],
            "text/plain": [
              "   target monthly_debt_capacity  ...  person_degree_type_desc default_request_term\n",
              "0       1                252.39  ...                        3                    1\n",
              "1       1                244.57  ...                        3                    0\n",
              "2       0                 491.5  ...                        3                    0\n",
              "3       0                848.65  ...                        4                    0\n",
              "4       0                470.52  ...                        4                    1\n",
              "5       0                490.77  ...                        0                    1\n",
              "6       0                428.57  ...                        4                    0\n",
              "7       1                647.87  ...                        3                    1\n",
              "8       0                694.23  ...                        4                    1\n",
              "9       1                209.48  ...                        3                    1\n",
              "\n",
              "[10 rows x 12 columns]"
            ]
          },
          "metadata": {
            "tags": []
          },
          "execution_count": 113
        }
      ]
    },
    {
      "cell_type": "code",
      "metadata": {
        "id": "2tei7LwlrLeM"
      },
      "source": [
        "# import numpy as np\n",
        "# from sklearn.impute import SimpleImputer\n",
        "\n",
        "# imp = SimpleImputer(missing_values=np.nan, strategy='mean')\n",
        "# imp.fit_transform(data)"
      ],
      "execution_count": 114,
      "outputs": []
    },
    {
      "cell_type": "code",
      "metadata": {
        "id": "VcEQOpgf4sFe",
        "outputId": "82ca059b-a94a-4505-bf1b-b7689e13f5ee",
        "colab": {
          "base_uri": "https://localhost:8080/",
          "height": 238
        }
      },
      "source": [
        "data.dtypes"
      ],
      "execution_count": 115,
      "outputs": [
        {
          "output_type": "execute_result",
          "data": {
            "text/plain": [
              "target                             int64\n",
              "monthly_debt_capacity             object\n",
              "var_employment_time_in_months    float64\n",
              "approved_amount                   object\n",
              "approved_term                      int64\n",
              "approved_interest_amount          object\n",
              "var_net_income                   float64\n",
              "person_gender                      int64\n",
              "credit_history_marital_status      int64\n",
              "var_max_sbs_qual_12m                int8\n",
              "person_degree_type_desc             int8\n",
              "default_request_term               int64\n",
              "dtype: object"
            ]
          },
          "metadata": {
            "tags": []
          },
          "execution_count": 115
        }
      ]
    },
    {
      "cell_type": "code",
      "metadata": {
        "id": "17SL8h9jG9zZ",
        "outputId": "286b36c1-3d61-40e9-9e28-2c5de69ec4e5",
        "colab": {
          "base_uri": "https://localhost:8080/",
          "height": 102
        }
      },
      "source": [
        "for i in data:\n",
        "  for j in range(len(data[i])):\n",
        "    if type(data[i][j]) == str:\n",
        "      data[i][j] = data[i][j].replace(',', '')"
      ],
      "execution_count": 116,
      "outputs": [
        {
          "output_type": "stream",
          "text": [
            "/usr/local/lib/python3.6/dist-packages/ipykernel_launcher.py:4: SettingWithCopyWarning: \n",
            "A value is trying to be set on a copy of a slice from a DataFrame\n",
            "\n",
            "See the caveats in the documentation: https://pandas.pydata.org/pandas-docs/stable/user_guide/indexing.html#returning-a-view-versus-a-copy\n",
            "  after removing the cwd from sys.path.\n"
          ],
          "name": "stderr"
        }
      ]
    },
    {
      "cell_type": "code",
      "metadata": {
        "id": "zhe75PcBOLip"
      },
      "source": [
        "for i in data:\n",
        "  if data[i].dtype == object:\n",
        "    data[i] = pd.to_numeric(data[i])"
      ],
      "execution_count": 117,
      "outputs": []
    },
    {
      "cell_type": "code",
      "metadata": {
        "id": "_CrQYRQZ5jWN"
      },
      "source": [
        "x_train = data.iloc[:1300,1:]\n",
        "y_train = data.iloc[:1300,0]\n",
        "x_test = data.iloc[1300:,1:]\n",
        "y_test = data.iloc[1300:,0]"
      ],
      "execution_count": 118,
      "outputs": []
    },
    {
      "cell_type": "code",
      "metadata": {
        "id": "1ItdHjfsvQLY",
        "outputId": "ee4a3289-6a3e-44a3-9545-20e38972ba39",
        "colab": {
          "base_uri": "https://localhost:8080/",
          "height": 844
        }
      },
      "source": [
        "x_train.head(25)"
      ],
      "execution_count": 119,
      "outputs": [
        {
          "output_type": "execute_result",
          "data": {
            "text/html": [
              "<div>\n",
              "<style scoped>\n",
              "    .dataframe tbody tr th:only-of-type {\n",
              "        vertical-align: middle;\n",
              "    }\n",
              "\n",
              "    .dataframe tbody tr th {\n",
              "        vertical-align: top;\n",
              "    }\n",
              "\n",
              "    .dataframe thead th {\n",
              "        text-align: right;\n",
              "    }\n",
              "</style>\n",
              "<table border=\"1\" class=\"dataframe\">\n",
              "  <thead>\n",
              "    <tr style=\"text-align: right;\">\n",
              "      <th></th>\n",
              "      <th>monthly_debt_capacity</th>\n",
              "      <th>var_employment_time_in_months</th>\n",
              "      <th>approved_amount</th>\n",
              "      <th>approved_term</th>\n",
              "      <th>approved_interest_amount</th>\n",
              "      <th>var_net_income</th>\n",
              "      <th>person_gender</th>\n",
              "      <th>credit_history_marital_status</th>\n",
              "      <th>var_max_sbs_qual_12m</th>\n",
              "      <th>person_degree_type_desc</th>\n",
              "      <th>default_request_term</th>\n",
              "    </tr>\n",
              "  </thead>\n",
              "  <tbody>\n",
              "    <tr>\n",
              "      <th>0</th>\n",
              "      <td>252.39</td>\n",
              "      <td>9.000000</td>\n",
              "      <td>1200</td>\n",
              "      <td>6</td>\n",
              "      <td>289.11</td>\n",
              "      <td>1140.125000</td>\n",
              "      <td>0</td>\n",
              "      <td>0</td>\n",
              "      <td>3</td>\n",
              "      <td>3</td>\n",
              "      <td>1</td>\n",
              "    </tr>\n",
              "    <tr>\n",
              "      <th>1</th>\n",
              "      <td>244.57</td>\n",
              "      <td>50.000000</td>\n",
              "      <td>2200</td>\n",
              "      <td>12</td>\n",
              "      <td>696.15</td>\n",
              "      <td>1061.375000</td>\n",
              "      <td>1</td>\n",
              "      <td>1</td>\n",
              "      <td>3</td>\n",
              "      <td>3</td>\n",
              "      <td>0</td>\n",
              "    </tr>\n",
              "    <tr>\n",
              "      <th>2</th>\n",
              "      <td>491.50</td>\n",
              "      <td>64.000000</td>\n",
              "      <td>1000</td>\n",
              "      <td>3</td>\n",
              "      <td>84.99</td>\n",
              "      <td>2082.196667</td>\n",
              "      <td>1</td>\n",
              "      <td>1</td>\n",
              "      <td>3</td>\n",
              "      <td>3</td>\n",
              "      <td>0</td>\n",
              "    </tr>\n",
              "    <tr>\n",
              "      <th>3</th>\n",
              "      <td>848.65</td>\n",
              "      <td>77.000000</td>\n",
              "      <td>1500</td>\n",
              "      <td>6</td>\n",
              "      <td>221.53</td>\n",
              "      <td>3422.423333</td>\n",
              "      <td>0</td>\n",
              "      <td>1</td>\n",
              "      <td>3</td>\n",
              "      <td>4</td>\n",
              "      <td>0</td>\n",
              "    </tr>\n",
              "    <tr>\n",
              "      <th>4</th>\n",
              "      <td>470.52</td>\n",
              "      <td>82.000000</td>\n",
              "      <td>1000</td>\n",
              "      <td>3</td>\n",
              "      <td>91.34</td>\n",
              "      <td>1882.090000</td>\n",
              "      <td>1</td>\n",
              "      <td>1</td>\n",
              "      <td>3</td>\n",
              "      <td>4</td>\n",
              "      <td>1</td>\n",
              "    </tr>\n",
              "    <tr>\n",
              "      <th>5</th>\n",
              "      <td>490.77</td>\n",
              "      <td>79.000000</td>\n",
              "      <td>1500</td>\n",
              "      <td>6</td>\n",
              "      <td>221.53</td>\n",
              "      <td>2448.016667</td>\n",
              "      <td>0</td>\n",
              "      <td>1</td>\n",
              "      <td>3</td>\n",
              "      <td>0</td>\n",
              "      <td>1</td>\n",
              "    </tr>\n",
              "    <tr>\n",
              "      <th>6</th>\n",
              "      <td>428.57</td>\n",
              "      <td>71.000000</td>\n",
              "      <td>4000</td>\n",
              "      <td>12</td>\n",
              "      <td>1109.56</td>\n",
              "      <td>1803.923333</td>\n",
              "      <td>1</td>\n",
              "      <td>1</td>\n",
              "      <td>3</td>\n",
              "      <td>4</td>\n",
              "      <td>0</td>\n",
              "    </tr>\n",
              "    <tr>\n",
              "      <th>7</th>\n",
              "      <td>647.87</td>\n",
              "      <td>4.000000</td>\n",
              "      <td>1200</td>\n",
              "      <td>6</td>\n",
              "      <td>289.11</td>\n",
              "      <td>2660.630000</td>\n",
              "      <td>0</td>\n",
              "      <td>1</td>\n",
              "      <td>3</td>\n",
              "      <td>3</td>\n",
              "      <td>1</td>\n",
              "    </tr>\n",
              "    <tr>\n",
              "      <th>8</th>\n",
              "      <td>694.23</td>\n",
              "      <td>33.979592</td>\n",
              "      <td>900</td>\n",
              "      <td>6</td>\n",
              "      <td>149.79</td>\n",
              "      <td>2912.158333</td>\n",
              "      <td>1</td>\n",
              "      <td>0</td>\n",
              "      <td>0</td>\n",
              "      <td>4</td>\n",
              "      <td>1</td>\n",
              "    </tr>\n",
              "    <tr>\n",
              "      <th>9</th>\n",
              "      <td>209.48</td>\n",
              "      <td>77.000000</td>\n",
              "      <td>1000</td>\n",
              "      <td>6</td>\n",
              "      <td>152.32</td>\n",
              "      <td>2498.043333</td>\n",
              "      <td>0</td>\n",
              "      <td>1</td>\n",
              "      <td>3</td>\n",
              "      <td>3</td>\n",
              "      <td>1</td>\n",
              "    </tr>\n",
              "    <tr>\n",
              "      <th>10</th>\n",
              "      <td>740.53</td>\n",
              "      <td>43.000000</td>\n",
              "      <td>600</td>\n",
              "      <td>4</td>\n",
              "      <td>61.97</td>\n",
              "      <td>4339.761667</td>\n",
              "      <td>0</td>\n",
              "      <td>1</td>\n",
              "      <td>3</td>\n",
              "      <td>4</td>\n",
              "      <td>0</td>\n",
              "    </tr>\n",
              "    <tr>\n",
              "      <th>11</th>\n",
              "      <td>256.66</td>\n",
              "      <td>73.000000</td>\n",
              "      <td>1200</td>\n",
              "      <td>6</td>\n",
              "      <td>289.11</td>\n",
              "      <td>2279.176667</td>\n",
              "      <td>1</td>\n",
              "      <td>1</td>\n",
              "      <td>0</td>\n",
              "      <td>3</td>\n",
              "      <td>0</td>\n",
              "    </tr>\n",
              "    <tr>\n",
              "      <th>12</th>\n",
              "      <td>211.16</td>\n",
              "      <td>5.000000</td>\n",
              "      <td>1000</td>\n",
              "      <td>6</td>\n",
              "      <td>240.92</td>\n",
              "      <td>1204.875000</td>\n",
              "      <td>1</td>\n",
              "      <td>1</td>\n",
              "      <td>0</td>\n",
              "      <td>3</td>\n",
              "      <td>0</td>\n",
              "    </tr>\n",
              "    <tr>\n",
              "      <th>13</th>\n",
              "      <td>214.08</td>\n",
              "      <td>14.000000</td>\n",
              "      <td>1000</td>\n",
              "      <td>6</td>\n",
              "      <td>240.92</td>\n",
              "      <td>1312.500000</td>\n",
              "      <td>0</td>\n",
              "      <td>1</td>\n",
              "      <td>0</td>\n",
              "      <td>0</td>\n",
              "      <td>1</td>\n",
              "    </tr>\n",
              "    <tr>\n",
              "      <th>14</th>\n",
              "      <td>298.90</td>\n",
              "      <td>12.000000</td>\n",
              "      <td>1400</td>\n",
              "      <td>6</td>\n",
              "      <td>207.69</td>\n",
              "      <td>1875.000000</td>\n",
              "      <td>0</td>\n",
              "      <td>1</td>\n",
              "      <td>3</td>\n",
              "      <td>4</td>\n",
              "      <td>1</td>\n",
              "    </tr>\n",
              "    <tr>\n",
              "      <th>15</th>\n",
              "      <td>462.32</td>\n",
              "      <td>28.000000</td>\n",
              "      <td>1000</td>\n",
              "      <td>3</td>\n",
              "      <td>84.99</td>\n",
              "      <td>1849.260000</td>\n",
              "      <td>0</td>\n",
              "      <td>1</td>\n",
              "      <td>3</td>\n",
              "      <td>4</td>\n",
              "      <td>1</td>\n",
              "    </tr>\n",
              "    <tr>\n",
              "      <th>16</th>\n",
              "      <td>284.24</td>\n",
              "      <td>58.000000</td>\n",
              "      <td>1300</td>\n",
              "      <td>6</td>\n",
              "      <td>313.20</td>\n",
              "      <td>2841.976667</td>\n",
              "      <td>1</td>\n",
              "      <td>0</td>\n",
              "      <td>3</td>\n",
              "      <td>4</td>\n",
              "      <td>1</td>\n",
              "    </tr>\n",
              "    <tr>\n",
              "      <th>17</th>\n",
              "      <td>223.24</td>\n",
              "      <td>33.000000</td>\n",
              "      <td>1000</td>\n",
              "      <td>6</td>\n",
              "      <td>152.32</td>\n",
              "      <td>2157.236667</td>\n",
              "      <td>0</td>\n",
              "      <td>1</td>\n",
              "      <td>3</td>\n",
              "      <td>4</td>\n",
              "      <td>0</td>\n",
              "    </tr>\n",
              "    <tr>\n",
              "      <th>18</th>\n",
              "      <td>304.33</td>\n",
              "      <td>81.000000</td>\n",
              "      <td>700</td>\n",
              "      <td>3</td>\n",
              "      <td>62.07</td>\n",
              "      <td>2163.490000</td>\n",
              "      <td>0</td>\n",
              "      <td>1</td>\n",
              "      <td>3</td>\n",
              "      <td>0</td>\n",
              "      <td>0</td>\n",
              "    </tr>\n",
              "    <tr>\n",
              "      <th>19</th>\n",
              "      <td>567.25</td>\n",
              "      <td>8.000000</td>\n",
              "      <td>1000</td>\n",
              "      <td>3</td>\n",
              "      <td>84.99</td>\n",
              "      <td>2309.836667</td>\n",
              "      <td>0</td>\n",
              "      <td>1</td>\n",
              "      <td>3</td>\n",
              "      <td>4</td>\n",
              "      <td>0</td>\n",
              "    </tr>\n",
              "    <tr>\n",
              "      <th>20</th>\n",
              "      <td>610.52</td>\n",
              "      <td>19.000000</td>\n",
              "      <td>2500</td>\n",
              "      <td>6</td>\n",
              "      <td>360.78</td>\n",
              "      <td>2775.535000</td>\n",
              "      <td>1</td>\n",
              "      <td>1</td>\n",
              "      <td>3</td>\n",
              "      <td>0</td>\n",
              "      <td>0</td>\n",
              "    </tr>\n",
              "    <tr>\n",
              "      <th>21</th>\n",
              "      <td>1790.34</td>\n",
              "      <td>14.000000</td>\n",
              "      <td>1000</td>\n",
              "      <td>3</td>\n",
              "      <td>64.48</td>\n",
              "      <td>6118.708333</td>\n",
              "      <td>0</td>\n",
              "      <td>1</td>\n",
              "      <td>0</td>\n",
              "      <td>1</td>\n",
              "      <td>0</td>\n",
              "    </tr>\n",
              "    <tr>\n",
              "      <th>22</th>\n",
              "      <td>695.81</td>\n",
              "      <td>54.000000</td>\n",
              "      <td>3000</td>\n",
              "      <td>6</td>\n",
              "      <td>429.99</td>\n",
              "      <td>4487.788333</td>\n",
              "      <td>0</td>\n",
              "      <td>0</td>\n",
              "      <td>0</td>\n",
              "      <td>0</td>\n",
              "      <td>1</td>\n",
              "    </tr>\n",
              "    <tr>\n",
              "      <th>23</th>\n",
              "      <td>1462.75</td>\n",
              "      <td>80.000000</td>\n",
              "      <td>500</td>\n",
              "      <td>1</td>\n",
              "      <td>23.05</td>\n",
              "      <td>3480.068333</td>\n",
              "      <td>0</td>\n",
              "      <td>1</td>\n",
              "      <td>3</td>\n",
              "      <td>4</td>\n",
              "      <td>0</td>\n",
              "    </tr>\n",
              "    <tr>\n",
              "      <th>24</th>\n",
              "      <td>463.80</td>\n",
              "      <td>4.000000</td>\n",
              "      <td>4200</td>\n",
              "      <td>12</td>\n",
              "      <td>1288.25</td>\n",
              "      <td>1740.375000</td>\n",
              "      <td>1</td>\n",
              "      <td>1</td>\n",
              "      <td>3</td>\n",
              "      <td>3</td>\n",
              "      <td>0</td>\n",
              "    </tr>\n",
              "  </tbody>\n",
              "</table>\n",
              "</div>"
            ],
            "text/plain": [
              "    monthly_debt_capacity  ...  default_request_term\n",
              "0                  252.39  ...                     1\n",
              "1                  244.57  ...                     0\n",
              "2                  491.50  ...                     0\n",
              "3                  848.65  ...                     0\n",
              "4                  470.52  ...                     1\n",
              "5                  490.77  ...                     1\n",
              "6                  428.57  ...                     0\n",
              "7                  647.87  ...                     1\n",
              "8                  694.23  ...                     1\n",
              "9                  209.48  ...                     1\n",
              "10                 740.53  ...                     0\n",
              "11                 256.66  ...                     0\n",
              "12                 211.16  ...                     0\n",
              "13                 214.08  ...                     1\n",
              "14                 298.90  ...                     1\n",
              "15                 462.32  ...                     1\n",
              "16                 284.24  ...                     1\n",
              "17                 223.24  ...                     0\n",
              "18                 304.33  ...                     0\n",
              "19                 567.25  ...                     0\n",
              "20                 610.52  ...                     0\n",
              "21                1790.34  ...                     0\n",
              "22                 695.81  ...                     1\n",
              "23                1462.75  ...                     0\n",
              "24                 463.80  ...                     0\n",
              "\n",
              "[25 rows x 11 columns]"
            ]
          },
          "metadata": {
            "tags": []
          },
          "execution_count": 119
        }
      ]
    },
    {
      "cell_type": "code",
      "metadata": {
        "id": "2GuSPi3kJoJc",
        "outputId": "07cefbd8-a702-47bb-c002-28ad7d57ed20",
        "colab": {
          "base_uri": "https://localhost:8080/",
          "height": 238
        }
      },
      "source": [
        "data.dtypes"
      ],
      "execution_count": 120,
      "outputs": [
        {
          "output_type": "execute_result",
          "data": {
            "text/plain": [
              "target                             int64\n",
              "monthly_debt_capacity            float64\n",
              "var_employment_time_in_months    float64\n",
              "approved_amount                    int64\n",
              "approved_term                      int64\n",
              "approved_interest_amount         float64\n",
              "var_net_income                   float64\n",
              "person_gender                      int64\n",
              "credit_history_marital_status      int64\n",
              "var_max_sbs_qual_12m                int8\n",
              "person_degree_type_desc             int8\n",
              "default_request_term               int64\n",
              "dtype: object"
            ]
          },
          "metadata": {
            "tags": []
          },
          "execution_count": 120
        }
      ]
    },
    {
      "cell_type": "code",
      "metadata": {
        "id": "ZErZj94OFJoL"
      },
      "source": [
        "import tensorflow as tf\n",
        "from tensorflow import keras\n",
        "from tensorflow.keras import Sequential\n",
        "from tensorflow.keras.layers import Dense\n",
        "from keras.engine.saving import load_model\n",
        "from tensorflow.keras.optimizers import Adam"
      ],
      "execution_count": 142,
      "outputs": []
    },
    {
      "cell_type": "code",
      "metadata": {
        "id": "4qZuct_oHMC_"
      },
      "source": [
        "from sklearn.model_selection import cross_val_score\n",
        "from sklearn.metrics import classification_report, confusion_matrix, accuracy_score\n",
        "from sklearn.ensemble import RandomForestRegressor\n",
        "\n",
        "def embedded(x_,y_):\n",
        "    rf = RandomForestRegressor()\n",
        "    rf.fit(x_, y_)\n",
        "    scores_ = rf.feature_importances_\n",
        "    columnsEmbeding = []\n",
        "    tupla = []\n",
        "    for i in range(len(scores_)):\n",
        "        tupla.append( (x_.columns[i], scores_[i]) )\n",
        "    tupla.sort(key=lambda tup: tup[1])\n",
        "    for i in range(8):\n",
        "        columnsEmbeding.append(tupla[i][0])\n",
        "    return columnsEmbeding"
      ],
      "execution_count": 122,
      "outputs": []
    },
    {
      "cell_type": "code",
      "metadata": {
        "id": "dx2Lu-MuHgTf",
        "outputId": "8baa840d-57d0-410d-869a-1d4a714ddc67",
        "colab": {
          "base_uri": "https://localhost:8080/",
          "height": 153
        }
      },
      "source": [
        "columns = embedded(x_train,y_train)\n",
        "columns"
      ],
      "execution_count": 123,
      "outputs": [
        {
          "output_type": "execute_result",
          "data": {
            "text/plain": [
              "['approved_term',\n",
              " 'var_max_sbs_qual_12m',\n",
              " 'default_request_term',\n",
              " 'credit_history_marital_status',\n",
              " 'person_gender',\n",
              " 'person_degree_type_desc',\n",
              " 'approved_amount',\n",
              " 'var_employment_time_in_months']"
            ]
          },
          "metadata": {
            "tags": []
          },
          "execution_count": 123
        }
      ]
    },
    {
      "cell_type": "code",
      "metadata": {
        "id": "yvg3QCKQJyot",
        "outputId": "07dc3b3d-2ca2-46eb-9ffd-e5ea0dcbada4",
        "colab": {
          "base_uri": "https://localhost:8080/",
          "height": 285
        }
      },
      "source": [
        "from sklearn.preprocessing import normalize\n",
        "x_train = x_train[columns].to_numpy()\n",
        "x_test = x_test[columns].to_numpy()\n",
        "x_traints = normalize(x_train)\n",
        "x_testts = normalize(x_test)\n",
        "y_traints = y_train.to_numpy()\n",
        "y_testts = y_test.to_numpy()"
      ],
      "execution_count": 132,
      "outputs": [
        {
          "output_type": "stream",
          "text": [
            "/usr/local/lib/python3.6/dist-packages/ipykernel_launcher.py:2: FutureWarning: Using a non-tuple sequence for multidimensional indexing is deprecated; use `arr[tuple(seq)]` instead of `arr[seq]`. In the future this will be interpreted as an array index, `arr[np.array(seq)]`, which will result either in an error or a different result.\n",
            "  \n"
          ],
          "name": "stderr"
        },
        {
          "output_type": "error",
          "ename": "IndexError",
          "evalue": "ignored",
          "traceback": [
            "\u001b[0;31m---------------------------------------------------------------------------\u001b[0m",
            "\u001b[0;31mIndexError\u001b[0m                                Traceback (most recent call last)",
            "\u001b[0;32m<ipython-input-132-6cacdabfcab8>\u001b[0m in \u001b[0;36m<module>\u001b[0;34m()\u001b[0m\n\u001b[1;32m      1\u001b[0m \u001b[0;32mfrom\u001b[0m \u001b[0msklearn\u001b[0m\u001b[0;34m.\u001b[0m\u001b[0mpreprocessing\u001b[0m \u001b[0;32mimport\u001b[0m \u001b[0mnormalize\u001b[0m\u001b[0;34m\u001b[0m\u001b[0;34m\u001b[0m\u001b[0m\n\u001b[0;32m----> 2\u001b[0;31m \u001b[0mx_train\u001b[0m \u001b[0;34m=\u001b[0m \u001b[0mx_train\u001b[0m\u001b[0;34m[\u001b[0m\u001b[0mcolumns\u001b[0m\u001b[0;34m]\u001b[0m\u001b[0;34m.\u001b[0m\u001b[0mto_numpy\u001b[0m\u001b[0;34m(\u001b[0m\u001b[0;34m)\u001b[0m\u001b[0;34m\u001b[0m\u001b[0;34m\u001b[0m\u001b[0m\n\u001b[0m\u001b[1;32m      3\u001b[0m \u001b[0mx_test\u001b[0m \u001b[0;34m=\u001b[0m \u001b[0mx_test\u001b[0m\u001b[0;34m[\u001b[0m\u001b[0mcolumns\u001b[0m\u001b[0;34m]\u001b[0m\u001b[0;34m.\u001b[0m\u001b[0mto_numpy\u001b[0m\u001b[0;34m(\u001b[0m\u001b[0;34m)\u001b[0m\u001b[0;34m\u001b[0m\u001b[0;34m\u001b[0m\u001b[0m\n\u001b[1;32m      4\u001b[0m \u001b[0mx_traints\u001b[0m \u001b[0;34m=\u001b[0m \u001b[0mnormalize\u001b[0m\u001b[0;34m(\u001b[0m\u001b[0mx_train\u001b[0m\u001b[0;34m)\u001b[0m\u001b[0;34m\u001b[0m\u001b[0;34m\u001b[0m\u001b[0m\n\u001b[1;32m      5\u001b[0m \u001b[0mx_testts\u001b[0m \u001b[0;34m=\u001b[0m \u001b[0mnormalize\u001b[0m\u001b[0;34m(\u001b[0m\u001b[0mx_test\u001b[0m\u001b[0;34m)\u001b[0m\u001b[0;34m\u001b[0m\u001b[0;34m\u001b[0m\u001b[0m\n",
            "\u001b[0;31mIndexError\u001b[0m: only integers, slices (`:`), ellipsis (`...`), numpy.newaxis (`None`) and integer or boolean arrays are valid indices"
          ]
        }
      ]
    },
    {
      "cell_type": "code",
      "metadata": {
        "id": "IY6tNVh_MJV_",
        "outputId": "8a52e953-a417-4951-b451-931ab790622c",
        "colab": {
          "base_uri": "https://localhost:8080/",
          "height": 34
        }
      },
      "source": [
        "len(x_traints)"
      ],
      "execution_count": 133,
      "outputs": [
        {
          "output_type": "execute_result",
          "data": {
            "text/plain": [
              "1300"
            ]
          },
          "metadata": {
            "tags": []
          },
          "execution_count": 133
        }
      ]
    },
    {
      "cell_type": "code",
      "metadata": {
        "id": "TPpUxJvNHopm"
      },
      "source": [
        "model = Sequential([Dense(5, input_dim=8, activation= keras.activations.selu),\n",
        "                    Dense(2,activation= keras.activations.sigmoid),\n",
        "                    Dense(3,activation= keras.activations.softmax),\n",
        "                    Dense(1, activation= keras.activations.relu)])\n",
        "#opt = keras.optimizers.Adam()\n",
        "opt = keras.optimizers.SGD()\n",
        "#opt = keras.optimizers.Adagrad()\n",
        "model.compile(optimizer=opt, loss='binary_crossentropy', metrics=['accuracy'])"
      ],
      "execution_count": 163,
      "outputs": []
    },
    {
      "cell_type": "code",
      "metadata": {
        "id": "VnXw9gKqJaLC",
        "outputId": "57f1e570-a1a2-43a7-c910-7ce584ea631d",
        "colab": {
          "base_uri": "https://localhost:8080/",
          "height": 1000
        }
      },
      "source": [
        "hist = model.fit(x_traints, y_traints, epochs=30, batch_size=100, verbose=2)"
      ],
      "execution_count": 164,
      "outputs": [
        {
          "output_type": "stream",
          "text": [
            "Epoch 1/30\n",
            "13/13 - 0s - loss: 0.8205 - accuracy: 0.2908\n",
            "Epoch 2/30\n",
            "13/13 - 0s - loss: 0.6460 - accuracy: 0.7100\n",
            "Epoch 3/30\n",
            "13/13 - 0s - loss: 0.6114 - accuracy: 0.7100\n",
            "Epoch 4/30\n",
            "13/13 - 0s - loss: 0.6037 - accuracy: 0.7100\n",
            "Epoch 5/30\n",
            "13/13 - 0s - loss: 0.6023 - accuracy: 0.7100\n",
            "Epoch 6/30\n",
            "13/13 - 0s - loss: 0.6022 - accuracy: 0.7100\n",
            "Epoch 7/30\n",
            "13/13 - 0s - loss: 0.6023 - accuracy: 0.7100\n",
            "Epoch 8/30\n",
            "13/13 - 0s - loss: 0.6023 - accuracy: 0.7100\n",
            "Epoch 9/30\n",
            "13/13 - 0s - loss: 0.6022 - accuracy: 0.7100\n",
            "Epoch 10/30\n",
            "13/13 - 0s - loss: 0.6022 - accuracy: 0.7100\n",
            "Epoch 11/30\n",
            "13/13 - 0s - loss: 0.6022 - accuracy: 0.7100\n",
            "Epoch 12/30\n",
            "13/13 - 0s - loss: 0.6022 - accuracy: 0.7100\n",
            "Epoch 13/30\n",
            "13/13 - 0s - loss: 0.6020 - accuracy: 0.7100\n",
            "Epoch 14/30\n",
            "13/13 - 0s - loss: 0.6024 - accuracy: 0.7100\n",
            "Epoch 15/30\n",
            "13/13 - 0s - loss: 0.6022 - accuracy: 0.7100\n",
            "Epoch 16/30\n",
            "13/13 - 0s - loss: 0.6021 - accuracy: 0.7100\n",
            "Epoch 17/30\n",
            "13/13 - 0s - loss: 0.6023 - accuracy: 0.7100\n",
            "Epoch 18/30\n",
            "13/13 - 0s - loss: 0.6025 - accuracy: 0.7100\n",
            "Epoch 19/30\n",
            "13/13 - 0s - loss: 0.6022 - accuracy: 0.7100\n",
            "Epoch 20/30\n",
            "13/13 - 0s - loss: 0.6025 - accuracy: 0.7100\n",
            "Epoch 21/30\n",
            "13/13 - 0s - loss: 0.6022 - accuracy: 0.7100\n",
            "Epoch 22/30\n",
            "13/13 - 0s - loss: 0.6021 - accuracy: 0.7100\n",
            "Epoch 23/30\n",
            "13/13 - 0s - loss: 0.6022 - accuracy: 0.7100\n",
            "Epoch 24/30\n",
            "13/13 - 0s - loss: 0.6022 - accuracy: 0.7100\n",
            "Epoch 25/30\n",
            "13/13 - 0s - loss: 0.6025 - accuracy: 0.7100\n",
            "Epoch 26/30\n",
            "13/13 - 0s - loss: 0.6023 - accuracy: 0.7100\n",
            "Epoch 27/30\n",
            "13/13 - 0s - loss: 0.6024 - accuracy: 0.7100\n",
            "Epoch 28/30\n",
            "13/13 - 0s - loss: 0.6023 - accuracy: 0.7100\n",
            "Epoch 29/30\n",
            "13/13 - 0s - loss: 0.6025 - accuracy: 0.7100\n",
            "Epoch 30/30\n",
            "13/13 - 0s - loss: 0.6022 - accuracy: 0.7100\n"
          ],
          "name": "stdout"
        }
      ]
    },
    {
      "cell_type": "code",
      "metadata": {
        "id": "f3yCxKQ8Jjn5",
        "outputId": "3f29e0cc-c149-407e-d4a1-8b460821b865",
        "colab": {
          "base_uri": "https://localhost:8080/",
          "height": 51
        }
      },
      "source": [
        "model.evaluate(x_test, y_test)"
      ],
      "execution_count": 165,
      "outputs": [
        {
          "output_type": "stream",
          "text": [
            "14/14 [==============================] - 0s 1ms/step - loss: 0.6328 - accuracy: 0.6874\n"
          ],
          "name": "stdout"
        },
        {
          "output_type": "execute_result",
          "data": {
            "text/plain": [
              "[0.6328391432762146, 0.6873508095741272]"
            ]
          },
          "metadata": {
            "tags": []
          },
          "execution_count": 165
        }
      ]
    },
    {
      "cell_type": "code",
      "metadata": {
        "id": "K3XklnbFJj2T",
        "outputId": "06e7ee97-e635-49ce-a72e-fb46d92916ff",
        "colab": {
          "base_uri": "https://localhost:8080/",
          "height": 466
        }
      },
      "source": [
        "keras.utils.plot_model(model)"
      ],
      "execution_count": 166,
      "outputs": [
        {
          "output_type": "execute_result",
          "data": {
            "image/png": "[encoded data removed]",
            "text/plain": [
              "<IPython.core.display.Image object>"
            ]
          },
          "metadata": {
            "tags": []
          },
          "execution_count": 166
        }
      ]
    },
    {
      "cell_type": "code",
      "metadata": {
        "id": "VzlllW-nOYEa",
        "outputId": "ff97df60-65ba-4e03-e823-353955d7c92d",
        "colab": {
          "base_uri": "https://localhost:8080/",
          "height": 295
        }
      },
      "source": [
        "plt.plot(hist.history['accuracy'])\n",
        "plt.plot(hist.history['loss'])\n",
        "plt.title('Accuracy')\n",
        "plt.ylabel('accuracy')\n",
        "plt.xlabel('epoch')\n",
        "plt.legend(['train', 'loss'], loc='best')\n",
        "plt.show()"
      ],
      "execution_count": 168,
      "outputs": [
        {
          "output_type": "display_data",
          "data": {
            "image/png": "[encoded data removed]",
            "text/plain": [
              "<Figure size 432x288 with 1 Axes>"
            ]
          },
          "metadata": {
            "tags": [],
            "needs_background": "light"
          }
        }
      ]
    },
    {
      "cell_type": "code",
      "metadata": {
        "id": "EEAHV57yOa0H"
      },
      "source": [
        ""
      ],
      "execution_count": null,
      "outputs": []
    }
  ]
}