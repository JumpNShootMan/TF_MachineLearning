{
  "nbformat": 4,
  "nbformat_minor": 0,
  "metadata": {
    "colab": {
      "name": "TP_ML_Decision Tree Classifier.ipynb",
      "provenance": [],
      "collapsed_sections": [],
      "toc_visible": true,
      "authorship_tag": "ABX9TyPjNqouFFzR64qYOqNE/kiu",
      "include_colab_link": true
    },
    "kernelspec": {
      "name": "python3",
      "display_name": "Python 3"
    }
  },
  "cells": [
    {
      "cell_type": "markdown",
      "metadata": {
        "id": "view-in-github",
        "colab_type": "text"
      },
      "source": [
        "<a href=\"https://colab.research.google.com/github/JumpNShootMan/TP_MachineLearning/blob/Braulio-Balde%C3%B3n/TP_ML_Decision_Tree_Classifier.ipynb\" target=\"_parent\"><img src=\"https://colab.research.google.com/assets/colab-badge.svg\" alt=\"Open In Colab\"/></a>"
      ]
    },
    {
      "cell_type": "code",
      "metadata": {
        "id": "8OYyDMs_IdNr",
        "outputId": "01403d38-d51e-4221-fcd1-16a2caee7fe5",
        "colab": {
          "base_uri": "https://localhost:8080/",
          "height": 354
        }
      },
      "source": [
        "!pip install opencv-python==3.4.2.16\n",
        "!pip install opencv-contrib-python==3.4.2.16"
      ],
      "execution_count": null,
      "outputs": [
        {
          "output_type": "stream",
          "text": [
            "Collecting opencv-python==3.4.2.16\n",
            "\u001b[?25l  Downloading https://files.pythonhosted.org/packages/fa/7d/5042b668a8ed41d2a80b8c172f5efcd572e3c046c75ae029407e19b7fc68/opencv_python-3.4.2.16-cp36-cp36m-manylinux1_x86_64.whl (25.0MB)\n",
            "\u001b[K     |████████████████████████████████| 25.0MB 163kB/s \n",
            "\u001b[?25hRequirement already satisfied: numpy>=1.11.3 in /usr/local/lib/python3.6/dist-packages (from opencv-python==3.4.2.16) (1.18.5)\n",
            "\u001b[31mERROR: albumentations 0.1.12 has requirement imgaug<0.2.7,>=0.2.5, but you'll have imgaug 0.2.9 which is incompatible.\u001b[0m\n",
            "Installing collected packages: opencv-python\n",
            "  Found existing installation: opencv-python 4.1.2.30\n",
            "    Uninstalling opencv-python-4.1.2.30:\n",
            "      Successfully uninstalled opencv-python-4.1.2.30\n",
            "Successfully installed opencv-python-3.4.2.16\n",
            "Collecting opencv-contrib-python==3.4.2.16\n",
            "\u001b[?25l  Downloading https://files.pythonhosted.org/packages/08/f1/66330f4042c4fb3b2d77a159db8e8916d9cdecc29bc8c1f56bc7f8a9bec9/opencv_contrib_python-3.4.2.16-cp36-cp36m-manylinux1_x86_64.whl (30.6MB)\n",
            "\u001b[K     |████████████████████████████████| 30.6MB 143kB/s \n",
            "\u001b[?25hRequirement already satisfied: numpy>=1.11.3 in /usr/local/lib/python3.6/dist-packages (from opencv-contrib-python==3.4.2.16) (1.18.5)\n",
            "Installing collected packages: opencv-contrib-python\n",
            "  Found existing installation: opencv-contrib-python 4.1.2.30\n",
            "    Uninstalling opencv-contrib-python-4.1.2.30:\n",
            "      Successfully uninstalled opencv-contrib-python-4.1.2.30\n",
            "Successfully installed opencv-contrib-python-3.4.2.16\n"
          ],
          "name": "stdout"
        }
      ]
    },
    {
      "cell_type": "code",
      "metadata": {
        "id": "Q8G1MVppIrfp"
      },
      "source": [
        "import cv2\n",
        "import pandas as pd\n",
        "import numpy as np"
      ],
      "execution_count": 35,
      "outputs": []
    },
    {
      "cell_type": "code",
      "metadata": {
        "id": "iA2lrqQ7Itrt",
        "outputId": "00d51f94-cfff-4e48-8b4f-6cd45ef6a281",
        "colab": {
          "base_uri": "https://localhost:8080/",
          "height": 367
        }
      },
      "source": [
        "data = pd.read_csv('https://raw.githubusercontent.com/JumpNShootMan/TP_MachineLearning/master/datos_banco.csv', encoding='latin-1')\n",
        "\n",
        "data.head(10)"
      ],
      "execution_count": 36,
      "outputs": [
        {
          "output_type": "execute_result",
          "data": {
            "text/html": [
              "<div>\n",
              "<style scoped>\n",
              "    .dataframe tbody tr th:only-of-type {\n",
              "        vertical-align: middle;\n",
              "    }\n",
              "\n",
              "    .dataframe tbody tr th {\n",
              "        vertical-align: top;\n",
              "    }\n",
              "\n",
              "    .dataframe thead th {\n",
              "        text-align: right;\n",
              "    }\n",
              "</style>\n",
              "<table border=\"1\" class=\"dataframe\">\n",
              "  <thead>\n",
              "    <tr style=\"text-align: right;\">\n",
              "      <th></th>\n",
              "      <th>idPrestamo</th>\n",
              "      <th>target</th>\n",
              "      <th>monthly_debt_capacity</th>\n",
              "      <th>var_employment_time_in_months</th>\n",
              "      <th>approved_amount</th>\n",
              "      <th>approved_term</th>\n",
              "      <th>approved_interest_amount</th>\n",
              "      <th>var_net_income</th>\n",
              "      <th>person_gender</th>\n",
              "      <th>credit_history_marital_status</th>\n",
              "      <th>var_max_sbs_qual_12m</th>\n",
              "      <th>person_degree_type_desc</th>\n",
              "      <th>default_request_term</th>\n",
              "      <th>default_request_amount</th>\n",
              "    </tr>\n",
              "  </thead>\n",
              "  <tbody>\n",
              "    <tr>\n",
              "      <th>0</th>\n",
              "      <td>LIBDISP9832897855</td>\n",
              "      <td>1</td>\n",
              "      <td>252.39</td>\n",
              "      <td>9.0</td>\n",
              "      <td>1,200</td>\n",
              "      <td>6</td>\n",
              "      <td>289.11</td>\n",
              "      <td>1140.125000</td>\n",
              "      <td>MALE</td>\n",
              "      <td>C</td>\n",
              "      <td>NORMAL</td>\n",
              "      <td>Secundaria</td>\n",
              "      <td>1</td>\n",
              "      <td>0</td>\n",
              "    </tr>\n",
              "    <tr>\n",
              "      <th>1</th>\n",
              "      <td>LIBDISP9021501745</td>\n",
              "      <td>1</td>\n",
              "      <td>244.57</td>\n",
              "      <td>50.0</td>\n",
              "      <td>2,200</td>\n",
              "      <td>12</td>\n",
              "      <td>696.15</td>\n",
              "      <td>1061.375000</td>\n",
              "      <td>FEMALE</td>\n",
              "      <td>S</td>\n",
              "      <td>NORMAL</td>\n",
              "      <td>Secundaria</td>\n",
              "      <td>0</td>\n",
              "      <td>0</td>\n",
              "    </tr>\n",
              "    <tr>\n",
              "      <th>2</th>\n",
              "      <td>LIBDISP4057314971</td>\n",
              "      <td>0</td>\n",
              "      <td>491.5</td>\n",
              "      <td>64.0</td>\n",
              "      <td>1,000</td>\n",
              "      <td>3</td>\n",
              "      <td>84.99</td>\n",
              "      <td>2082.196667</td>\n",
              "      <td>FEMALE</td>\n",
              "      <td>S</td>\n",
              "      <td>NORMAL</td>\n",
              "      <td>Secundaria</td>\n",
              "      <td>0</td>\n",
              "      <td>0</td>\n",
              "    </tr>\n",
              "    <tr>\n",
              "      <th>3</th>\n",
              "      <td>LIBDISP8375185888</td>\n",
              "      <td>0</td>\n",
              "      <td>848.65</td>\n",
              "      <td>77.0</td>\n",
              "      <td>1,500</td>\n",
              "      <td>6</td>\n",
              "      <td>221.53</td>\n",
              "      <td>3422.423333</td>\n",
              "      <td>MALE</td>\n",
              "      <td>S</td>\n",
              "      <td>NORMAL</td>\n",
              "      <td>Universitaria</td>\n",
              "      <td>0</td>\n",
              "      <td>0</td>\n",
              "    </tr>\n",
              "    <tr>\n",
              "      <th>4</th>\n",
              "      <td>LIBDISP9694463037</td>\n",
              "      <td>0</td>\n",
              "      <td>470.52</td>\n",
              "      <td>82.0</td>\n",
              "      <td>1,000</td>\n",
              "      <td>3</td>\n",
              "      <td>91.34</td>\n",
              "      <td>1882.090000</td>\n",
              "      <td>FEMALE</td>\n",
              "      <td>S</td>\n",
              "      <td>NORMAL</td>\n",
              "      <td>Universitaria</td>\n",
              "      <td>1</td>\n",
              "      <td>0</td>\n",
              "    </tr>\n",
              "    <tr>\n",
              "      <th>5</th>\n",
              "      <td>LIBDISP0492929616</td>\n",
              "      <td>0</td>\n",
              "      <td>490.77</td>\n",
              "      <td>79.0</td>\n",
              "      <td>1,500</td>\n",
              "      <td>6</td>\n",
              "      <td>221.53</td>\n",
              "      <td>2448.016667</td>\n",
              "      <td>MALE</td>\n",
              "      <td>S</td>\n",
              "      <td>NORMAL</td>\n",
              "      <td>Carrera TÃÂ©cnica</td>\n",
              "      <td>1</td>\n",
              "      <td>0</td>\n",
              "    </tr>\n",
              "    <tr>\n",
              "      <th>6</th>\n",
              "      <td>LIBDISP6813272232</td>\n",
              "      <td>0</td>\n",
              "      <td>428.57</td>\n",
              "      <td>71.0</td>\n",
              "      <td>4,000</td>\n",
              "      <td>12</td>\n",
              "      <td>1,109.56</td>\n",
              "      <td>1803.923333</td>\n",
              "      <td>FEMALE</td>\n",
              "      <td>S</td>\n",
              "      <td>NORMAL</td>\n",
              "      <td>Universitaria</td>\n",
              "      <td>0</td>\n",
              "      <td>0</td>\n",
              "    </tr>\n",
              "    <tr>\n",
              "      <th>7</th>\n",
              "      <td>LIBDISP8862427268</td>\n",
              "      <td>1</td>\n",
              "      <td>647.87</td>\n",
              "      <td>4.0</td>\n",
              "      <td>1,200</td>\n",
              "      <td>6</td>\n",
              "      <td>289.11</td>\n",
              "      <td>2660.630000</td>\n",
              "      <td>MALE</td>\n",
              "      <td>S</td>\n",
              "      <td>NORMAL</td>\n",
              "      <td>Secundaria</td>\n",
              "      <td>1</td>\n",
              "      <td>0</td>\n",
              "    </tr>\n",
              "    <tr>\n",
              "      <th>8</th>\n",
              "      <td>LIBDISP7167831610</td>\n",
              "      <td>0</td>\n",
              "      <td>694.23</td>\n",
              "      <td>NaN</td>\n",
              "      <td>900</td>\n",
              "      <td>6</td>\n",
              "      <td>149.79</td>\n",
              "      <td>2912.158333</td>\n",
              "      <td>FEMALE</td>\n",
              "      <td>C</td>\n",
              "      <td>CPP</td>\n",
              "      <td>Universitaria</td>\n",
              "      <td>1</td>\n",
              "      <td>0</td>\n",
              "    </tr>\n",
              "    <tr>\n",
              "      <th>9</th>\n",
              "      <td>LIBDISP3835927929</td>\n",
              "      <td>1</td>\n",
              "      <td>209.48</td>\n",
              "      <td>77.0</td>\n",
              "      <td>1,000</td>\n",
              "      <td>6</td>\n",
              "      <td>152.32</td>\n",
              "      <td>2498.043333</td>\n",
              "      <td>MALE</td>\n",
              "      <td>S</td>\n",
              "      <td>NORMAL</td>\n",
              "      <td>Secundaria</td>\n",
              "      <td>1</td>\n",
              "      <td>0</td>\n",
              "    </tr>\n",
              "  </tbody>\n",
              "</table>\n",
              "</div>"
            ],
            "text/plain": [
              "          idPrestamo  target  ... default_request_term  default_request_amount\n",
              "0  LIBDISP9832897855       1  ...                    1                       0\n",
              "1  LIBDISP9021501745       1  ...                    0                       0\n",
              "2  LIBDISP4057314971       0  ...                    0                       0\n",
              "3  LIBDISP8375185888       0  ...                    0                       0\n",
              "4  LIBDISP9694463037       0  ...                    1                       0\n",
              "5  LIBDISP0492929616       0  ...                    1                       0\n",
              "6  LIBDISP6813272232       0  ...                    0                       0\n",
              "7  LIBDISP8862427268       1  ...                    1                       0\n",
              "8  LIBDISP7167831610       0  ...                    1                       0\n",
              "9  LIBDISP3835927929       1  ...                    1                       0\n",
              "\n",
              "[10 rows x 14 columns]"
            ]
          },
          "metadata": {
            "tags": []
          },
          "execution_count": 36
        }
      ]
    },
    {
      "cell_type": "code",
      "metadata": {
        "id": "9kF40DU0Iy1b",
        "outputId": "fcc3ad11-2825-41eb-f492-528145ffbf21",
        "colab": {
          "base_uri": "https://localhost:8080/",
          "height": 283
        }
      },
      "source": [
        "data.dtypes"
      ],
      "execution_count": 37,
      "outputs": [
        {
          "output_type": "execute_result",
          "data": {
            "text/plain": [
              "idPrestamo                        object\n",
              "target                             int64\n",
              "monthly_debt_capacity             object\n",
              "var_employment_time_in_months    float64\n",
              "approved_amount                   object\n",
              "approved_term                      int64\n",
              "approved_interest_amount          object\n",
              "var_net_income                   float64\n",
              "person_gender                     object\n",
              "credit_history_marital_status     object\n",
              "var_max_sbs_qual_12m              object\n",
              "person_degree_type_desc           object\n",
              "default_request_term               int64\n",
              "default_request_amount             int64\n",
              "dtype: object"
            ]
          },
          "metadata": {
            "tags": []
          },
          "execution_count": 37
        }
      ]
    },
    {
      "cell_type": "markdown",
      "metadata": {
        "id": "fKYuP-RL6ESP"
      },
      "source": [
        "# Pre-procesamiento"
      ]
    },
    {
      "cell_type": "code",
      "metadata": {
        "id": "xqHaJ31f9DBF"
      },
      "source": [
        "from sklearn.impute import SimpleImputer\n",
        "from sklearn.preprocessing import MinMaxScaler"
      ],
      "execution_count": 38,
      "outputs": []
    },
    {
      "cell_type": "markdown",
      "metadata": {
        "id": "TbjR-XX74aRz"
      },
      "source": [
        "Eliminación de atributos innecesarios para la tarea de clasificación. 'idPrestamo' por ser un indice y 'default_request_amount' por solo tener data de uno de sus valores '0'."
      ]
    },
    {
      "cell_type": "code",
      "metadata": {
        "id": "DHBBXxIaI05V"
      },
      "source": [
        "del data[\"idPrestamo\"]\n",
        "del data[\"default_request_amount\"]"
      ],
      "execution_count": 39,
      "outputs": []
    },
    {
      "cell_type": "markdown",
      "metadata": {
        "id": "iT9Qt1J545dn"
      },
      "source": [
        "Union de las instancias con valor 'Carrera TÃÂ©cnica' y 'Carrera TÌÄå©cnica' en un solo valor 'Carrera Tecnica'."
      ]
    },
    {
      "cell_type": "code",
      "metadata": {
        "id": "KrGFhDZMJQTq",
        "outputId": "00e08723-b70c-4482-f040-222746e012ca",
        "colab": {
          "base_uri": "https://localhost:8080/",
          "height": 105
        }
      },
      "source": [
        "for i in range(len(data['person_degree_type_desc'])):\n",
        "  if data['person_degree_type_desc'][i] == \"Carrera TÃÂ©cnica\" or data['person_degree_type_desc'][i] == \"Carrera TÌÄå©cnica\":\n",
        "    data['person_degree_type_desc'][i] = \"Carrera Tecnica\""
      ],
      "execution_count": 40,
      "outputs": [
        {
          "output_type": "stream",
          "text": [
            "/usr/local/lib/python3.6/dist-packages/ipykernel_launcher.py:3: SettingWithCopyWarning: \n",
            "A value is trying to be set on a copy of a slice from a DataFrame\n",
            "\n",
            "See the caveats in the documentation: https://pandas.pydata.org/pandas-docs/stable/user_guide/indexing.html#returning-a-view-versus-a-copy\n",
            "  This is separate from the ipykernel package so we can avoid doing imports until\n"
          ],
          "name": "stderr"
        }
      ]
    },
    {
      "cell_type": "markdown",
      "metadata": {
        "id": "z0QC_ceB5P2z"
      },
      "source": [
        "OneHotEnconding para los atributos cualitativos."
      ]
    },
    {
      "cell_type": "code",
      "metadata": {
        "id": "dfzK4IkDW2Zb"
      },
      "source": [
        "def oneHotEncoding(feature):\n",
        "  onehot_encoded = pd.get_dummies(data[feature], prefix=feature)\n",
        "  del data[feature]\n",
        "  return data.join(onehot_encoded)"
      ],
      "execution_count": 41,
      "outputs": []
    },
    {
      "cell_type": "code",
      "metadata": {
        "id": "e3HjEW9pJYlT"
      },
      "source": [
        "data = oneHotEncoding('person_gender')\n",
        "data = oneHotEncoding('credit_history_marital_status')\n",
        "data = oneHotEncoding('var_max_sbs_qual_12m')\n",
        "data = oneHotEncoding('person_degree_type_desc')"
      ],
      "execution_count": 42,
      "outputs": []
    },
    {
      "cell_type": "markdown",
      "metadata": {
        "id": "Aof2fGhF5Yl3"
      },
      "source": [
        "Transformación de los valores tipo object a valores numéricos."
      ]
    },
    {
      "cell_type": "code",
      "metadata": {
        "id": "9w6mX_Z7eS7d",
        "outputId": "1f2a78f2-b19f-4b8f-db94-807d8fc205ee",
        "colab": {
          "base_uri": "https://localhost:8080/",
          "height": 105
        }
      },
      "source": [
        "for i in data:\n",
        "  for j in range(len(data[i])):\n",
        "    if type(data[i][j]) == str:\n",
        "      data[i][j] = data[i][j].replace(',', '')"
      ],
      "execution_count": 43,
      "outputs": [
        {
          "output_type": "stream",
          "text": [
            "/usr/local/lib/python3.6/dist-packages/ipykernel_launcher.py:4: SettingWithCopyWarning: \n",
            "A value is trying to be set on a copy of a slice from a DataFrame\n",
            "\n",
            "See the caveats in the documentation: https://pandas.pydata.org/pandas-docs/stable/user_guide/indexing.html#returning-a-view-versus-a-copy\n",
            "  after removing the cwd from sys.path.\n"
          ],
          "name": "stderr"
        }
      ]
    },
    {
      "cell_type": "code",
      "metadata": {
        "id": "NIFfDtmxeKnw"
      },
      "source": [
        "for i in data:\n",
        "  if data[i].dtype == object:\n",
        "    data[i] = pd.to_numeric(data[i])"
      ],
      "execution_count": 44,
      "outputs": []
    },
    {
      "cell_type": "markdown",
      "metadata": {
        "id": "5wNXHR395sWW"
      },
      "source": [
        "Remplazo de valores faltantes utilizando SimpleImputer."
      ]
    },
    {
      "cell_type": "code",
      "metadata": {
        "id": "GtHmBZL3t67r"
      },
      "source": [
        "imputer = SimpleImputer(missing_values=np.nan, strategy='mean')\n",
        "data.var_employment_time_in_months = imputer.fit_transform(data['var_employment_time_in_months'].values.reshape(-1,1))"
      ],
      "execution_count": 45,
      "outputs": []
    },
    {
      "cell_type": "markdown",
      "metadata": {
        "id": "nHm2R8ke5kHe"
      },
      "source": [
        "Normalización MinMax para los valores que originalmente eran cuantitativos, excepto 'approved_term' porque son meses."
      ]
    },
    {
      "cell_type": "code",
      "metadata": {
        "id": "ddEP-hYx3t8w"
      },
      "source": [
        "def standardization(feature):\n",
        "  scaler = MinMaxScaler()\n",
        "  return scaler.fit_transform(data[feature].values.reshape(-1,1))"
      ],
      "execution_count": 46,
      "outputs": []
    },
    {
      "cell_type": "code",
      "metadata": {
        "id": "_MoOVwJowi6Q"
      },
      "source": [
        "data['monthly_debt_capacity'] = standardization('monthly_debt_capacity')\n",
        "data['var_employment_time_in_months'] = standardization('var_employment_time_in_months')\n",
        "data['approved_amount'] = standardization('approved_amount')\n",
        "data['approved_interest_amount'] = standardization('approved_interest_amount')\n",
        "data['var_net_income'] = standardization('var_net_income')"
      ],
      "execution_count": 47,
      "outputs": []
    },
    {
      "cell_type": "code",
      "metadata": {
        "id": "FWvaf__JtITo",
        "outputId": "6cfe71c0-48f4-409e-9324-fbd5d5322269",
        "colab": {
          "base_uri": "https://localhost:8080/",
          "height": 384
        }
      },
      "source": [
        "data.head(10)"
      ],
      "execution_count": 48,
      "outputs": [
        {
          "output_type": "execute_result",
          "data": {
            "text/html": [
              "<div>\n",
              "<style scoped>\n",
              "    .dataframe tbody tr th:only-of-type {\n",
              "        vertical-align: middle;\n",
              "    }\n",
              "\n",
              "    .dataframe tbody tr th {\n",
              "        vertical-align: top;\n",
              "    }\n",
              "\n",
              "    .dataframe thead th {\n",
              "        text-align: right;\n",
              "    }\n",
              "</style>\n",
              "<table border=\"1\" class=\"dataframe\">\n",
              "  <thead>\n",
              "    <tr style=\"text-align: right;\">\n",
              "      <th></th>\n",
              "      <th>target</th>\n",
              "      <th>monthly_debt_capacity</th>\n",
              "      <th>var_employment_time_in_months</th>\n",
              "      <th>approved_amount</th>\n",
              "      <th>approved_term</th>\n",
              "      <th>approved_interest_amount</th>\n",
              "      <th>var_net_income</th>\n",
              "      <th>default_request_term</th>\n",
              "      <th>person_gender_FEMALE</th>\n",
              "      <th>person_gender_MALE</th>\n",
              "      <th>credit_history_marital_status_C</th>\n",
              "      <th>credit_history_marital_status_D</th>\n",
              "      <th>credit_history_marital_status_S</th>\n",
              "      <th>credit_history_marital_status_V</th>\n",
              "      <th>var_max_sbs_qual_12m_CPP</th>\n",
              "      <th>var_max_sbs_qual_12m_DEFICIENTE</th>\n",
              "      <th>var_max_sbs_qual_12m_DUDOSO</th>\n",
              "      <th>var_max_sbs_qual_12m_NORMAL</th>\n",
              "      <th>var_max_sbs_qual_12m_PERDIDA</th>\n",
              "      <th>person_degree_type_desc_Carrera Tecnica</th>\n",
              "      <th>person_degree_type_desc_Postgrado</th>\n",
              "      <th>person_degree_type_desc_Primaria</th>\n",
              "      <th>person_degree_type_desc_Secundaria</th>\n",
              "      <th>person_degree_type_desc_Universitaria</th>\n",
              "    </tr>\n",
              "  </thead>\n",
              "  <tbody>\n",
              "    <tr>\n",
              "      <th>0</th>\n",
              "      <td>1</td>\n",
              "      <td>0.055545</td>\n",
              "      <td>0.113636</td>\n",
              "      <td>0.059829</td>\n",
              "      <td>6</td>\n",
              "      <td>0.116370</td>\n",
              "      <td>0.039883</td>\n",
              "      <td>1</td>\n",
              "      <td>0</td>\n",
              "      <td>1</td>\n",
              "      <td>1</td>\n",
              "      <td>0</td>\n",
              "      <td>0</td>\n",
              "      <td>0</td>\n",
              "      <td>0</td>\n",
              "      <td>0</td>\n",
              "      <td>0</td>\n",
              "      <td>1</td>\n",
              "      <td>0</td>\n",
              "      <td>0</td>\n",
              "      <td>0</td>\n",
              "      <td>0</td>\n",
              "      <td>1</td>\n",
              "      <td>0</td>\n",
              "    </tr>\n",
              "    <tr>\n",
              "      <th>1</th>\n",
              "      <td>1</td>\n",
              "      <td>0.054488</td>\n",
              "      <td>0.579545</td>\n",
              "      <td>0.145299</td>\n",
              "      <td>12</td>\n",
              "      <td>0.294249</td>\n",
              "      <td>0.037128</td>\n",
              "      <td>0</td>\n",
              "      <td>1</td>\n",
              "      <td>0</td>\n",
              "      <td>0</td>\n",
              "      <td>0</td>\n",
              "      <td>1</td>\n",
              "      <td>0</td>\n",
              "      <td>0</td>\n",
              "      <td>0</td>\n",
              "      <td>0</td>\n",
              "      <td>1</td>\n",
              "      <td>0</td>\n",
              "      <td>0</td>\n",
              "      <td>0</td>\n",
              "      <td>0</td>\n",
              "      <td>1</td>\n",
              "      <td>0</td>\n",
              "    </tr>\n",
              "    <tr>\n",
              "      <th>2</th>\n",
              "      <td>0</td>\n",
              "      <td>0.087848</td>\n",
              "      <td>0.738636</td>\n",
              "      <td>0.042735</td>\n",
              "      <td>3</td>\n",
              "      <td>0.027169</td>\n",
              "      <td>0.072837</td>\n",
              "      <td>0</td>\n",
              "      <td>1</td>\n",
              "      <td>0</td>\n",
              "      <td>0</td>\n",
              "      <td>0</td>\n",
              "      <td>1</td>\n",
              "      <td>0</td>\n",
              "      <td>0</td>\n",
              "      <td>0</td>\n",
              "      <td>0</td>\n",
              "      <td>1</td>\n",
              "      <td>0</td>\n",
              "      <td>0</td>\n",
              "      <td>0</td>\n",
              "      <td>0</td>\n",
              "      <td>1</td>\n",
              "      <td>0</td>\n",
              "    </tr>\n",
              "    <tr>\n",
              "      <th>3</th>\n",
              "      <td>0</td>\n",
              "      <td>0.136099</td>\n",
              "      <td>0.886364</td>\n",
              "      <td>0.085470</td>\n",
              "      <td>6</td>\n",
              "      <td>0.086837</td>\n",
              "      <td>0.119720</td>\n",
              "      <td>0</td>\n",
              "      <td>0</td>\n",
              "      <td>1</td>\n",
              "      <td>0</td>\n",
              "      <td>0</td>\n",
              "      <td>1</td>\n",
              "      <td>0</td>\n",
              "      <td>0</td>\n",
              "      <td>0</td>\n",
              "      <td>0</td>\n",
              "      <td>1</td>\n",
              "      <td>0</td>\n",
              "      <td>0</td>\n",
              "      <td>0</td>\n",
              "      <td>0</td>\n",
              "      <td>0</td>\n",
              "      <td>1</td>\n",
              "    </tr>\n",
              "    <tr>\n",
              "      <th>4</th>\n",
              "      <td>0</td>\n",
              "      <td>0.085014</td>\n",
              "      <td>0.943182</td>\n",
              "      <td>0.042735</td>\n",
              "      <td>3</td>\n",
              "      <td>0.029944</td>\n",
              "      <td>0.065837</td>\n",
              "      <td>1</td>\n",
              "      <td>1</td>\n",
              "      <td>0</td>\n",
              "      <td>0</td>\n",
              "      <td>0</td>\n",
              "      <td>1</td>\n",
              "      <td>0</td>\n",
              "      <td>0</td>\n",
              "      <td>0</td>\n",
              "      <td>0</td>\n",
              "      <td>1</td>\n",
              "      <td>0</td>\n",
              "      <td>0</td>\n",
              "      <td>0</td>\n",
              "      <td>0</td>\n",
              "      <td>0</td>\n",
              "      <td>1</td>\n",
              "    </tr>\n",
              "    <tr>\n",
              "      <th>5</th>\n",
              "      <td>0</td>\n",
              "      <td>0.087750</td>\n",
              "      <td>0.909091</td>\n",
              "      <td>0.085470</td>\n",
              "      <td>6</td>\n",
              "      <td>0.086837</td>\n",
              "      <td>0.085634</td>\n",
              "      <td>1</td>\n",
              "      <td>0</td>\n",
              "      <td>1</td>\n",
              "      <td>0</td>\n",
              "      <td>0</td>\n",
              "      <td>1</td>\n",
              "      <td>0</td>\n",
              "      <td>0</td>\n",
              "      <td>0</td>\n",
              "      <td>0</td>\n",
              "      <td>1</td>\n",
              "      <td>0</td>\n",
              "      <td>1</td>\n",
              "      <td>0</td>\n",
              "      <td>0</td>\n",
              "      <td>0</td>\n",
              "      <td>0</td>\n",
              "    </tr>\n",
              "    <tr>\n",
              "      <th>6</th>\n",
              "      <td>0</td>\n",
              "      <td>0.079347</td>\n",
              "      <td>0.818182</td>\n",
              "      <td>0.299145</td>\n",
              "      <td>12</td>\n",
              "      <td>0.474912</td>\n",
              "      <td>0.063103</td>\n",
              "      <td>0</td>\n",
              "      <td>1</td>\n",
              "      <td>0</td>\n",
              "      <td>0</td>\n",
              "      <td>0</td>\n",
              "      <td>1</td>\n",
              "      <td>0</td>\n",
              "      <td>0</td>\n",
              "      <td>0</td>\n",
              "      <td>0</td>\n",
              "      <td>1</td>\n",
              "      <td>0</td>\n",
              "      <td>0</td>\n",
              "      <td>0</td>\n",
              "      <td>0</td>\n",
              "      <td>0</td>\n",
              "      <td>1</td>\n",
              "    </tr>\n",
              "    <tr>\n",
              "      <th>7</th>\n",
              "      <td>1</td>\n",
              "      <td>0.108974</td>\n",
              "      <td>0.056818</td>\n",
              "      <td>0.059829</td>\n",
              "      <td>6</td>\n",
              "      <td>0.116370</td>\n",
              "      <td>0.093071</td>\n",
              "      <td>1</td>\n",
              "      <td>0</td>\n",
              "      <td>1</td>\n",
              "      <td>0</td>\n",
              "      <td>0</td>\n",
              "      <td>1</td>\n",
              "      <td>0</td>\n",
              "      <td>0</td>\n",
              "      <td>0</td>\n",
              "      <td>0</td>\n",
              "      <td>1</td>\n",
              "      <td>0</td>\n",
              "      <td>0</td>\n",
              "      <td>0</td>\n",
              "      <td>0</td>\n",
              "      <td>1</td>\n",
              "      <td>0</td>\n",
              "    </tr>\n",
              "    <tr>\n",
              "      <th>8</th>\n",
              "      <td>0</td>\n",
              "      <td>0.115237</td>\n",
              "      <td>0.397495</td>\n",
              "      <td>0.034188</td>\n",
              "      <td>6</td>\n",
              "      <td>0.055487</td>\n",
              "      <td>0.101870</td>\n",
              "      <td>1</td>\n",
              "      <td>1</td>\n",
              "      <td>0</td>\n",
              "      <td>1</td>\n",
              "      <td>0</td>\n",
              "      <td>0</td>\n",
              "      <td>0</td>\n",
              "      <td>1</td>\n",
              "      <td>0</td>\n",
              "      <td>0</td>\n",
              "      <td>0</td>\n",
              "      <td>0</td>\n",
              "      <td>0</td>\n",
              "      <td>0</td>\n",
              "      <td>0</td>\n",
              "      <td>0</td>\n",
              "      <td>1</td>\n",
              "    </tr>\n",
              "    <tr>\n",
              "      <th>9</th>\n",
              "      <td>1</td>\n",
              "      <td>0.049748</td>\n",
              "      <td>0.886364</td>\n",
              "      <td>0.042735</td>\n",
              "      <td>6</td>\n",
              "      <td>0.056592</td>\n",
              "      <td>0.087384</td>\n",
              "      <td>1</td>\n",
              "      <td>0</td>\n",
              "      <td>1</td>\n",
              "      <td>0</td>\n",
              "      <td>0</td>\n",
              "      <td>1</td>\n",
              "      <td>0</td>\n",
              "      <td>0</td>\n",
              "      <td>0</td>\n",
              "      <td>0</td>\n",
              "      <td>1</td>\n",
              "      <td>0</td>\n",
              "      <td>0</td>\n",
              "      <td>0</td>\n",
              "      <td>0</td>\n",
              "      <td>1</td>\n",
              "      <td>0</td>\n",
              "    </tr>\n",
              "  </tbody>\n",
              "</table>\n",
              "</div>"
            ],
            "text/plain": [
              "   target  ...  person_degree_type_desc_Universitaria\n",
              "0       1  ...                                      0\n",
              "1       1  ...                                      0\n",
              "2       0  ...                                      0\n",
              "3       0  ...                                      1\n",
              "4       0  ...                                      1\n",
              "5       0  ...                                      0\n",
              "6       0  ...                                      1\n",
              "7       1  ...                                      0\n",
              "8       0  ...                                      1\n",
              "9       1  ...                                      0\n",
              "\n",
              "[10 rows x 24 columns]"
            ]
          },
          "metadata": {
            "tags": []
          },
          "execution_count": 48
        }
      ]
    },
    {
      "cell_type": "markdown",
      "metadata": {
        "id": "VolxBY6n7a0X"
      },
      "source": [
        "# Decision Tree Classifier"
      ]
    },
    {
      "cell_type": "code",
      "metadata": {
        "id": "OxOEsFRB7eGw"
      },
      "source": [
        "from sklearn.tree import DecisionTreeClassifier\n",
        "from sklearn.model_selection import train_test_split\n",
        "from sklearn.model_selection import cross_val_score\n",
        "from sklearn.metrics import classification_report, confusion_matrix\n",
        "import matplotlib.pyplot as plt\n",
        "from sklearn.model_selection import learning_curve\n",
        "from sklearn.model_selection import validation_curve\n",
        "from sklearn.model_selection import GridSearchCV"
      ],
      "execution_count": 49,
      "outputs": []
    },
    {
      "cell_type": "markdown",
      "metadata": {
        "id": "69hpwHmG33Pq"
      },
      "source": [
        "Separación de la data y los labels."
      ]
    },
    {
      "cell_type": "code",
      "metadata": {
        "id": "7OVjza2G-Iu_"
      },
      "source": [
        "X = data.iloc[:,1:]\n",
        "y = data.target"
      ],
      "execution_count": 50,
      "outputs": []
    },
    {
      "cell_type": "markdown",
      "metadata": {
        "id": "ZXRizbDs36wy"
      },
      "source": [
        "Separación de la data con 20% de test y 80% para train."
      ]
    },
    {
      "cell_type": "code",
      "metadata": {
        "id": "Ap2VHXdTWttH"
      },
      "source": [
        "X_train, X_test, y_train, y_test = train_test_split(X, y, test_size = 0.20)"
      ],
      "execution_count": 51,
      "outputs": []
    },
    {
      "cell_type": "markdown",
      "metadata": {
        "id": "NQa7emSU4NoT"
      },
      "source": [
        "Creación del modelo, predicción de la test data, impresión de la matriz de confusión y reporte de métricas: 'precision', 'recall', 'f1-score', 'accuracy'."
      ]
    },
    {
      "cell_type": "code",
      "metadata": {
        "id": "KLgWInUKfR-7",
        "outputId": "a4626952-1e6d-4921-b9a1-705031e325bb",
        "colab": {
          "base_uri": "https://localhost:8080/",
          "height": 212
        }
      },
      "source": [
        "tree = DecisionTreeClassifier()\n",
        "tree.fit(X_train, y_train)\n",
        "y_pred = tree.predict(X_test)\n",
        "print(confusion_matrix(y_test, y_pred))\n",
        "print(classification_report(y_test, y_pred))"
      ],
      "execution_count": 52,
      "outputs": [
        {
          "output_type": "stream",
          "text": [
            "[[166  79]\n",
            " [ 60  39]]\n",
            "              precision    recall  f1-score   support\n",
            "\n",
            "           0       0.73      0.68      0.70       245\n",
            "           1       0.33      0.39      0.36        99\n",
            "\n",
            "    accuracy                           0.60       344\n",
            "   macro avg       0.53      0.54      0.53       344\n",
            "weighted avg       0.62      0.60      0.61       344\n",
            "\n"
          ],
          "name": "stdout"
        }
      ]
    },
    {
      "cell_type": "markdown",
      "metadata": {
        "id": "N9VYznxL4-dP"
      },
      "source": [
        "Reporte del 'accuracy' resultante de cada fold y su promedio.\n"
      ]
    },
    {
      "cell_type": "code",
      "metadata": {
        "id": "3e_CS0BeOeeT",
        "outputId": "29668a61-2120-4bcd-99d2-dfe5c9818948",
        "colab": {
          "base_uri": "https://localhost:8080/",
          "height": 123
        }
      },
      "source": [
        "scores = cross_val_score(tree, X, y, cv=5)\n",
        "for i in range(len(scores)):\n",
        "  print(str(i + 1) + \": \" + str(scores[i]))\n",
        "print(\"Promedio: \" + str(scores.mean()))"
      ],
      "execution_count": 53,
      "outputs": [
        {
          "output_type": "stream",
          "text": [
            "1: 0.6104651162790697\n",
            "2: 0.622093023255814\n",
            "3: 0.6569767441860465\n",
            "4: 0.6308139534883721\n",
            "5: 0.6034985422740525\n",
            "Promedio: 0.6247694758966709\n"
          ],
          "name": "stdout"
        }
      ]
    },
    {
      "cell_type": "markdown",
      "metadata": {
        "id": "vtu1wyADqFzY"
      },
      "source": [
        "Función para graficar las curvas de validación."
      ]
    },
    {
      "cell_type": "code",
      "metadata": {
        "id": "dD50-et5ki5_"
      },
      "source": [
        "def plotingValidationCurve(model, X, y, param_name, param_range, cv, scoring):\n",
        "  train_scores, valid_scores = validation_curve(\n",
        "    model, X, y, param_name=param_name, param_range=param_range,\n",
        "    cv=cv, scoring=scoring)\n",
        "\n",
        "  mean_training = np.mean(train_scores, axis=1) \n",
        "  mean_validation = np.mean(valid_scores, axis=1) \n",
        "\n",
        "  plt.plot(param_range, mean_training, '--', color=\"b\",  label=\"Train score\")\n",
        "  plt.plot(param_range, mean_validation, color=\"g\", label=\"Validation score\")\n",
        "  plt.title(\"Validation Curve for DecisionTreeClassifier\")\n",
        "  plt.xlabel(param_name)\n",
        "  plt.ylabel(\"Score\")\n",
        "  plt.legend(loc=\"best\")\n",
        "  plt.savefig(\"Validation Curve \" + param_name + \".png\")"
      ],
      "execution_count": 54,
      "outputs": []
    },
    {
      "cell_type": "markdown",
      "metadata": {
        "id": "AVL86T6LqRws"
      },
      "source": [
        "Curva de validación del parametro 'max_depth', el mejor accuracy es obtenido por una profundidad maxima de 3."
      ]
    },
    {
      "cell_type": "code",
      "metadata": {
        "id": "Pts4f95DUNh9",
        "outputId": "3d0fa8cf-a73d-4c69-c766-b7c709c88e71",
        "colab": {
          "base_uri": "https://localhost:8080/",
          "height": 295
        }
      },
      "source": [
        "plotingValidationCurve(tree, X, y, 'max_depth', np.arange(1, 10), 5, 'accuracy')"
      ],
      "execution_count": 55,
      "outputs": [
        {
          "output_type": "display_data",
          "data": {
            "image/png": "[encoded data removed]",
            "text/plain": [
              "<Figure size 432x288 with 1 Axes>"
            ]
          },
          "metadata": {
            "tags": [],
            "needs_background": "light"
          }
        }
      ]
    },
    {
      "cell_type": "markdown",
      "metadata": {
        "id": "U4TrMkanqlfl"
      },
      "source": [
        "Curva de validación del parametro 'min_samples_leaf', los valores 100, 110, 120 y 130 son los más prometedores tanto por la métrica como por ser los más cercanos a la curva de entrenamiento."
      ]
    },
    {
      "cell_type": "code",
      "metadata": {
        "id": "hs7cm3nklI2-",
        "outputId": "81e8ad6f-6ef8-430c-8605-43c2f726a588",
        "colab": {
          "base_uri": "https://localhost:8080/",
          "height": 295
        }
      },
      "source": [
        "param_range = [10, 20, 50, 100, 110, 120, 130]\n",
        "\n",
        "plotingValidationCurve(tree, X, y, 'min_samples_leaf', param_range, 5, 'accuracy')"
      ],
      "execution_count": 57,
      "outputs": [
        {
          "output_type": "display_data",
          "data": {
            "image/png": "[encoded data removed]",
            "text/plain": [
              "<Figure size 432x288 with 1 Axes>"
            ]
          },
          "metadata": {
            "tags": [],
            "needs_background": "light"
          }
        }
      ]
    },
    {
      "cell_type": "markdown",
      "metadata": {
        "id": "g_Q2_nFtrPvv"
      },
      "source": [
        "Función para graficar las curvas de aprendizaje."
      ]
    },
    {
      "cell_type": "code",
      "metadata": {
        "id": "0r5JJeVcm3sh"
      },
      "source": [
        "def plotingLearningCurve(model, X, y, train_sizes, cv, scoring):\n",
        "  train_sizes, train_scores, valid_scores = learning_curve(\n",
        "    model, X, y, scoring=scoring, \n",
        "    train_sizes=train_sizes, cv=cv) \n",
        "\n",
        "  mean_training = np.mean(train_scores, axis=1) \n",
        "  mean_validation = np.mean(valid_scores, axis=1) \n",
        "\n",
        "  plt.plot(train_sizes, mean_training, '--', color=\"b\",  label=\"Train score\") \n",
        "  plt.plot(train_sizes, mean_validation, color=\"g\", label=\"Validation score\") \n",
        "    \n",
        "  plt.title(\"Learning Curve for Desicion Tree Classifier\") \n",
        "  plt.xlabel(\"Training Set Size\") \n",
        "  plt.ylabel(\"Accuracy Score\") \n",
        "  plt.legend(loc=\"best\") \n",
        "  plt.savefig(\"Learning Curve.png\")"
      ],
      "execution_count": 58,
      "outputs": []
    },
    {
      "cell_type": "markdown",
      "metadata": {
        "id": "65Iiuw3Zrh_h"
      },
      "source": [
        "Curva de aprenizaje del modelo, se observa que la cura de entrenamiento esta al maximo de score lo que indica overfitting. Por otro lado, la curva del cross-validation es muy variable a lo largo de las iteraciones. Además, entre las curvas hay mucha diferencia lo que indica un escenario de alta varianza. Es recomendable consegir más data o reducir la complejidad del modelo para mejorar el performance de este."
      ]
    },
    {
      "cell_type": "code",
      "metadata": {
        "id": "KRQ98JhJMw9n",
        "outputId": "18a21e7e-0132-40a7-d95a-c7e3fc85b48e",
        "colab": {
          "base_uri": "https://localhost:8080/",
          "height": 294
        }
      },
      "source": [
        "plotingLearningCurve(tree, X, y, np.linspace(0.01, 1.0, 50), 5, 'accuracy')"
      ],
      "execution_count": 59,
      "outputs": [
        {
          "output_type": "display_data",
          "data": {
            "image/png": "[encoded data removed]",
            "text/plain": [
              "<Figure size 432x288 with 1 Axes>"
            ]
          },
          "metadata": {
            "tags": [],
            "needs_background": "light"
          }
        }
      ]
    },
    {
      "cell_type": "markdown",
      "metadata": {
        "id": "J_RCYGjr5Y21"
      },
      "source": [
        "Definición de los valores posibles para los hiperparámetros del modelo con valores de prueba obtenido de las curvas de validación."
      ]
    },
    {
      "cell_type": "code",
      "metadata": {
        "id": "ksgRxT_yQEqH"
      },
      "source": [
        "param_grid = {'criterion':['gini','entropy'], 'max_depth':np.arange(1, 5), 'min_samples_leaf':[100, 110, 120, 130]}"
      ],
      "execution_count": 60,
      "outputs": []
    },
    {
      "cell_type": "markdown",
      "metadata": {
        "id": "CE8rrE6B5ykB"
      },
      "source": [
        "Realizamos una busqueda de valores para los hiperparámetros especificados mediante GriSearchCV."
      ]
    },
    {
      "cell_type": "code",
      "metadata": {
        "id": "CYvx6eQMQhsd",
        "outputId": "9ce2d48f-fd23-40b7-bcd7-7a9f3407bf25",
        "colab": {
          "base_uri": "https://localhost:8080/",
          "height": 354
        }
      },
      "source": [
        "grid = GridSearchCV(DecisionTreeClassifier(), param_grid, cv=5)\n",
        "grid.fit(X, y)"
      ],
      "execution_count": 61,
      "outputs": [
        {
          "output_type": "execute_result",
          "data": {
            "text/plain": [
              "GridSearchCV(cv=5, error_score=nan,\n",
              "             estimator=DecisionTreeClassifier(ccp_alpha=0.0, class_weight=None,\n",
              "                                              criterion='gini', max_depth=None,\n",
              "                                              max_features=None,\n",
              "                                              max_leaf_nodes=None,\n",
              "                                              min_impurity_decrease=0.0,\n",
              "                                              min_impurity_split=None,\n",
              "                                              min_samples_leaf=1,\n",
              "                                              min_samples_split=2,\n",
              "                                              min_weight_fraction_leaf=0.0,\n",
              "                                              presort='deprecated',\n",
              "                                              random_state=None,\n",
              "                                              splitter='best'),\n",
              "             iid='deprecated', n_jobs=None,\n",
              "             param_grid={'criterion': ['gini', 'entropy'],\n",
              "                         'max_depth': array([1, 2, 3, 4]),\n",
              "                         'min_samples_leaf': [100, 110, 120, 130]},\n",
              "             pre_dispatch='2*n_jobs', refit=True, return_train_score=False,\n",
              "             scoring=None, verbose=0)"
            ]
          },
          "metadata": {
            "tags": []
          },
          "execution_count": 61
        }
      ]
    },
    {
      "cell_type": "markdown",
      "metadata": {
        "id": "Jz91IiZ36N_E"
      },
      "source": [
        "Imprimimos el mejor estimador encontrado en la busqueda."
      ]
    },
    {
      "cell_type": "code",
      "metadata": {
        "id": "Umqi96zRQx1X",
        "outputId": "d6b4b50f-9790-4694-ffb4-ac2cde59bfa3",
        "colab": {
          "base_uri": "https://localhost:8080/",
          "height": 123
        }
      },
      "source": [
        "print(grid.best_estimator_)"
      ],
      "execution_count": 62,
      "outputs": [
        {
          "output_type": "stream",
          "text": [
            "DecisionTreeClassifier(ccp_alpha=0.0, class_weight=None, criterion='gini',\n",
            "                       max_depth=3, max_features=None, max_leaf_nodes=None,\n",
            "                       min_impurity_decrease=0.0, min_impurity_split=None,\n",
            "                       min_samples_leaf=110, min_samples_split=2,\n",
            "                       min_weight_fraction_leaf=0.0, presort='deprecated',\n",
            "                       random_state=None, splitter='best')\n"
          ],
          "name": "stdout"
        }
      ]
    },
    {
      "cell_type": "markdown",
      "metadata": {
        "id": "4_-UoGwt6Yap"
      },
      "source": [
        "Empleamos el mejor modelo para realizar una predicción del test data. También, imprimimos la matriz de confusión y el reporte de métricas: 'precision', 'recall', 'f1-score', 'accuracy'."
      ]
    },
    {
      "cell_type": "code",
      "metadata": {
        "id": "QWI-wqJJRABW",
        "outputId": "145c4907-807e-4795-f7af-2305c94f1526",
        "colab": {
          "base_uri": "https://localhost:8080/",
          "height": 212
        }
      },
      "source": [
        "model = grid.best_estimator_\n",
        "model.fit(X_train, y_train)\n",
        "y_pred = model.predict(X_test)\n",
        "\n",
        "print(confusion_matrix(y_test, y_pred))\n",
        "print(classification_report(y_test, y_pred))"
      ],
      "execution_count": 63,
      "outputs": [
        {
          "output_type": "stream",
          "text": [
            "[[230  15]\n",
            " [ 80  19]]\n",
            "              precision    recall  f1-score   support\n",
            "\n",
            "           0       0.74      0.94      0.83       245\n",
            "           1       0.56      0.19      0.29        99\n",
            "\n",
            "    accuracy                           0.72       344\n",
            "   macro avg       0.65      0.57      0.56       344\n",
            "weighted avg       0.69      0.72      0.67       344\n",
            "\n"
          ],
          "name": "stdout"
        }
      ]
    },
    {
      "cell_type": "markdown",
      "metadata": {
        "id": "po49g1Bv7CNb"
      },
      "source": [
        "Reporte del 'accuracy' resultante de cada fold y su promedio."
      ]
    },
    {
      "cell_type": "code",
      "metadata": {
        "id": "i2VTjmLiWJQ8",
        "outputId": "42641430-6c3b-460d-cf38-3122d1616ec1",
        "colab": {
          "base_uri": "https://localhost:8080/",
          "height": 123
        }
      },
      "source": [
        "scores = cross_val_score(model, X, y, cv=5)\n",
        "for i in range(len(scores)):\n",
        "  print(str(i + 1) + \": \" + str(scores[i]))\n",
        "print(\"Promedio: \" + str(scores.mean()))"
      ],
      "execution_count": 64,
      "outputs": [
        {
          "output_type": "stream",
          "text": [
            "1: 0.7093023255813954\n",
            "2: 0.7005813953488372\n",
            "3: 0.7151162790697675\n",
            "4: 0.7325581395348837\n",
            "5: 0.7201166180758017\n",
            "Promedio: 0.7155349515221371\n"
          ],
          "name": "stdout"
        }
      ]
    }
  ]
}