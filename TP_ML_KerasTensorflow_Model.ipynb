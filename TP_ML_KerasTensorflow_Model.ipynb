{
  "nbformat": 4,
  "nbformat_minor": 0,
  "metadata": {
    "colab": {
      "name": "TP_ML_KerasTensorflow_Model.ipynb",
      "provenance": [],
      "collapsed_sections": [],
      "toc_visible": true,
      "include_colab_link": true
    },
    "kernelspec": {
      "name": "python3",
      "display_name": "Python 3"
    }
  },
  "cells": [
    {
      "cell_type": "markdown",
      "metadata": {
        "id": "view-in-github",
        "colab_type": "text"
      },
      "source": [
        "<a href=\"https://colab.research.google.com/github/JumpNShootMan/TP_MachineLearning/blob/Develop/TP_ML_KerasTensorflow_Model.ipynb\" target=\"_parent\"><img src=\"https://colab.research.google.com/assets/colab-badge.svg\" alt=\"Open In Colab\"/></a>"
      ]
    },
    {
      "cell_type": "code",
      "metadata": {
        "id": "8OYyDMs_IdNr",
        "outputId": "e5e218d4-ea9a-4898-a201-299132a4e63d",
        "colab": {
          "base_uri": "https://localhost:8080/",
          "height": 85
        }
      },
      "source": [
        "!pip install opencv-python==3.4.2.16\n",
        "!pip install opencv-contrib-python==3.4.2.16"
      ],
      "execution_count": 87,
      "outputs": [
        {
          "output_type": "stream",
          "text": [
            "Requirement already satisfied: opencv-python==3.4.2.16 in /usr/local/lib/python3.6/dist-packages (3.4.2.16)\n",
            "Requirement already satisfied: numpy>=1.11.3 in /usr/local/lib/python3.6/dist-packages (from opencv-python==3.4.2.16) (1.18.5)\n",
            "Requirement already satisfied: opencv-contrib-python==3.4.2.16 in /usr/local/lib/python3.6/dist-packages (3.4.2.16)\n",
            "Requirement already satisfied: numpy>=1.11.3 in /usr/local/lib/python3.6/dist-packages (from opencv-contrib-python==3.4.2.16) (1.18.5)\n"
          ],
          "name": "stdout"
        }
      ]
    },
    {
      "cell_type": "code",
      "metadata": {
        "id": "Q8G1MVppIrfp"
      },
      "source": [
        "import cv2\n",
        "import pandas as pd\n",
        "import numpy as np"
      ],
      "execution_count": 88,
      "outputs": []
    },
    {
      "cell_type": "code",
      "metadata": {
        "id": "iA2lrqQ7Itrt",
        "outputId": "f2d662c7-524d-49d8-b8eb-5c9201e119b3",
        "colab": {
          "base_uri": "https://localhost:8080/",
          "height": 379
        }
      },
      "source": [
        "data = pd.read_csv('https://raw.githubusercontent.com/JumpNShootMan/TP_MachineLearning/master/datos_banco.csv', encoding='latin-1')\n",
        "\n",
        "data.head(10)"
      ],
      "execution_count": 89,
      "outputs": [
        {
          "output_type": "execute_result",
          "data": {
            "text/html": [
              "<div>\n",
              "<style scoped>\n",
              "    .dataframe tbody tr th:only-of-type {\n",
              "        vertical-align: middle;\n",
              "    }\n",
              "\n",
              "    .dataframe tbody tr th {\n",
              "        vertical-align: top;\n",
              "    }\n",
              "\n",
              "    .dataframe thead th {\n",
              "        text-align: right;\n",
              "    }\n",
              "</style>\n",
              "<table border=\"1\" class=\"dataframe\">\n",
              "  <thead>\n",
              "    <tr style=\"text-align: right;\">\n",
              "      <th></th>\n",
              "      <th>idPrestamo</th>\n",
              "      <th>target</th>\n",
              "      <th>monthly_debt_capacity</th>\n",
              "      <th>var_employment_time_in_months</th>\n",
              "      <th>approved_amount</th>\n",
              "      <th>approved_term</th>\n",
              "      <th>approved_interest_amount</th>\n",
              "      <th>var_net_income</th>\n",
              "      <th>person_gender</th>\n",
              "      <th>credit_history_marital_status</th>\n",
              "      <th>var_max_sbs_qual_12m</th>\n",
              "      <th>person_degree_type_desc</th>\n",
              "      <th>default_request_term</th>\n",
              "      <th>default_request_amount</th>\n",
              "    </tr>\n",
              "  </thead>\n",
              "  <tbody>\n",
              "    <tr>\n",
              "      <th>0</th>\n",
              "      <td>LIBDISP9832897855</td>\n",
              "      <td>1</td>\n",
              "      <td>252.39</td>\n",
              "      <td>9.0</td>\n",
              "      <td>1,200</td>\n",
              "      <td>6</td>\n",
              "      <td>289.11</td>\n",
              "      <td>1140.125000</td>\n",
              "      <td>MALE</td>\n",
              "      <td>C</td>\n",
              "      <td>NORMAL</td>\n",
              "      <td>Secundaria</td>\n",
              "      <td>1</td>\n",
              "      <td>0</td>\n",
              "    </tr>\n",
              "    <tr>\n",
              "      <th>1</th>\n",
              "      <td>LIBDISP9021501745</td>\n",
              "      <td>1</td>\n",
              "      <td>244.57</td>\n",
              "      <td>50.0</td>\n",
              "      <td>2,200</td>\n",
              "      <td>12</td>\n",
              "      <td>696.15</td>\n",
              "      <td>1061.375000</td>\n",
              "      <td>FEMALE</td>\n",
              "      <td>S</td>\n",
              "      <td>NORMAL</td>\n",
              "      <td>Secundaria</td>\n",
              "      <td>0</td>\n",
              "      <td>0</td>\n",
              "    </tr>\n",
              "    <tr>\n",
              "      <th>2</th>\n",
              "      <td>LIBDISP4057314971</td>\n",
              "      <td>0</td>\n",
              "      <td>491.5</td>\n",
              "      <td>64.0</td>\n",
              "      <td>1,000</td>\n",
              "      <td>3</td>\n",
              "      <td>84.99</td>\n",
              "      <td>2082.196667</td>\n",
              "      <td>FEMALE</td>\n",
              "      <td>S</td>\n",
              "      <td>NORMAL</td>\n",
              "      <td>Secundaria</td>\n",
              "      <td>0</td>\n",
              "      <td>0</td>\n",
              "    </tr>\n",
              "    <tr>\n",
              "      <th>3</th>\n",
              "      <td>LIBDISP8375185888</td>\n",
              "      <td>0</td>\n",
              "      <td>848.65</td>\n",
              "      <td>77.0</td>\n",
              "      <td>1,500</td>\n",
              "      <td>6</td>\n",
              "      <td>221.53</td>\n",
              "      <td>3422.423333</td>\n",
              "      <td>MALE</td>\n",
              "      <td>S</td>\n",
              "      <td>NORMAL</td>\n",
              "      <td>Universitaria</td>\n",
              "      <td>0</td>\n",
              "      <td>0</td>\n",
              "    </tr>\n",
              "    <tr>\n",
              "      <th>4</th>\n",
              "      <td>LIBDISP9694463037</td>\n",
              "      <td>0</td>\n",
              "      <td>470.52</td>\n",
              "      <td>82.0</td>\n",
              "      <td>1,000</td>\n",
              "      <td>3</td>\n",
              "      <td>91.34</td>\n",
              "      <td>1882.090000</td>\n",
              "      <td>FEMALE</td>\n",
              "      <td>S</td>\n",
              "      <td>NORMAL</td>\n",
              "      <td>Universitaria</td>\n",
              "      <td>1</td>\n",
              "      <td>0</td>\n",
              "    </tr>\n",
              "    <tr>\n",
              "      <th>5</th>\n",
              "      <td>LIBDISP0492929616</td>\n",
              "      <td>0</td>\n",
              "      <td>490.77</td>\n",
              "      <td>79.0</td>\n",
              "      <td>1,500</td>\n",
              "      <td>6</td>\n",
              "      <td>221.53</td>\n",
              "      <td>2448.016667</td>\n",
              "      <td>MALE</td>\n",
              "      <td>S</td>\n",
              "      <td>NORMAL</td>\n",
              "      <td>Carrera TÃÂ©cnica</td>\n",
              "      <td>1</td>\n",
              "      <td>0</td>\n",
              "    </tr>\n",
              "    <tr>\n",
              "      <th>6</th>\n",
              "      <td>LIBDISP6813272232</td>\n",
              "      <td>0</td>\n",
              "      <td>428.57</td>\n",
              "      <td>71.0</td>\n",
              "      <td>4,000</td>\n",
              "      <td>12</td>\n",
              "      <td>1,109.56</td>\n",
              "      <td>1803.923333</td>\n",
              "      <td>FEMALE</td>\n",
              "      <td>S</td>\n",
              "      <td>NORMAL</td>\n",
              "      <td>Universitaria</td>\n",
              "      <td>0</td>\n",
              "      <td>0</td>\n",
              "    </tr>\n",
              "    <tr>\n",
              "      <th>7</th>\n",
              "      <td>LIBDISP8862427268</td>\n",
              "      <td>1</td>\n",
              "      <td>647.87</td>\n",
              "      <td>4.0</td>\n",
              "      <td>1,200</td>\n",
              "      <td>6</td>\n",
              "      <td>289.11</td>\n",
              "      <td>2660.630000</td>\n",
              "      <td>MALE</td>\n",
              "      <td>S</td>\n",
              "      <td>NORMAL</td>\n",
              "      <td>Secundaria</td>\n",
              "      <td>1</td>\n",
              "      <td>0</td>\n",
              "    </tr>\n",
              "    <tr>\n",
              "      <th>8</th>\n",
              "      <td>LIBDISP7167831610</td>\n",
              "      <td>0</td>\n",
              "      <td>694.23</td>\n",
              "      <td>NaN</td>\n",
              "      <td>900</td>\n",
              "      <td>6</td>\n",
              "      <td>149.79</td>\n",
              "      <td>2912.158333</td>\n",
              "      <td>FEMALE</td>\n",
              "      <td>C</td>\n",
              "      <td>CPP</td>\n",
              "      <td>Universitaria</td>\n",
              "      <td>1</td>\n",
              "      <td>0</td>\n",
              "    </tr>\n",
              "    <tr>\n",
              "      <th>9</th>\n",
              "      <td>LIBDISP3835927929</td>\n",
              "      <td>1</td>\n",
              "      <td>209.48</td>\n",
              "      <td>77.0</td>\n",
              "      <td>1,000</td>\n",
              "      <td>6</td>\n",
              "      <td>152.32</td>\n",
              "      <td>2498.043333</td>\n",
              "      <td>MALE</td>\n",
              "      <td>S</td>\n",
              "      <td>NORMAL</td>\n",
              "      <td>Secundaria</td>\n",
              "      <td>1</td>\n",
              "      <td>0</td>\n",
              "    </tr>\n",
              "  </tbody>\n",
              "</table>\n",
              "</div>"
            ],
            "text/plain": [
              "          idPrestamo  target  ... default_request_term  default_request_amount\n",
              "0  LIBDISP9832897855       1  ...                    1                       0\n",
              "1  LIBDISP9021501745       1  ...                    0                       0\n",
              "2  LIBDISP4057314971       0  ...                    0                       0\n",
              "3  LIBDISP8375185888       0  ...                    0                       0\n",
              "4  LIBDISP9694463037       0  ...                    1                       0\n",
              "5  LIBDISP0492929616       0  ...                    1                       0\n",
              "6  LIBDISP6813272232       0  ...                    0                       0\n",
              "7  LIBDISP8862427268       1  ...                    1                       0\n",
              "8  LIBDISP7167831610       0  ...                    1                       0\n",
              "9  LIBDISP3835927929       1  ...                    1                       0\n",
              "\n",
              "[10 rows x 14 columns]"
            ]
          },
          "metadata": {
            "tags": []
          },
          "execution_count": 89
        }
      ]
    },
    {
      "cell_type": "code",
      "metadata": {
        "id": "9kF40DU0Iy1b",
        "outputId": "893d037b-cae0-47c4-8a39-e180d3e2f680",
        "colab": {
          "base_uri": "https://localhost:8080/",
          "height": 272
        }
      },
      "source": [
        "data.dtypes"
      ],
      "execution_count": 90,
      "outputs": [
        {
          "output_type": "execute_result",
          "data": {
            "text/plain": [
              "idPrestamo                        object\n",
              "target                             int64\n",
              "monthly_debt_capacity             object\n",
              "var_employment_time_in_months    float64\n",
              "approved_amount                   object\n",
              "approved_term                      int64\n",
              "approved_interest_amount          object\n",
              "var_net_income                   float64\n",
              "person_gender                     object\n",
              "credit_history_marital_status     object\n",
              "var_max_sbs_qual_12m              object\n",
              "person_degree_type_desc           object\n",
              "default_request_term               int64\n",
              "default_request_amount             int64\n",
              "dtype: object"
            ]
          },
          "metadata": {
            "tags": []
          },
          "execution_count": 90
        }
      ]
    },
    {
      "cell_type": "markdown",
      "metadata": {
        "id": "fKYuP-RL6ESP"
      },
      "source": [
        "# Pre-procesamiento"
      ]
    },
    {
      "cell_type": "code",
      "metadata": {
        "id": "xqHaJ31f9DBF"
      },
      "source": [
        "from sklearn.impute import SimpleImputer\n",
        "from sklearn.preprocessing import MinMaxScaler\n",
        "import tensorflow as tf\n",
        "from tensorflow import keras\n",
        "from tensorflow.keras import Sequential\n",
        "from tensorflow.keras.layers import Dense\n",
        "from keras.engine.saving import load_model\n",
        "from tensorflow.keras.optimizers import Adam\n",
        "from sklearn.model_selection import cross_val_score\n",
        "from sklearn.metrics import classification_report, confusion_matrix, accuracy_score\n",
        "from sklearn.ensemble import RandomForestRegressor\n",
        "from sklearn.model_selection import train_test_split"
      ],
      "execution_count": 91,
      "outputs": []
    },
    {
      "cell_type": "markdown",
      "metadata": {
        "id": "TbjR-XX74aRz"
      },
      "source": [
        "Eliminación de atributos innecesarios para la tarea de clasificación. 'idPrestamo' por ser un indice y 'default_request_amount' por solo tener data de uno de sus valores '0'."
      ]
    },
    {
      "cell_type": "code",
      "metadata": {
        "id": "DHBBXxIaI05V"
      },
      "source": [
        "del data[\"idPrestamo\"]\n",
        "del data[\"default_request_amount\"]"
      ],
      "execution_count": 92,
      "outputs": []
    },
    {
      "cell_type": "markdown",
      "metadata": {
        "id": "iT9Qt1J545dn"
      },
      "source": [
        "Union de las instancias con valor 'Carrera TÃÂ©cnica' y 'Carrera TÌÄå©cnica' en un solo valor 'Carrera Tecnica'."
      ]
    },
    {
      "cell_type": "code",
      "metadata": {
        "id": "KrGFhDZMJQTq",
        "outputId": "d734f197-0b44-4aac-8911-6dcd9d3e0161",
        "colab": {
          "base_uri": "https://localhost:8080/",
          "height": 102
        }
      },
      "source": [
        "for i in range(len(data['person_degree_type_desc'])):\n",
        "  if data['person_degree_type_desc'][i] == \"Carrera TÃÂ©cnica\" or data['person_degree_type_desc'][i] == \"Carrera TÌÄå©cnica\":\n",
        "    data['person_degree_type_desc'][i] = \"Carrera Tecnica\""
      ],
      "execution_count": 93,
      "outputs": [
        {
          "output_type": "stream",
          "text": [
            "/usr/local/lib/python3.6/dist-packages/ipykernel_launcher.py:3: SettingWithCopyWarning: \n",
            "A value is trying to be set on a copy of a slice from a DataFrame\n",
            "\n",
            "See the caveats in the documentation: https://pandas.pydata.org/pandas-docs/stable/user_guide/indexing.html#returning-a-view-versus-a-copy\n",
            "  This is separate from the ipykernel package so we can avoid doing imports until\n"
          ],
          "name": "stderr"
        }
      ]
    },
    {
      "cell_type": "markdown",
      "metadata": {
        "id": "z0QC_ceB5P2z"
      },
      "source": [
        "OneHotEnconding para los atributos cualitativos."
      ]
    },
    {
      "cell_type": "code",
      "metadata": {
        "id": "dfzK4IkDW2Zb"
      },
      "source": [
        "def oneHotEncoding(feature):\n",
        "  onehot_encoded = pd.get_dummies(data[feature], prefix=feature)\n",
        "  del data[feature]\n",
        "  return data.join(onehot_encoded)"
      ],
      "execution_count": 94,
      "outputs": []
    },
    {
      "cell_type": "code",
      "metadata": {
        "id": "e3HjEW9pJYlT"
      },
      "source": [
        "data = oneHotEncoding('person_gender')\n",
        "data = oneHotEncoding('credit_history_marital_status')\n",
        "data = oneHotEncoding('var_max_sbs_qual_12m')\n",
        "data = oneHotEncoding('person_degree_type_desc')"
      ],
      "execution_count": 95,
      "outputs": []
    },
    {
      "cell_type": "markdown",
      "metadata": {
        "id": "Aof2fGhF5Yl3"
      },
      "source": [
        "Transformación de los valores tipo object a valores numéricos."
      ]
    },
    {
      "cell_type": "code",
      "metadata": {
        "id": "9w6mX_Z7eS7d",
        "outputId": "48f353df-2172-403e-e9f5-3e503a42efbe",
        "colab": {
          "base_uri": "https://localhost:8080/",
          "height": 102
        }
      },
      "source": [
        "for i in data:\n",
        "  for j in range(len(data[i])):\n",
        "    if type(data[i][j]) == str:\n",
        "      data[i][j] = data[i][j].replace(',', '')"
      ],
      "execution_count": 96,
      "outputs": [
        {
          "output_type": "stream",
          "text": [
            "/usr/local/lib/python3.6/dist-packages/ipykernel_launcher.py:4: SettingWithCopyWarning: \n",
            "A value is trying to be set on a copy of a slice from a DataFrame\n",
            "\n",
            "See the caveats in the documentation: https://pandas.pydata.org/pandas-docs/stable/user_guide/indexing.html#returning-a-view-versus-a-copy\n",
            "  after removing the cwd from sys.path.\n"
          ],
          "name": "stderr"
        }
      ]
    },
    {
      "cell_type": "code",
      "metadata": {
        "id": "NIFfDtmxeKnw"
      },
      "source": [
        "for i in data:\n",
        "  if data[i].dtype == object:\n",
        "    data[i] = pd.to_numeric(data[i])"
      ],
      "execution_count": 97,
      "outputs": []
    },
    {
      "cell_type": "markdown",
      "metadata": {
        "id": "5wNXHR395sWW"
      },
      "source": [
        "Remplazo de valores faltantes utilizando SimpleImputer."
      ]
    },
    {
      "cell_type": "code",
      "metadata": {
        "id": "GtHmBZL3t67r"
      },
      "source": [
        "imputer = SimpleImputer(missing_values=np.nan, strategy='mean')\n",
        "data.var_employment_time_in_months = imputer.fit_transform(data['var_employment_time_in_months'].values.reshape(-1,1))"
      ],
      "execution_count": 98,
      "outputs": []
    },
    {
      "cell_type": "markdown",
      "metadata": {
        "id": "nHm2R8ke5kHe"
      },
      "source": [
        "Normalización MinMax para los valores que originalmente eran cuantitativos, excepto 'approved_term' porque son meses."
      ]
    },
    {
      "cell_type": "code",
      "metadata": {
        "id": "ddEP-hYx3t8w"
      },
      "source": [
        "def standardization(feature):\n",
        "  scaler = MinMaxScaler()\n",
        "  return scaler.fit_transform(data[feature].values.reshape(-1,1))"
      ],
      "execution_count": 99,
      "outputs": []
    },
    {
      "cell_type": "code",
      "metadata": {
        "id": "_MoOVwJowi6Q"
      },
      "source": [
        "data['monthly_debt_capacity'] = standardization('monthly_debt_capacity')\n",
        "data['var_employment_time_in_months'] = standardization('var_employment_time_in_months')\n",
        "data['approved_amount'] = standardization('approved_amount')\n",
        "data['approved_interest_amount'] = standardization('approved_interest_amount')\n",
        "data['var_net_income'] = standardization('var_net_income')"
      ],
      "execution_count": 100,
      "outputs": []
    },
    {
      "cell_type": "code",
      "metadata": {
        "id": "FWvaf__JtITo",
        "outputId": "2bf39106-e854-4d98-e410-f27bd217838f",
        "colab": {
          "base_uri": "https://localhost:8080/",
          "height": 396
        }
      },
      "source": [
        "data.head(10)"
      ],
      "execution_count": 101,
      "outputs": [
        {
          "output_type": "execute_result",
          "data": {
            "text/html": [
              "<div>\n",
              "<style scoped>\n",
              "    .dataframe tbody tr th:only-of-type {\n",
              "        vertical-align: middle;\n",
              "    }\n",
              "\n",
              "    .dataframe tbody tr th {\n",
              "        vertical-align: top;\n",
              "    }\n",
              "\n",
              "    .dataframe thead th {\n",
              "        text-align: right;\n",
              "    }\n",
              "</style>\n",
              "<table border=\"1\" class=\"dataframe\">\n",
              "  <thead>\n",
              "    <tr style=\"text-align: right;\">\n",
              "      <th></th>\n",
              "      <th>target</th>\n",
              "      <th>monthly_debt_capacity</th>\n",
              "      <th>var_employment_time_in_months</th>\n",
              "      <th>approved_amount</th>\n",
              "      <th>approved_term</th>\n",
              "      <th>approved_interest_amount</th>\n",
              "      <th>var_net_income</th>\n",
              "      <th>default_request_term</th>\n",
              "      <th>person_gender_FEMALE</th>\n",
              "      <th>person_gender_MALE</th>\n",
              "      <th>credit_history_marital_status_C</th>\n",
              "      <th>credit_history_marital_status_D</th>\n",
              "      <th>credit_history_marital_status_S</th>\n",
              "      <th>credit_history_marital_status_V</th>\n",
              "      <th>var_max_sbs_qual_12m_CPP</th>\n",
              "      <th>var_max_sbs_qual_12m_DEFICIENTE</th>\n",
              "      <th>var_max_sbs_qual_12m_DUDOSO</th>\n",
              "      <th>var_max_sbs_qual_12m_NORMAL</th>\n",
              "      <th>var_max_sbs_qual_12m_PERDIDA</th>\n",
              "      <th>person_degree_type_desc_Carrera Tecnica</th>\n",
              "      <th>person_degree_type_desc_Postgrado</th>\n",
              "      <th>person_degree_type_desc_Primaria</th>\n",
              "      <th>person_degree_type_desc_Secundaria</th>\n",
              "      <th>person_degree_type_desc_Universitaria</th>\n",
              "    </tr>\n",
              "  </thead>\n",
              "  <tbody>\n",
              "    <tr>\n",
              "      <th>0</th>\n",
              "      <td>1</td>\n",
              "      <td>0.055545</td>\n",
              "      <td>0.113636</td>\n",
              "      <td>0.059829</td>\n",
              "      <td>6</td>\n",
              "      <td>0.116370</td>\n",
              "      <td>0.039883</td>\n",
              "      <td>1</td>\n",
              "      <td>0</td>\n",
              "      <td>1</td>\n",
              "      <td>1</td>\n",
              "      <td>0</td>\n",
              "      <td>0</td>\n",
              "      <td>0</td>\n",
              "      <td>0</td>\n",
              "      <td>0</td>\n",
              "      <td>0</td>\n",
              "      <td>1</td>\n",
              "      <td>0</td>\n",
              "      <td>0</td>\n",
              "      <td>0</td>\n",
              "      <td>0</td>\n",
              "      <td>1</td>\n",
              "      <td>0</td>\n",
              "    </tr>\n",
              "    <tr>\n",
              "      <th>1</th>\n",
              "      <td>1</td>\n",
              "      <td>0.054488</td>\n",
              "      <td>0.579545</td>\n",
              "      <td>0.145299</td>\n",
              "      <td>12</td>\n",
              "      <td>0.294249</td>\n",
              "      <td>0.037128</td>\n",
              "      <td>0</td>\n",
              "      <td>1</td>\n",
              "      <td>0</td>\n",
              "      <td>0</td>\n",
              "      <td>0</td>\n",
              "      <td>1</td>\n",
              "      <td>0</td>\n",
              "      <td>0</td>\n",
              "      <td>0</td>\n",
              "      <td>0</td>\n",
              "      <td>1</td>\n",
              "      <td>0</td>\n",
              "      <td>0</td>\n",
              "      <td>0</td>\n",
              "      <td>0</td>\n",
              "      <td>1</td>\n",
              "      <td>0</td>\n",
              "    </tr>\n",
              "    <tr>\n",
              "      <th>2</th>\n",
              "      <td>0</td>\n",
              "      <td>0.087848</td>\n",
              "      <td>0.738636</td>\n",
              "      <td>0.042735</td>\n",
              "      <td>3</td>\n",
              "      <td>0.027169</td>\n",
              "      <td>0.072837</td>\n",
              "      <td>0</td>\n",
              "      <td>1</td>\n",
              "      <td>0</td>\n",
              "      <td>0</td>\n",
              "      <td>0</td>\n",
              "      <td>1</td>\n",
              "      <td>0</td>\n",
              "      <td>0</td>\n",
              "      <td>0</td>\n",
              "      <td>0</td>\n",
              "      <td>1</td>\n",
              "      <td>0</td>\n",
              "      <td>0</td>\n",
              "      <td>0</td>\n",
              "      <td>0</td>\n",
              "      <td>1</td>\n",
              "      <td>0</td>\n",
              "    </tr>\n",
              "    <tr>\n",
              "      <th>3</th>\n",
              "      <td>0</td>\n",
              "      <td>0.136099</td>\n",
              "      <td>0.886364</td>\n",
              "      <td>0.085470</td>\n",
              "      <td>6</td>\n",
              "      <td>0.086837</td>\n",
              "      <td>0.119720</td>\n",
              "      <td>0</td>\n",
              "      <td>0</td>\n",
              "      <td>1</td>\n",
              "      <td>0</td>\n",
              "      <td>0</td>\n",
              "      <td>1</td>\n",
              "      <td>0</td>\n",
              "      <td>0</td>\n",
              "      <td>0</td>\n",
              "      <td>0</td>\n",
              "      <td>1</td>\n",
              "      <td>0</td>\n",
              "      <td>0</td>\n",
              "      <td>0</td>\n",
              "      <td>0</td>\n",
              "      <td>0</td>\n",
              "      <td>1</td>\n",
              "    </tr>\n",
              "    <tr>\n",
              "      <th>4</th>\n",
              "      <td>0</td>\n",
              "      <td>0.085014</td>\n",
              "      <td>0.943182</td>\n",
              "      <td>0.042735</td>\n",
              "      <td>3</td>\n",
              "      <td>0.029944</td>\n",
              "      <td>0.065837</td>\n",
              "      <td>1</td>\n",
              "      <td>1</td>\n",
              "      <td>0</td>\n",
              "      <td>0</td>\n",
              "      <td>0</td>\n",
              "      <td>1</td>\n",
              "      <td>0</td>\n",
              "      <td>0</td>\n",
              "      <td>0</td>\n",
              "      <td>0</td>\n",
              "      <td>1</td>\n",
              "      <td>0</td>\n",
              "      <td>0</td>\n",
              "      <td>0</td>\n",
              "      <td>0</td>\n",
              "      <td>0</td>\n",
              "      <td>1</td>\n",
              "    </tr>\n",
              "    <tr>\n",
              "      <th>5</th>\n",
              "      <td>0</td>\n",
              "      <td>0.087750</td>\n",
              "      <td>0.909091</td>\n",
              "      <td>0.085470</td>\n",
              "      <td>6</td>\n",
              "      <td>0.086837</td>\n",
              "      <td>0.085634</td>\n",
              "      <td>1</td>\n",
              "      <td>0</td>\n",
              "      <td>1</td>\n",
              "      <td>0</td>\n",
              "      <td>0</td>\n",
              "      <td>1</td>\n",
              "      <td>0</td>\n",
              "      <td>0</td>\n",
              "      <td>0</td>\n",
              "      <td>0</td>\n",
              "      <td>1</td>\n",
              "      <td>0</td>\n",
              "      <td>1</td>\n",
              "      <td>0</td>\n",
              "      <td>0</td>\n",
              "      <td>0</td>\n",
              "      <td>0</td>\n",
              "    </tr>\n",
              "    <tr>\n",
              "      <th>6</th>\n",
              "      <td>0</td>\n",
              "      <td>0.079347</td>\n",
              "      <td>0.818182</td>\n",
              "      <td>0.299145</td>\n",
              "      <td>12</td>\n",
              "      <td>0.474912</td>\n",
              "      <td>0.063103</td>\n",
              "      <td>0</td>\n",
              "      <td>1</td>\n",
              "      <td>0</td>\n",
              "      <td>0</td>\n",
              "      <td>0</td>\n",
              "      <td>1</td>\n",
              "      <td>0</td>\n",
              "      <td>0</td>\n",
              "      <td>0</td>\n",
              "      <td>0</td>\n",
              "      <td>1</td>\n",
              "      <td>0</td>\n",
              "      <td>0</td>\n",
              "      <td>0</td>\n",
              "      <td>0</td>\n",
              "      <td>0</td>\n",
              "      <td>1</td>\n",
              "    </tr>\n",
              "    <tr>\n",
              "      <th>7</th>\n",
              "      <td>1</td>\n",
              "      <td>0.108974</td>\n",
              "      <td>0.056818</td>\n",
              "      <td>0.059829</td>\n",
              "      <td>6</td>\n",
              "      <td>0.116370</td>\n",
              "      <td>0.093071</td>\n",
              "      <td>1</td>\n",
              "      <td>0</td>\n",
              "      <td>1</td>\n",
              "      <td>0</td>\n",
              "      <td>0</td>\n",
              "      <td>1</td>\n",
              "      <td>0</td>\n",
              "      <td>0</td>\n",
              "      <td>0</td>\n",
              "      <td>0</td>\n",
              "      <td>1</td>\n",
              "      <td>0</td>\n",
              "      <td>0</td>\n",
              "      <td>0</td>\n",
              "      <td>0</td>\n",
              "      <td>1</td>\n",
              "      <td>0</td>\n",
              "    </tr>\n",
              "    <tr>\n",
              "      <th>8</th>\n",
              "      <td>0</td>\n",
              "      <td>0.115237</td>\n",
              "      <td>0.397495</td>\n",
              "      <td>0.034188</td>\n",
              "      <td>6</td>\n",
              "      <td>0.055487</td>\n",
              "      <td>0.101870</td>\n",
              "      <td>1</td>\n",
              "      <td>1</td>\n",
              "      <td>0</td>\n",
              "      <td>1</td>\n",
              "      <td>0</td>\n",
              "      <td>0</td>\n",
              "      <td>0</td>\n",
              "      <td>1</td>\n",
              "      <td>0</td>\n",
              "      <td>0</td>\n",
              "      <td>0</td>\n",
              "      <td>0</td>\n",
              "      <td>0</td>\n",
              "      <td>0</td>\n",
              "      <td>0</td>\n",
              "      <td>0</td>\n",
              "      <td>1</td>\n",
              "    </tr>\n",
              "    <tr>\n",
              "      <th>9</th>\n",
              "      <td>1</td>\n",
              "      <td>0.049748</td>\n",
              "      <td>0.886364</td>\n",
              "      <td>0.042735</td>\n",
              "      <td>6</td>\n",
              "      <td>0.056592</td>\n",
              "      <td>0.087384</td>\n",
              "      <td>1</td>\n",
              "      <td>0</td>\n",
              "      <td>1</td>\n",
              "      <td>0</td>\n",
              "      <td>0</td>\n",
              "      <td>1</td>\n",
              "      <td>0</td>\n",
              "      <td>0</td>\n",
              "      <td>0</td>\n",
              "      <td>0</td>\n",
              "      <td>1</td>\n",
              "      <td>0</td>\n",
              "      <td>0</td>\n",
              "      <td>0</td>\n",
              "      <td>0</td>\n",
              "      <td>1</td>\n",
              "      <td>0</td>\n",
              "    </tr>\n",
              "  </tbody>\n",
              "</table>\n",
              "</div>"
            ],
            "text/plain": [
              "   target  ...  person_degree_type_desc_Universitaria\n",
              "0       1  ...                                      0\n",
              "1       1  ...                                      0\n",
              "2       0  ...                                      0\n",
              "3       0  ...                                      1\n",
              "4       0  ...                                      1\n",
              "5       0  ...                                      0\n",
              "6       0  ...                                      1\n",
              "7       1  ...                                      0\n",
              "8       0  ...                                      1\n",
              "9       1  ...                                      0\n",
              "\n",
              "[10 rows x 24 columns]"
            ]
          },
          "metadata": {
            "tags": []
          },
          "execution_count": 101
        }
      ]
    },
    {
      "cell_type": "markdown",
      "metadata": {
        "id": "VolxBY6n7a0X"
      },
      "source": [
        "# TensorFlow Classifier"
      ]
    },
    {
      "cell_type": "markdown",
      "metadata": {
        "id": "_Uw8Dgo9apd8"
      },
      "source": [
        "### Especificar tamaño de columnas que se van a evaluar"
      ]
    },
    {
      "cell_type": "code",
      "metadata": {
        "id": "m9dQZM21aleE"
      },
      "source": [
        "inputDim = 15"
      ],
      "execution_count": 102,
      "outputs": []
    },
    {
      "cell_type": "code",
      "metadata": {
        "id": "dZgEgpVLaFMX"
      },
      "source": [
        "X = data.iloc[:,1:]\n",
        "y = data.target"
      ],
      "execution_count": 103,
      "outputs": []
    },
    {
      "cell_type": "code",
      "metadata": {
        "id": "OuTWMLmcaIyi"
      },
      "source": [
        "x_train, x_test, y_train, y_test = train_test_split(X, y, test_size = 0.20)"
      ],
      "execution_count": 104,
      "outputs": []
    },
    {
      "cell_type": "code",
      "metadata": {
        "id": "4qZuct_oHMC_"
      },
      "source": [
        "def embedded(x_,y_):\n",
        "    rf = RandomForestRegressor()\n",
        "    rf.fit(x_, y_)\n",
        "    scores_ = rf.feature_importances_\n",
        "    columnsEmbeding = []\n",
        "    tupla = []\n",
        "    for i in range(len(scores_)):\n",
        "        tupla.append( (x_.columns[i], scores_[i]) )\n",
        "    tupla.sort(key=lambda tup: tup[1])\n",
        "    for i in range(inputDim):\n",
        "        columnsEmbeding.append(tupla[i][0])\n",
        "    return columnsEmbeding"
      ],
      "execution_count": 105,
      "outputs": []
    },
    {
      "cell_type": "code",
      "metadata": {
        "id": "dx2Lu-MuHgTf",
        "outputId": "7e79bb16-56a0-4ece-c8e3-b361f0a624a3",
        "colab": {
          "base_uri": "https://localhost:8080/",
          "height": 272
        }
      },
      "source": [
        "columns = embedded(x_train,y_train)\n",
        "columns"
      ],
      "execution_count": 106,
      "outputs": [
        {
          "output_type": "execute_result",
          "data": {
            "text/plain": [
              "['credit_history_marital_status_V',\n",
              " 'var_max_sbs_qual_12m_DUDOSO',\n",
              " 'var_max_sbs_qual_12m_PERDIDA',\n",
              " 'credit_history_marital_status_D',\n",
              " 'person_degree_type_desc_Primaria',\n",
              " 'var_max_sbs_qual_12m_DEFICIENTE',\n",
              " 'person_degree_type_desc_Postgrado',\n",
              " 'var_max_sbs_qual_12m_CPP',\n",
              " 'var_max_sbs_qual_12m_NORMAL',\n",
              " 'credit_history_marital_status_C',\n",
              " 'credit_history_marital_status_S',\n",
              " 'approved_term',\n",
              " 'person_gender_MALE',\n",
              " 'person_gender_FEMALE',\n",
              " 'person_degree_type_desc_Universitaria']"
            ]
          },
          "metadata": {
            "tags": []
          },
          "execution_count": 106
        }
      ]
    },
    {
      "cell_type": "code",
      "metadata": {
        "id": "yvg3QCKQJyot"
      },
      "source": [
        "from sklearn.preprocessing import normalize\n",
        "x_traints = x_train[columns].to_numpy()\n",
        "x_testts = x_test[columns].to_numpy()\n",
        "x_traints = normalize(x_traints)\n",
        "x_testts = normalize(x_testts)\n",
        "y_traints = y_train.to_numpy()\n",
        "y_testts = y_test.to_numpy()"
      ],
      "execution_count": 107,
      "outputs": []
    },
    {
      "cell_type": "code",
      "metadata": {
        "id": "IY6tNVh_MJV_",
        "outputId": "e195928f-f018-42a6-981f-45b0de167eb5",
        "colab": {
          "base_uri": "https://localhost:8080/",
          "height": 34
        }
      },
      "source": [
        "len(x_traints)\n",
        "x_testts.shape"
      ],
      "execution_count": 108,
      "outputs": [
        {
          "output_type": "execute_result",
          "data": {
            "text/plain": [
              "(344, 15)"
            ]
          },
          "metadata": {
            "tags": []
          },
          "execution_count": 108
        }
      ]
    },
    {
      "cell_type": "code",
      "metadata": {
        "id": "TPpUxJvNHopm"
      },
      "source": [
        "model = Sequential([Dense(5, input_dim=15, activation= keras.activations.selu),\n",
        "                    Dense(2,activation= keras.activations.sigmoid),\n",
        "                    Dense(3,activation= keras.activations.softmax),\n",
        "                    Dense(1, activation= keras.activations.relu)])\n",
        "#opt = keras.optimizers.Adam()\n",
        "opt = keras.optimizers.SGD()\n",
        "#opt = keras.optimizers.Adagrad()\n",
        "model.compile(optimizer=opt, loss='binary_crossentropy', metrics=['accuracy'])"
      ],
      "execution_count": 109,
      "outputs": []
    },
    {
      "cell_type": "code",
      "metadata": {
        "id": "VnXw9gKqJaLC",
        "outputId": "cc470b5f-0b9a-4a48-ea64-b277f6973dd3",
        "colab": {
          "base_uri": "https://localhost:8080/",
          "height": 1000
        }
      },
      "source": [
        "hist = model.fit(x_traints, y_traints, epochs=30, batch_size=100, verbose=2)"
      ],
      "execution_count": 110,
      "outputs": [
        {
          "output_type": "stream",
          "text": [
            "Epoch 1/30\n",
            "14/14 - 0s - loss: 4.6892 - accuracy: 0.6960\n",
            "Epoch 2/30\n",
            "14/14 - 0s - loss: 4.6892 - accuracy: 0.6960\n",
            "Epoch 3/30\n",
            "14/14 - 0s - loss: 4.6892 - accuracy: 0.6960\n",
            "Epoch 4/30\n",
            "14/14 - 0s - loss: 4.6892 - accuracy: 0.6960\n",
            "Epoch 5/30\n",
            "14/14 - 0s - loss: 4.6892 - accuracy: 0.6960\n",
            "Epoch 6/30\n",
            "14/14 - 0s - loss: 4.6892 - accuracy: 0.6960\n",
            "Epoch 7/30\n",
            "14/14 - 0s - loss: 4.6892 - accuracy: 0.6960\n",
            "Epoch 8/30\n",
            "14/14 - 0s - loss: 4.6892 - accuracy: 0.6960\n",
            "Epoch 9/30\n",
            "14/14 - 0s - loss: 4.6892 - accuracy: 0.6960\n",
            "Epoch 10/30\n",
            "14/14 - 0s - loss: 4.6892 - accuracy: 0.6960\n",
            "Epoch 11/30\n",
            "14/14 - 0s - loss: 4.6892 - accuracy: 0.6960\n",
            "Epoch 12/30\n",
            "14/14 - 0s - loss: 4.6892 - accuracy: 0.6960\n",
            "Epoch 13/30\n",
            "14/14 - 0s - loss: 4.6892 - accuracy: 0.6960\n",
            "Epoch 14/30\n",
            "14/14 - 0s - loss: 4.6892 - accuracy: 0.6960\n",
            "Epoch 15/30\n",
            "14/14 - 0s - loss: 4.6892 - accuracy: 0.6960\n",
            "Epoch 16/30\n",
            "14/14 - 0s - loss: 4.6892 - accuracy: 0.6960\n",
            "Epoch 17/30\n",
            "14/14 - 0s - loss: 4.6892 - accuracy: 0.6960\n",
            "Epoch 18/30\n",
            "14/14 - 0s - loss: 4.6892 - accuracy: 0.6960\n",
            "Epoch 19/30\n",
            "14/14 - 0s - loss: 4.6892 - accuracy: 0.6960\n",
            "Epoch 20/30\n",
            "14/14 - 0s - loss: 4.6892 - accuracy: 0.6960\n",
            "Epoch 21/30\n",
            "14/14 - 0s - loss: 4.6892 - accuracy: 0.6960\n",
            "Epoch 22/30\n",
            "14/14 - 0s - loss: 4.6892 - accuracy: 0.6960\n",
            "Epoch 23/30\n",
            "14/14 - 0s - loss: 4.6892 - accuracy: 0.6960\n",
            "Epoch 24/30\n",
            "14/14 - 0s - loss: 4.6892 - accuracy: 0.6960\n",
            "Epoch 25/30\n",
            "14/14 - 0s - loss: 4.6892 - accuracy: 0.6960\n",
            "Epoch 26/30\n",
            "14/14 - 0s - loss: 4.6892 - accuracy: 0.6960\n",
            "Epoch 27/30\n",
            "14/14 - 0s - loss: 4.6892 - accuracy: 0.6960\n",
            "Epoch 28/30\n",
            "14/14 - 0s - loss: 4.6892 - accuracy: 0.6960\n",
            "Epoch 29/30\n",
            "14/14 - 0s - loss: 4.6892 - accuracy: 0.6960\n",
            "Epoch 30/30\n",
            "14/14 - 0s - loss: 4.6892 - accuracy: 0.6960\n"
          ],
          "name": "stdout"
        }
      ]
    },
    {
      "cell_type": "code",
      "metadata": {
        "id": "f3yCxKQ8Jjn5",
        "outputId": "fff927da-3639-4f02-8ed4-dc60b1e7a21d",
        "colab": {
          "base_uri": "https://localhost:8080/",
          "height": 51
        }
      },
      "source": [
        "model.evaluate(x_testts, y_testts)"
      ],
      "execution_count": 111,
      "outputs": [
        {
          "output_type": "stream",
          "text": [
            "11/11 [==============================] - 0s 1ms/step - loss: 4.0356 - accuracy: 0.7384\n"
          ],
          "name": "stdout"
        },
        {
          "output_type": "execute_result",
          "data": {
            "text/plain": [
              "[4.03559684753418, 0.7383720874786377]"
            ]
          },
          "metadata": {
            "tags": []
          },
          "execution_count": 111
        }
      ]
    },
    {
      "cell_type": "code",
      "metadata": {
        "id": "K3XklnbFJj2T",
        "outputId": "d47f5829-a9d2-4e9b-9f01-6c5399218a45",
        "colab": {
          "base_uri": "https://localhost:8080/",
          "height": 466
        }
      },
      "source": [
        "keras.utils.plot_model(model)"
      ],
      "execution_count": 112,
      "outputs": [
        {
          "output_type": "execute_result",
          "data": {
            "image/png": "[encoded data removed]",
            "text/plain": [
              "<IPython.core.display.Image object>"
            ]
          },
          "metadata": {
            "tags": []
          },
          "execution_count": 112
        }
      ]
    },
    {
      "cell_type": "code",
      "metadata": {
        "id": "VXzlBs-qT-AT",
        "outputId": "380bbb34-9d23-4e52-ef55-762b947c32ff",
        "colab": {
          "base_uri": "https://localhost:8080/",
          "height": 54
        }
      },
      "source": [
        "print(hist.history)"
      ],
      "execution_count": 113,
      "outputs": [
        {
          "output_type": "stream",
          "text": [
            "{'loss': [4.689184188842773, 4.689184188842773, 4.689183712005615, 4.689184188842773, 4.689183712005615, 4.689184188842773, 4.689184665679932, 4.689183712005615, 4.689184188842773, 4.689183712005615, 4.689183712005615, 4.689184188842773, 4.689184665679932, 4.689183712005615, 4.689183712005615, 4.689184665679932, 4.689184188842773, 4.689184188842773, 4.689184188842773, 4.689183712005615, 4.689184188842773, 4.689184665679932, 4.689184188842773, 4.689184665679932, 4.689183712005615, 4.689184188842773, 4.689184188842773, 4.689184188842773, 4.689184188842773, 4.689184665679932], 'accuracy': [0.6959999799728394, 0.6959999799728394, 0.6959999799728394, 0.6959999799728394, 0.6959999799728394, 0.6959999799728394, 0.6959999799728394, 0.6959999799728394, 0.6959999799728394, 0.6959999799728394, 0.6959999799728394, 0.6959999799728394, 0.6959999799728394, 0.6959999799728394, 0.6959999799728394, 0.6959999799728394, 0.6959999799728394, 0.6959999799728394, 0.6959999799728394, 0.6959999799728394, 0.6959999799728394, 0.6959999799728394, 0.6959999799728394, 0.6959999799728394, 0.6959999799728394, 0.6959999799728394, 0.6959999799728394, 0.6959999799728394, 0.6959999799728394, 0.6959999799728394]}\n"
          ],
          "name": "stdout"
        }
      ]
    },
    {
      "cell_type": "code",
      "metadata": {
        "id": "VzlllW-nOYEa",
        "outputId": "13d86a7f-8996-4dd6-f6a3-bbded2defd0e",
        "colab": {
          "base_uri": "https://localhost:8080/",
          "height": 444
        }
      },
      "source": [
        "import matplotlib.pyplot as plt\n",
        "\n",
        "plt.figure(figsize=[14,7])\n",
        "ax= plt.subplot(1,2,1)\n",
        "plt.plot(hist.history['accuracy'])\n",
        "plt.title('Accuracy')\n",
        "ax= plt.subplot(1,2,2)\n",
        "plt.plot(hist.history['loss'])\n",
        "plt.title('Loss')\n",
        "plt.show()"
      ],
      "execution_count": 114,
      "outputs": [
        {
          "output_type": "display_data",
          "data": {
            "image/png": "[encoded data removed]",
            "text/plain": [
              "<Figure size 1008x504 with 2 Axes>"
            ]
          },
          "metadata": {
            "tags": [],
            "needs_background": "light"
          }
        }
      ]
    },
    {
      "cell_type": "code",
      "metadata": {
        "id": "eelygsUyYJzw"
      },
      "source": [
        "model.save('bancos_tfmodel.h5')"
      ],
      "execution_count": 115,
      "outputs": []
    },
    {
      "cell_type": "code",
      "metadata": {
        "id": "PIg7UxbCezGS"
      },
      "source": [
        "import tensorflow_model_analysis as tfma"
      ],
      "execution_count": 116,
      "outputs": []
    },
    {
      "cell_type": "code",
      "metadata": {
        "id": "jxj9I7_Le6K8"
      },
      "source": [
        ""
      ],
      "execution_count": 116,
      "outputs": []
    }
  ]
}