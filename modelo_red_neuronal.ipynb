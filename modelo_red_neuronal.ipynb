{
  "nbformat": 4,
  "nbformat_minor": 0,
  "metadata": {
    "colab": {
      "name": "Untitled13.ipynb",
      "provenance": []
    },
    "kernelspec": {
      "name": "python3",
      "display_name": "Python 3"
    }
  },
  "cells": [
    {
      "cell_type": "markdown",
      "metadata": {
        "id": "InZO1Oki5cVI"
      },
      "source": [
        "# PRE PROCESAMIENTO DE LA DATA"
      ]
    },
    {
      "cell_type": "markdown",
      "metadata": {
        "id": "t39GFPWd5kzz"
      },
      "source": [
        "Importamos las bibliotecas necesarias para poder aplicar feature engineering al dataset y las bibliotecas propias para realizar el modelo de neural network."
      ]
    },
    {
      "cell_type": "code",
      "metadata": {
        "id": "q5x97ERTfnTR"
      },
      "source": [
        "!pip install opencv-python==3.4.2.16\n",
        "!pip install opencv-contrib-python==3.4.2.16\n",
        "import cv2\n",
        "import numpy as np\n",
        "import pandas as pd\n",
        "import os\n",
        "from sklearn.cluster import KMeans\n",
        "from matplotlib import pyplot as plt"
      ],
      "execution_count": 1,
      "outputs": []
    },
    {
      "cell_type": "code",
      "metadata": {
        "id": "Uw2THEhv6A7R"
      },
      "source": [
        "Para acceder al dataset, se accede directamente desde el link de github."
      ],
      "execution_count": null,
      "outputs": []
    },
    {
      "cell_type": "code",
      "metadata": {
        "id": "cKixRCTifl9z",
        "outputId": "161743a6-6e62-4d73-8547-854000c8656d",
        "colab": {
          "base_uri": "https://localhost:8080/",
          "height": 534
        }
      },
      "source": [
        "data = pd.read_csv('https://raw.githubusercontent.com/JumpNShootMan/TP_MachineLearning/master/datos_banco.csv', encoding='latin-1')\n",
        "\n",
        "data.head(15)"
      ],
      "execution_count": 5,
      "outputs": [
        {
          "output_type": "execute_result",
          "data": {
            "text/html": [
              "<div>\n",
              "<style scoped>\n",
              "    .dataframe tbody tr th:only-of-type {\n",
              "        vertical-align: middle;\n",
              "    }\n",
              "\n",
              "    .dataframe tbody tr th {\n",
              "        vertical-align: top;\n",
              "    }\n",
              "\n",
              "    .dataframe thead th {\n",
              "        text-align: right;\n",
              "    }\n",
              "</style>\n",
              "<table border=\"1\" class=\"dataframe\">\n",
              "  <thead>\n",
              "    <tr style=\"text-align: right;\">\n",
              "      <th></th>\n",
              "      <th>idPrestamo</th>\n",
              "      <th>target</th>\n",
              "      <th>monthly_debt_capacity</th>\n",
              "      <th>var_employment_time_in_months</th>\n",
              "      <th>approved_amount</th>\n",
              "      <th>approved_term</th>\n",
              "      <th>approved_interest_amount</th>\n",
              "      <th>var_net_income</th>\n",
              "      <th>person_gender</th>\n",
              "      <th>credit_history_marital_status</th>\n",
              "      <th>var_max_sbs_qual_12m</th>\n",
              "      <th>person_degree_type_desc</th>\n",
              "      <th>default_request_term</th>\n",
              "      <th>default_request_amount</th>\n",
              "    </tr>\n",
              "  </thead>\n",
              "  <tbody>\n",
              "    <tr>\n",
              "      <th>0</th>\n",
              "      <td>LIBDISP9832897855</td>\n",
              "      <td>1</td>\n",
              "      <td>252.39</td>\n",
              "      <td>9.0</td>\n",
              "      <td>1,200</td>\n",
              "      <td>6</td>\n",
              "      <td>289.11</td>\n",
              "      <td>1140.125000</td>\n",
              "      <td>MALE</td>\n",
              "      <td>C</td>\n",
              "      <td>NORMAL</td>\n",
              "      <td>Secundaria</td>\n",
              "      <td>1</td>\n",
              "      <td>0</td>\n",
              "    </tr>\n",
              "    <tr>\n",
              "      <th>1</th>\n",
              "      <td>LIBDISP9021501745</td>\n",
              "      <td>1</td>\n",
              "      <td>244.57</td>\n",
              "      <td>50.0</td>\n",
              "      <td>2,200</td>\n",
              "      <td>12</td>\n",
              "      <td>696.15</td>\n",
              "      <td>1061.375000</td>\n",
              "      <td>FEMALE</td>\n",
              "      <td>S</td>\n",
              "      <td>NORMAL</td>\n",
              "      <td>Secundaria</td>\n",
              "      <td>0</td>\n",
              "      <td>0</td>\n",
              "    </tr>\n",
              "    <tr>\n",
              "      <th>2</th>\n",
              "      <td>LIBDISP4057314971</td>\n",
              "      <td>0</td>\n",
              "      <td>491.5</td>\n",
              "      <td>64.0</td>\n",
              "      <td>1,000</td>\n",
              "      <td>3</td>\n",
              "      <td>84.99</td>\n",
              "      <td>2082.196667</td>\n",
              "      <td>FEMALE</td>\n",
              "      <td>S</td>\n",
              "      <td>NORMAL</td>\n",
              "      <td>Secundaria</td>\n",
              "      <td>0</td>\n",
              "      <td>0</td>\n",
              "    </tr>\n",
              "    <tr>\n",
              "      <th>3</th>\n",
              "      <td>LIBDISP8375185888</td>\n",
              "      <td>0</td>\n",
              "      <td>848.65</td>\n",
              "      <td>77.0</td>\n",
              "      <td>1,500</td>\n",
              "      <td>6</td>\n",
              "      <td>221.53</td>\n",
              "      <td>3422.423333</td>\n",
              "      <td>MALE</td>\n",
              "      <td>S</td>\n",
              "      <td>NORMAL</td>\n",
              "      <td>Universitaria</td>\n",
              "      <td>0</td>\n",
              "      <td>0</td>\n",
              "    </tr>\n",
              "    <tr>\n",
              "      <th>4</th>\n",
              "      <td>LIBDISP9694463037</td>\n",
              "      <td>0</td>\n",
              "      <td>470.52</td>\n",
              "      <td>82.0</td>\n",
              "      <td>1,000</td>\n",
              "      <td>3</td>\n",
              "      <td>91.34</td>\n",
              "      <td>1882.090000</td>\n",
              "      <td>FEMALE</td>\n",
              "      <td>S</td>\n",
              "      <td>NORMAL</td>\n",
              "      <td>Universitaria</td>\n",
              "      <td>1</td>\n",
              "      <td>0</td>\n",
              "    </tr>\n",
              "    <tr>\n",
              "      <th>5</th>\n",
              "      <td>LIBDISP0492929616</td>\n",
              "      <td>0</td>\n",
              "      <td>490.77</td>\n",
              "      <td>79.0</td>\n",
              "      <td>1,500</td>\n",
              "      <td>6</td>\n",
              "      <td>221.53</td>\n",
              "      <td>2448.016667</td>\n",
              "      <td>MALE</td>\n",
              "      <td>S</td>\n",
              "      <td>NORMAL</td>\n",
              "      <td>Carrera TÃÂ©cnica</td>\n",
              "      <td>1</td>\n",
              "      <td>0</td>\n",
              "    </tr>\n",
              "    <tr>\n",
              "      <th>6</th>\n",
              "      <td>LIBDISP6813272232</td>\n",
              "      <td>0</td>\n",
              "      <td>428.57</td>\n",
              "      <td>71.0</td>\n",
              "      <td>4,000</td>\n",
              "      <td>12</td>\n",
              "      <td>1,109.56</td>\n",
              "      <td>1803.923333</td>\n",
              "      <td>FEMALE</td>\n",
              "      <td>S</td>\n",
              "      <td>NORMAL</td>\n",
              "      <td>Universitaria</td>\n",
              "      <td>0</td>\n",
              "      <td>0</td>\n",
              "    </tr>\n",
              "    <tr>\n",
              "      <th>7</th>\n",
              "      <td>LIBDISP8862427268</td>\n",
              "      <td>1</td>\n",
              "      <td>647.87</td>\n",
              "      <td>4.0</td>\n",
              "      <td>1,200</td>\n",
              "      <td>6</td>\n",
              "      <td>289.11</td>\n",
              "      <td>2660.630000</td>\n",
              "      <td>MALE</td>\n",
              "      <td>S</td>\n",
              "      <td>NORMAL</td>\n",
              "      <td>Secundaria</td>\n",
              "      <td>1</td>\n",
              "      <td>0</td>\n",
              "    </tr>\n",
              "    <tr>\n",
              "      <th>8</th>\n",
              "      <td>LIBDISP7167831610</td>\n",
              "      <td>0</td>\n",
              "      <td>694.23</td>\n",
              "      <td>NaN</td>\n",
              "      <td>900</td>\n",
              "      <td>6</td>\n",
              "      <td>149.79</td>\n",
              "      <td>2912.158333</td>\n",
              "      <td>FEMALE</td>\n",
              "      <td>C</td>\n",
              "      <td>CPP</td>\n",
              "      <td>Universitaria</td>\n",
              "      <td>1</td>\n",
              "      <td>0</td>\n",
              "    </tr>\n",
              "    <tr>\n",
              "      <th>9</th>\n",
              "      <td>LIBDISP3835927929</td>\n",
              "      <td>1</td>\n",
              "      <td>209.48</td>\n",
              "      <td>77.0</td>\n",
              "      <td>1,000</td>\n",
              "      <td>6</td>\n",
              "      <td>152.32</td>\n",
              "      <td>2498.043333</td>\n",
              "      <td>MALE</td>\n",
              "      <td>S</td>\n",
              "      <td>NORMAL</td>\n",
              "      <td>Secundaria</td>\n",
              "      <td>1</td>\n",
              "      <td>0</td>\n",
              "    </tr>\n",
              "    <tr>\n",
              "      <th>10</th>\n",
              "      <td>LIBDISP0355045033</td>\n",
              "      <td>0</td>\n",
              "      <td>740.53</td>\n",
              "      <td>43.0</td>\n",
              "      <td>600</td>\n",
              "      <td>4</td>\n",
              "      <td>61.97</td>\n",
              "      <td>4339.761667</td>\n",
              "      <td>MALE</td>\n",
              "      <td>S</td>\n",
              "      <td>NORMAL</td>\n",
              "      <td>Universitaria</td>\n",
              "      <td>0</td>\n",
              "      <td>0</td>\n",
              "    </tr>\n",
              "    <tr>\n",
              "      <th>11</th>\n",
              "      <td>LIBDISP5414743218</td>\n",
              "      <td>0</td>\n",
              "      <td>256.66</td>\n",
              "      <td>73.0</td>\n",
              "      <td>1,200</td>\n",
              "      <td>6</td>\n",
              "      <td>289.11</td>\n",
              "      <td>2279.176667</td>\n",
              "      <td>FEMALE</td>\n",
              "      <td>S</td>\n",
              "      <td>CPP</td>\n",
              "      <td>Secundaria</td>\n",
              "      <td>0</td>\n",
              "      <td>0</td>\n",
              "    </tr>\n",
              "    <tr>\n",
              "      <th>12</th>\n",
              "      <td>LIBDISP1965000460</td>\n",
              "      <td>0</td>\n",
              "      <td>211.16</td>\n",
              "      <td>5.0</td>\n",
              "      <td>1,000</td>\n",
              "      <td>6</td>\n",
              "      <td>240.92</td>\n",
              "      <td>1204.875000</td>\n",
              "      <td>FEMALE</td>\n",
              "      <td>S</td>\n",
              "      <td>CPP</td>\n",
              "      <td>Secundaria</td>\n",
              "      <td>0</td>\n",
              "      <td>0</td>\n",
              "    </tr>\n",
              "    <tr>\n",
              "      <th>13</th>\n",
              "      <td>LIBDISP1947886051</td>\n",
              "      <td>0</td>\n",
              "      <td>214.08</td>\n",
              "      <td>14.0</td>\n",
              "      <td>1,000</td>\n",
              "      <td>6</td>\n",
              "      <td>240.92</td>\n",
              "      <td>1312.500000</td>\n",
              "      <td>MALE</td>\n",
              "      <td>S</td>\n",
              "      <td>CPP</td>\n",
              "      <td>Carrera TÃÂ©cnica</td>\n",
              "      <td>1</td>\n",
              "      <td>0</td>\n",
              "    </tr>\n",
              "    <tr>\n",
              "      <th>14</th>\n",
              "      <td>LIBDISP4328432214</td>\n",
              "      <td>1</td>\n",
              "      <td>298.9</td>\n",
              "      <td>12.0</td>\n",
              "      <td>1,400</td>\n",
              "      <td>6</td>\n",
              "      <td>207.69</td>\n",
              "      <td>1875.000000</td>\n",
              "      <td>MALE</td>\n",
              "      <td>S</td>\n",
              "      <td>NORMAL</td>\n",
              "      <td>Universitaria</td>\n",
              "      <td>1</td>\n",
              "      <td>0</td>\n",
              "    </tr>\n",
              "  </tbody>\n",
              "</table>\n",
              "</div>"
            ],
            "text/plain": [
              "           idPrestamo  target  ... default_request_term  default_request_amount\n",
              "0   LIBDISP9832897855       1  ...                    1                       0\n",
              "1   LIBDISP9021501745       1  ...                    0                       0\n",
              "2   LIBDISP4057314971       0  ...                    0                       0\n",
              "3   LIBDISP8375185888       0  ...                    0                       0\n",
              "4   LIBDISP9694463037       0  ...                    1                       0\n",
              "5   LIBDISP0492929616       0  ...                    1                       0\n",
              "6   LIBDISP6813272232       0  ...                    0                       0\n",
              "7   LIBDISP8862427268       1  ...                    1                       0\n",
              "8   LIBDISP7167831610       0  ...                    1                       0\n",
              "9   LIBDISP3835927929       1  ...                    1                       0\n",
              "10  LIBDISP0355045033       0  ...                    0                       0\n",
              "11  LIBDISP5414743218       0  ...                    0                       0\n",
              "12  LIBDISP1965000460       0  ...                    0                       0\n",
              "13  LIBDISP1947886051       0  ...                    1                       0\n",
              "14  LIBDISP4328432214       1  ...                    1                       0\n",
              "\n",
              "[15 rows x 14 columns]"
            ]
          },
          "metadata": {
            "tags": []
          },
          "execution_count": 5
        }
      ]
    },
    {
      "cell_type": "code",
      "metadata": {
        "id": "jBV5BlLefqPA"
      },
      "source": [
        "del data[\"idPrestamo\"]\n",
        "del data[\"default_request_amount\"]"
      ],
      "execution_count": 6,
      "outputs": []
    },
    {
      "cell_type": "code",
      "metadata": {
        "id": "bG47Xlftfqvp",
        "outputId": "071fce31-110d-458b-fb91-5c328638c6b3",
        "colab": {
          "base_uri": "https://localhost:8080/",
          "height": 153
        }
      },
      "source": [
        "data.groupby('var_max_sbs_qual_12m').size()\n",
        "data.groupby('person_degree_type_desc').size()"
      ],
      "execution_count": 7,
      "outputs": [
        {
          "output_type": "execute_result",
          "data": {
            "text/plain": [
              "person_degree_type_desc\n",
              "Carrera TÃÂ©cnica    432\n",
              "Carrera TÌÄå©cnica    192\n",
              "Postgrado              65\n",
              "Primaria                3\n",
              "Secundaria            220\n",
              "Universitaria         807\n",
              "dtype: int64"
            ]
          },
          "metadata": {
            "tags": []
          },
          "execution_count": 7
        }
      ]
    },
    {
      "cell_type": "code",
      "metadata": {
        "id": "6lO_R41BgCm2",
        "outputId": "92295a68-fd9b-41fa-8fb5-0b2342bbdc23",
        "colab": {
          "base_uri": "https://localhost:8080/",
          "height": 102
        }
      },
      "source": [
        "for i in range(len(data['person_degree_type_desc'])):\n",
        "  if data['person_degree_type_desc'][i] == \"Carrera TÃÂ©cnica\" or data['person_degree_type_desc'][i] == \"Carrera TÌÄå©cnica\":\n",
        "    data['person_degree_type_desc'][i] = \"Carrera Tecnica\""
      ],
      "execution_count": 8,
      "outputs": [
        {
          "output_type": "stream",
          "text": [
            "/usr/local/lib/python3.6/dist-packages/ipykernel_launcher.py:3: SettingWithCopyWarning: \n",
            "A value is trying to be set on a copy of a slice from a DataFrame\n",
            "\n",
            "See the caveats in the documentation: https://pandas.pydata.org/pandas-docs/stable/user_guide/indexing.html#returning-a-view-versus-a-copy\n",
            "  This is separate from the ipykernel package so we can avoid doing imports until\n"
          ],
          "name": "stderr"
        }
      ]
    },
    {
      "cell_type": "code",
      "metadata": {
        "id": "ZMikOf8HkrUS",
        "outputId": "445fd914-f279-4f2a-d872-6c9f70145cdf",
        "colab": {
          "base_uri": "https://localhost:8080/",
          "height": 224
        }
      },
      "source": [
        "data.var_max_sbs_qual_12m = pd.Categorical(data.var_max_sbs_qual_12m)\n",
        "data.var_max_sbs_qual_12m = data.var_max_sbs_qual_12m.cat.codes\n",
        "data.person_degree_type_desc = pd.Categorical(data.person_degree_type_desc)\n",
        "data.person_degree_type_desc = data.person_degree_type_desc.cat.codes\n",
        "data.head()"
      ],
      "execution_count": 15,
      "outputs": [
        {
          "output_type": "execute_result",
          "data": {
            "text/html": [
              "<div>\n",
              "<style scoped>\n",
              "    .dataframe tbody tr th:only-of-type {\n",
              "        vertical-align: middle;\n",
              "    }\n",
              "\n",
              "    .dataframe tbody tr th {\n",
              "        vertical-align: top;\n",
              "    }\n",
              "\n",
              "    .dataframe thead th {\n",
              "        text-align: right;\n",
              "    }\n",
              "</style>\n",
              "<table border=\"1\" class=\"dataframe\">\n",
              "  <thead>\n",
              "    <tr style=\"text-align: right;\">\n",
              "      <th></th>\n",
              "      <th>target</th>\n",
              "      <th>monthly_debt_capacity</th>\n",
              "      <th>var_employment_time_in_months</th>\n",
              "      <th>approved_amount</th>\n",
              "      <th>approved_term</th>\n",
              "      <th>approved_interest_amount</th>\n",
              "      <th>var_net_income</th>\n",
              "      <th>person_gender</th>\n",
              "      <th>credit_history_marital_status</th>\n",
              "      <th>var_max_sbs_qual_12m</th>\n",
              "      <th>person_degree_type_desc</th>\n",
              "      <th>default_request_term</th>\n",
              "    </tr>\n",
              "  </thead>\n",
              "  <tbody>\n",
              "    <tr>\n",
              "      <th>0</th>\n",
              "      <td>1</td>\n",
              "      <td>252.39</td>\n",
              "      <td>9.0</td>\n",
              "      <td>1200</td>\n",
              "      <td>6</td>\n",
              "      <td>289.11</td>\n",
              "      <td>1140.125000</td>\n",
              "      <td>0</td>\n",
              "      <td>0</td>\n",
              "      <td>3</td>\n",
              "      <td>3</td>\n",
              "      <td>1</td>\n",
              "    </tr>\n",
              "    <tr>\n",
              "      <th>1</th>\n",
              "      <td>1</td>\n",
              "      <td>244.57</td>\n",
              "      <td>50.0</td>\n",
              "      <td>2200</td>\n",
              "      <td>12</td>\n",
              "      <td>696.15</td>\n",
              "      <td>1061.375000</td>\n",
              "      <td>1</td>\n",
              "      <td>1</td>\n",
              "      <td>3</td>\n",
              "      <td>3</td>\n",
              "      <td>0</td>\n",
              "    </tr>\n",
              "    <tr>\n",
              "      <th>2</th>\n",
              "      <td>0</td>\n",
              "      <td>491.50</td>\n",
              "      <td>64.0</td>\n",
              "      <td>1000</td>\n",
              "      <td>3</td>\n",
              "      <td>84.99</td>\n",
              "      <td>2082.196667</td>\n",
              "      <td>1</td>\n",
              "      <td>1</td>\n",
              "      <td>3</td>\n",
              "      <td>3</td>\n",
              "      <td>0</td>\n",
              "    </tr>\n",
              "    <tr>\n",
              "      <th>3</th>\n",
              "      <td>0</td>\n",
              "      <td>848.65</td>\n",
              "      <td>77.0</td>\n",
              "      <td>1500</td>\n",
              "      <td>6</td>\n",
              "      <td>221.53</td>\n",
              "      <td>3422.423333</td>\n",
              "      <td>0</td>\n",
              "      <td>1</td>\n",
              "      <td>3</td>\n",
              "      <td>4</td>\n",
              "      <td>0</td>\n",
              "    </tr>\n",
              "    <tr>\n",
              "      <th>4</th>\n",
              "      <td>0</td>\n",
              "      <td>470.52</td>\n",
              "      <td>82.0</td>\n",
              "      <td>1000</td>\n",
              "      <td>3</td>\n",
              "      <td>91.34</td>\n",
              "      <td>1882.090000</td>\n",
              "      <td>1</td>\n",
              "      <td>1</td>\n",
              "      <td>3</td>\n",
              "      <td>4</td>\n",
              "      <td>1</td>\n",
              "    </tr>\n",
              "  </tbody>\n",
              "</table>\n",
              "</div>"
            ],
            "text/plain": [
              "   target  monthly_debt_capacity  ...  person_degree_type_desc  default_request_term\n",
              "0       1                 252.39  ...                        3                     1\n",
              "1       1                 244.57  ...                        3                     0\n",
              "2       0                 491.50  ...                        3                     0\n",
              "3       0                 848.65  ...                        4                     0\n",
              "4       0                 470.52  ...                        4                     1\n",
              "\n",
              "[5 rows x 12 columns]"
            ]
          },
          "metadata": {
            "tags": []
          },
          "execution_count": 15
        }
      ]
    },
    {
      "cell_type": "code",
      "metadata": {
        "id": "4kgiQoFJjsBr",
        "outputId": "33904690-20b7-4bfb-b507-f44d4203067b",
        "colab": {
          "base_uri": "https://localhost:8080/",
          "height": 224
        }
      },
      "source": [
        "genero = {'MALE': 0, 'FEMALE': 1, 0: 0, 1: 1}\n",
        "estado = {'C': 0 , 'S': 1, 'D': 2, 'V': 3, 0:0,1:1,2:2,3:3}\n",
        "data.person_gender = [genero[item] for item in data.person_gender]\n",
        "data.credit_history_marital_status = [estado[item] for item in data.credit_history_marital_status]\n",
        "data.credit_history_marital_status = [estado[item] for item in data.credit_history_marital_status]\n",
        "data.head()"
      ],
      "execution_count": 16,
      "outputs": [
        {
          "output_type": "execute_result",
          "data": {
            "text/html": [
              "<div>\n",
              "<style scoped>\n",
              "    .dataframe tbody tr th:only-of-type {\n",
              "        vertical-align: middle;\n",
              "    }\n",
              "\n",
              "    .dataframe tbody tr th {\n",
              "        vertical-align: top;\n",
              "    }\n",
              "\n",
              "    .dataframe thead th {\n",
              "        text-align: right;\n",
              "    }\n",
              "</style>\n",
              "<table border=\"1\" class=\"dataframe\">\n",
              "  <thead>\n",
              "    <tr style=\"text-align: right;\">\n",
              "      <th></th>\n",
              "      <th>target</th>\n",
              "      <th>monthly_debt_capacity</th>\n",
              "      <th>var_employment_time_in_months</th>\n",
              "      <th>approved_amount</th>\n",
              "      <th>approved_term</th>\n",
              "      <th>approved_interest_amount</th>\n",
              "      <th>var_net_income</th>\n",
              "      <th>person_gender</th>\n",
              "      <th>credit_history_marital_status</th>\n",
              "      <th>var_max_sbs_qual_12m</th>\n",
              "      <th>person_degree_type_desc</th>\n",
              "      <th>default_request_term</th>\n",
              "    </tr>\n",
              "  </thead>\n",
              "  <tbody>\n",
              "    <tr>\n",
              "      <th>0</th>\n",
              "      <td>1</td>\n",
              "      <td>252.39</td>\n",
              "      <td>9.0</td>\n",
              "      <td>1200</td>\n",
              "      <td>6</td>\n",
              "      <td>289.11</td>\n",
              "      <td>1140.125000</td>\n",
              "      <td>0</td>\n",
              "      <td>0</td>\n",
              "      <td>3</td>\n",
              "      <td>3</td>\n",
              "      <td>1</td>\n",
              "    </tr>\n",
              "    <tr>\n",
              "      <th>1</th>\n",
              "      <td>1</td>\n",
              "      <td>244.57</td>\n",
              "      <td>50.0</td>\n",
              "      <td>2200</td>\n",
              "      <td>12</td>\n",
              "      <td>696.15</td>\n",
              "      <td>1061.375000</td>\n",
              "      <td>1</td>\n",
              "      <td>1</td>\n",
              "      <td>3</td>\n",
              "      <td>3</td>\n",
              "      <td>0</td>\n",
              "    </tr>\n",
              "    <tr>\n",
              "      <th>2</th>\n",
              "      <td>0</td>\n",
              "      <td>491.50</td>\n",
              "      <td>64.0</td>\n",
              "      <td>1000</td>\n",
              "      <td>3</td>\n",
              "      <td>84.99</td>\n",
              "      <td>2082.196667</td>\n",
              "      <td>1</td>\n",
              "      <td>1</td>\n",
              "      <td>3</td>\n",
              "      <td>3</td>\n",
              "      <td>0</td>\n",
              "    </tr>\n",
              "    <tr>\n",
              "      <th>3</th>\n",
              "      <td>0</td>\n",
              "      <td>848.65</td>\n",
              "      <td>77.0</td>\n",
              "      <td>1500</td>\n",
              "      <td>6</td>\n",
              "      <td>221.53</td>\n",
              "      <td>3422.423333</td>\n",
              "      <td>0</td>\n",
              "      <td>1</td>\n",
              "      <td>3</td>\n",
              "      <td>4</td>\n",
              "      <td>0</td>\n",
              "    </tr>\n",
              "    <tr>\n",
              "      <th>4</th>\n",
              "      <td>0</td>\n",
              "      <td>470.52</td>\n",
              "      <td>82.0</td>\n",
              "      <td>1000</td>\n",
              "      <td>3</td>\n",
              "      <td>91.34</td>\n",
              "      <td>1882.090000</td>\n",
              "      <td>1</td>\n",
              "      <td>1</td>\n",
              "      <td>3</td>\n",
              "      <td>4</td>\n",
              "      <td>1</td>\n",
              "    </tr>\n",
              "  </tbody>\n",
              "</table>\n",
              "</div>"
            ],
            "text/plain": [
              "   target  monthly_debt_capacity  ...  person_degree_type_desc  default_request_term\n",
              "0       1                 252.39  ...                        3                     1\n",
              "1       1                 244.57  ...                        3                     0\n",
              "2       0                 491.50  ...                        3                     0\n",
              "3       0                 848.65  ...                        4                     0\n",
              "4       0                 470.52  ...                        4                     1\n",
              "\n",
              "[5 rows x 12 columns]"
            ]
          },
          "metadata": {
            "tags": []
          },
          "execution_count": 16
        }
      ]
    },
    {
      "cell_type": "code",
      "metadata": {
        "id": "uUohuvNdjwZz",
        "outputId": "8bc1578b-ea16-4829-8306-58b158388f01",
        "colab": {
          "base_uri": "https://localhost:8080/",
          "height": 297
        }
      },
      "source": [
        "data.describe()"
      ],
      "execution_count": 10,
      "outputs": [
        {
          "output_type": "execute_result",
          "data": {
            "text/html": [
              "<div>\n",
              "<style scoped>\n",
              "    .dataframe tbody tr th:only-of-type {\n",
              "        vertical-align: middle;\n",
              "    }\n",
              "\n",
              "    .dataframe tbody tr th {\n",
              "        vertical-align: top;\n",
              "    }\n",
              "\n",
              "    .dataframe thead th {\n",
              "        text-align: right;\n",
              "    }\n",
              "</style>\n",
              "<table border=\"1\" class=\"dataframe\">\n",
              "  <thead>\n",
              "    <tr style=\"text-align: right;\">\n",
              "      <th></th>\n",
              "      <th>target</th>\n",
              "      <th>var_employment_time_in_months</th>\n",
              "      <th>approved_term</th>\n",
              "      <th>var_net_income</th>\n",
              "      <th>person_gender</th>\n",
              "      <th>credit_history_marital_status</th>\n",
              "      <th>default_request_term</th>\n",
              "    </tr>\n",
              "  </thead>\n",
              "  <tbody>\n",
              "    <tr>\n",
              "      <th>count</th>\n",
              "      <td>1719.000000</td>\n",
              "      <td>1519.000000</td>\n",
              "      <td>1719.000000</td>\n",
              "      <td>1719.000000</td>\n",
              "      <td>1719.000000</td>\n",
              "      <td>1719.000000</td>\n",
              "      <td>1719.000000</td>\n",
              "    </tr>\n",
              "    <tr>\n",
              "      <th>mean</th>\n",
              "      <td>0.295521</td>\n",
              "      <td>33.979592</td>\n",
              "      <td>6.464805</td>\n",
              "      <td>2693.545884</td>\n",
              "      <td>0.335079</td>\n",
              "      <td>0.845841</td>\n",
              "      <td>0.507853</td>\n",
              "    </tr>\n",
              "    <tr>\n",
              "      <th>std</th>\n",
              "      <td>0.456409</td>\n",
              "      <td>26.889423</td>\n",
              "      <td>3.009842</td>\n",
              "      <td>1825.694773</td>\n",
              "      <td>0.472155</td>\n",
              "      <td>0.386130</td>\n",
              "      <td>0.500084</td>\n",
              "    </tr>\n",
              "    <tr>\n",
              "      <th>min</th>\n",
              "      <td>0.000000</td>\n",
              "      <td>-1.000000</td>\n",
              "      <td>1.000000</td>\n",
              "      <td>0.000000</td>\n",
              "      <td>0.000000</td>\n",
              "      <td>0.000000</td>\n",
              "      <td>0.000000</td>\n",
              "    </tr>\n",
              "    <tr>\n",
              "      <th>25%</th>\n",
              "      <td>0.000000</td>\n",
              "      <td>11.000000</td>\n",
              "      <td>6.000000</td>\n",
              "      <td>1750.000000</td>\n",
              "      <td>0.000000</td>\n",
              "      <td>1.000000</td>\n",
              "      <td>0.000000</td>\n",
              "    </tr>\n",
              "    <tr>\n",
              "      <th>50%</th>\n",
              "      <td>0.000000</td>\n",
              "      <td>26.000000</td>\n",
              "      <td>6.000000</td>\n",
              "      <td>2373.758333</td>\n",
              "      <td>0.000000</td>\n",
              "      <td>1.000000</td>\n",
              "      <td>1.000000</td>\n",
              "    </tr>\n",
              "    <tr>\n",
              "      <th>75%</th>\n",
              "      <td>1.000000</td>\n",
              "      <td>61.000000</td>\n",
              "      <td>6.000000</td>\n",
              "      <td>3075.133333</td>\n",
              "      <td>1.000000</td>\n",
              "      <td>1.000000</td>\n",
              "      <td>1.000000</td>\n",
              "    </tr>\n",
              "    <tr>\n",
              "      <th>max</th>\n",
              "      <td>1.000000</td>\n",
              "      <td>87.000000</td>\n",
              "      <td>12.000000</td>\n",
              "      <td>28587.000000</td>\n",
              "      <td>1.000000</td>\n",
              "      <td>3.000000</td>\n",
              "      <td>1.000000</td>\n",
              "    </tr>\n",
              "  </tbody>\n",
              "</table>\n",
              "</div>"
            ],
            "text/plain": [
              "            target  ...  default_request_term\n",
              "count  1719.000000  ...           1719.000000\n",
              "mean      0.295521  ...              0.507853\n",
              "std       0.456409  ...              0.500084\n",
              "min       0.000000  ...              0.000000\n",
              "25%       0.000000  ...              0.000000\n",
              "50%       0.000000  ...              1.000000\n",
              "75%       1.000000  ...              1.000000\n",
              "max       1.000000  ...              1.000000\n",
              "\n",
              "[8 rows x 7 columns]"
            ]
          },
          "metadata": {
            "tags": []
          },
          "execution_count": 10
        }
      ]
    },
    {
      "cell_type": "code",
      "metadata": {
        "id": "8Umvtbb9jzKA",
        "outputId": "4b084cb1-06c9-44cb-9aa8-f89e4491bdfc",
        "colab": {
          "base_uri": "https://localhost:8080/",
          "height": 360
        }
      },
      "source": [
        "indices = []\n",
        "print(\"\\t\\t Features \\t miss values \\t values\")\n",
        "for i in data:\n",
        "  count = 0\n",
        "  for j in range(len(data[i])):\n",
        "    if data[i].dtype == \"float64\":\n",
        "      if np.isnan(data[i][j]):\n",
        "        count +=1\n",
        "        indices.append(j)\n",
        "        data[i][j] = 33.979592\n",
        "  print(\"%30s \\t %10d  %10d\"%(i, count,len(data[i])) )\n",
        "\n",
        "print(indices)"
      ],
      "execution_count": 11,
      "outputs": [
        {
          "output_type": "stream",
          "text": [
            "\t\t Features \t miss values \t values\n",
            "                        target \t          0        1719\n",
            "         monthly_debt_capacity \t          0        1719\n",
            " var_employment_time_in_months \t        200        1719\n",
            "               approved_amount \t          0        1719\n",
            "                 approved_term \t          0        1719\n",
            "      approved_interest_amount \t          0        1719\n",
            "                var_net_income \t          0        1719\n",
            "                 person_gender \t          0        1719\n",
            " credit_history_marital_status \t          0        1719\n",
            "          var_max_sbs_qual_12m \t          0        1719\n",
            "       person_degree_type_desc \t          0        1719\n",
            "          default_request_term \t          0        1719\n",
            "[8, 40, 70, 74, 76, 103, 109, 114, 133, 141, 147, 164, 169, 171, 198, 207, 212, 219, 233, 262, 265, 268, 269, 270, 275, 289, 293, 309, 317, 322, 334, 339, 340, 355, 361, 364, 372, 394, 398, 399, 402, 415, 439, 444, 471, 475, 484, 488, 493, 494, 497, 499, 516, 520, 525, 539, 559, 568, 570, 573, 579, 584, 592, 603, 609, 610, 618, 632, 649, 660, 681, 686, 694, 701, 703, 704, 706, 708, 715, 723, 742, 749, 750, 752, 765, 768, 769, 771, 782, 783, 799, 800, 806, 807, 815, 834, 843, 848, 851, 852, 855, 866, 874, 893, 903, 921, 927, 928, 948, 958, 961, 968, 969, 970, 984, 986, 987, 996, 998, 1001, 1015, 1020, 1048, 1049, 1050, 1071, 1075, 1079, 1080, 1091, 1109, 1131, 1143, 1145, 1164, 1166, 1168, 1180, 1183, 1196, 1214, 1219, 1235, 1247, 1252, 1289, 1292, 1301, 1305, 1306, 1312, 1329, 1330, 1331, 1337, 1347, 1367, 1369, 1372, 1375, 1382, 1387, 1392, 1398, 1407, 1411, 1434, 1444, 1451, 1454, 1476, 1481, 1482, 1483, 1489, 1490, 1494, 1498, 1505, 1520, 1525, 1526, 1542, 1544, 1549, 1552, 1558, 1572, 1582, 1603, 1609, 1612, 1639, 1642, 1643, 1656, 1661, 1672, 1679, 1712]\n"
          ],
          "name": "stdout"
        },
        {
          "output_type": "stream",
          "text": [
            "/usr/local/lib/python3.6/dist-packages/ipykernel_launcher.py:10: SettingWithCopyWarning: \n",
            "A value is trying to be set on a copy of a slice from a DataFrame\n",
            "\n",
            "See the caveats in the documentation: https://pandas.pydata.org/pandas-docs/stable/user_guide/indexing.html#returning-a-view-versus-a-copy\n",
            "  # Remove the CWD from sys.path while we load stuff.\n"
          ],
          "name": "stderr"
        }
      ]
    },
    {
      "cell_type": "code",
      "metadata": {
        "id": "OF5DEhZyj0pk",
        "outputId": "f96d06f7-8113-46a9-f665-8999642072ff",
        "colab": {
          "base_uri": "https://localhost:8080/",
          "height": 102
        }
      },
      "source": [
        "for i in data:\n",
        "  for j in range(len(data[i])):\n",
        "    if type(data[i][j]) == str:\n",
        "      data[i][j] = data[i][j].replace(',', '')"
      ],
      "execution_count": 12,
      "outputs": [
        {
          "output_type": "stream",
          "text": [
            "/usr/local/lib/python3.6/dist-packages/ipykernel_launcher.py:4: SettingWithCopyWarning: \n",
            "A value is trying to be set on a copy of a slice from a DataFrame\n",
            "\n",
            "See the caveats in the documentation: https://pandas.pydata.org/pandas-docs/stable/user_guide/indexing.html#returning-a-view-versus-a-copy\n",
            "  after removing the cwd from sys.path.\n"
          ],
          "name": "stderr"
        }
      ]
    },
    {
      "cell_type": "code",
      "metadata": {
        "id": "tB7iikxsj3Ck"
      },
      "source": [
        "for i in data:\n",
        "  if data[i].dtype == object:\n",
        "    data[i] = pd.to_numeric(data[i])"
      ],
      "execution_count": 17,
      "outputs": []
    },
    {
      "cell_type": "code",
      "metadata": {
        "id": "vfUM3TTakBhk",
        "outputId": "39a7fc52-fddb-4da4-e6d8-34ad7aaab867",
        "colab": {
          "base_uri": "https://localhost:8080/",
          "height": 439
        }
      },
      "source": [
        "data"
      ],
      "execution_count": 18,
      "outputs": [
        {
          "output_type": "execute_result",
          "data": {
            "text/html": [
              "<div>\n",
              "<style scoped>\n",
              "    .dataframe tbody tr th:only-of-type {\n",
              "        vertical-align: middle;\n",
              "    }\n",
              "\n",
              "    .dataframe tbody tr th {\n",
              "        vertical-align: top;\n",
              "    }\n",
              "\n",
              "    .dataframe thead th {\n",
              "        text-align: right;\n",
              "    }\n",
              "</style>\n",
              "<table border=\"1\" class=\"dataframe\">\n",
              "  <thead>\n",
              "    <tr style=\"text-align: right;\">\n",
              "      <th></th>\n",
              "      <th>target</th>\n",
              "      <th>monthly_debt_capacity</th>\n",
              "      <th>var_employment_time_in_months</th>\n",
              "      <th>approved_amount</th>\n",
              "      <th>approved_term</th>\n",
              "      <th>approved_interest_amount</th>\n",
              "      <th>var_net_income</th>\n",
              "      <th>person_gender</th>\n",
              "      <th>credit_history_marital_status</th>\n",
              "      <th>var_max_sbs_qual_12m</th>\n",
              "      <th>person_degree_type_desc</th>\n",
              "      <th>default_request_term</th>\n",
              "    </tr>\n",
              "  </thead>\n",
              "  <tbody>\n",
              "    <tr>\n",
              "      <th>0</th>\n",
              "      <td>1</td>\n",
              "      <td>252.39</td>\n",
              "      <td>9.0</td>\n",
              "      <td>1200</td>\n",
              "      <td>6</td>\n",
              "      <td>289.11</td>\n",
              "      <td>1140.125000</td>\n",
              "      <td>0</td>\n",
              "      <td>0</td>\n",
              "      <td>3</td>\n",
              "      <td>3</td>\n",
              "      <td>1</td>\n",
              "    </tr>\n",
              "    <tr>\n",
              "      <th>1</th>\n",
              "      <td>1</td>\n",
              "      <td>244.57</td>\n",
              "      <td>50.0</td>\n",
              "      <td>2200</td>\n",
              "      <td>12</td>\n",
              "      <td>696.15</td>\n",
              "      <td>1061.375000</td>\n",
              "      <td>1</td>\n",
              "      <td>1</td>\n",
              "      <td>3</td>\n",
              "      <td>3</td>\n",
              "      <td>0</td>\n",
              "    </tr>\n",
              "    <tr>\n",
              "      <th>2</th>\n",
              "      <td>0</td>\n",
              "      <td>491.50</td>\n",
              "      <td>64.0</td>\n",
              "      <td>1000</td>\n",
              "      <td>3</td>\n",
              "      <td>84.99</td>\n",
              "      <td>2082.196667</td>\n",
              "      <td>1</td>\n",
              "      <td>1</td>\n",
              "      <td>3</td>\n",
              "      <td>3</td>\n",
              "      <td>0</td>\n",
              "    </tr>\n",
              "    <tr>\n",
              "      <th>3</th>\n",
              "      <td>0</td>\n",
              "      <td>848.65</td>\n",
              "      <td>77.0</td>\n",
              "      <td>1500</td>\n",
              "      <td>6</td>\n",
              "      <td>221.53</td>\n",
              "      <td>3422.423333</td>\n",
              "      <td>0</td>\n",
              "      <td>1</td>\n",
              "      <td>3</td>\n",
              "      <td>4</td>\n",
              "      <td>0</td>\n",
              "    </tr>\n",
              "    <tr>\n",
              "      <th>4</th>\n",
              "      <td>0</td>\n",
              "      <td>470.52</td>\n",
              "      <td>82.0</td>\n",
              "      <td>1000</td>\n",
              "      <td>3</td>\n",
              "      <td>91.34</td>\n",
              "      <td>1882.090000</td>\n",
              "      <td>1</td>\n",
              "      <td>1</td>\n",
              "      <td>3</td>\n",
              "      <td>4</td>\n",
              "      <td>1</td>\n",
              "    </tr>\n",
              "    <tr>\n",
              "      <th>...</th>\n",
              "      <td>...</td>\n",
              "      <td>...</td>\n",
              "      <td>...</td>\n",
              "      <td>...</td>\n",
              "      <td>...</td>\n",
              "      <td>...</td>\n",
              "      <td>...</td>\n",
              "      <td>...</td>\n",
              "      <td>...</td>\n",
              "      <td>...</td>\n",
              "      <td>...</td>\n",
              "      <td>...</td>\n",
              "    </tr>\n",
              "    <tr>\n",
              "      <th>1714</th>\n",
              "      <td>0</td>\n",
              "      <td>617.02</td>\n",
              "      <td>4.0</td>\n",
              "      <td>5000</td>\n",
              "      <td>12</td>\n",
              "      <td>1515.20</td>\n",
              "      <td>2143.166667</td>\n",
              "      <td>1</td>\n",
              "      <td>1</td>\n",
              "      <td>0</td>\n",
              "      <td>0</td>\n",
              "      <td>0</td>\n",
              "    </tr>\n",
              "    <tr>\n",
              "      <th>1715</th>\n",
              "      <td>0</td>\n",
              "      <td>250.69</td>\n",
              "      <td>74.0</td>\n",
              "      <td>1200</td>\n",
              "      <td>6</td>\n",
              "      <td>179.92</td>\n",
              "      <td>2204.136667</td>\n",
              "      <td>1</td>\n",
              "      <td>1</td>\n",
              "      <td>3</td>\n",
              "      <td>1</td>\n",
              "      <td>1</td>\n",
              "    </tr>\n",
              "    <tr>\n",
              "      <th>1716</th>\n",
              "      <td>0</td>\n",
              "      <td>692.13</td>\n",
              "      <td>56.0</td>\n",
              "      <td>2500</td>\n",
              "      <td>6</td>\n",
              "      <td>360.78</td>\n",
              "      <td>2768.500000</td>\n",
              "      <td>0</td>\n",
              "      <td>1</td>\n",
              "      <td>3</td>\n",
              "      <td>4</td>\n",
              "      <td>0</td>\n",
              "    </tr>\n",
              "    <tr>\n",
              "      <th>1717</th>\n",
              "      <td>0</td>\n",
              "      <td>410.28</td>\n",
              "      <td>80.0</td>\n",
              "      <td>900</td>\n",
              "      <td>3</td>\n",
              "      <td>79.89</td>\n",
              "      <td>2139.258333</td>\n",
              "      <td>0</td>\n",
              "      <td>1</td>\n",
              "      <td>3</td>\n",
              "      <td>0</td>\n",
              "      <td>1</td>\n",
              "    </tr>\n",
              "    <tr>\n",
              "      <th>1718</th>\n",
              "      <td>0</td>\n",
              "      <td>480.74</td>\n",
              "      <td>12.0</td>\n",
              "      <td>1000</td>\n",
              "      <td>3</td>\n",
              "      <td>84.99</td>\n",
              "      <td>2083.330000</td>\n",
              "      <td>0</td>\n",
              "      <td>1</td>\n",
              "      <td>3</td>\n",
              "      <td>4</td>\n",
              "      <td>0</td>\n",
              "    </tr>\n",
              "  </tbody>\n",
              "</table>\n",
              "<p>1719 rows × 12 columns</p>\n",
              "</div>"
            ],
            "text/plain": [
              "      target  ...  default_request_term\n",
              "0          1  ...                     1\n",
              "1          1  ...                     0\n",
              "2          0  ...                     0\n",
              "3          0  ...                     0\n",
              "4          0  ...                     1\n",
              "...      ...  ...                   ...\n",
              "1714       0  ...                     0\n",
              "1715       0  ...                     1\n",
              "1716       0  ...                     0\n",
              "1717       0  ...                     1\n",
              "1718       0  ...                     0\n",
              "\n",
              "[1719 rows x 12 columns]"
            ]
          },
          "metadata": {
            "tags": []
          },
          "execution_count": 18
        }
      ]
    },
    {
      "cell_type": "markdown",
      "metadata": {
        "id": "wwo7X7WH6gW0"
      },
      "source": [
        "# MODELO NEURAL NETWORK"
      ]
    },
    {
      "cell_type": "markdown",
      "metadata": {
        "id": "M4KcdIwh64_M"
      },
      "source": [
        "Importamos todas las bibliotecas necesarias"
      ]
    },
    {
      "cell_type": "code",
      "metadata": {
        "id": "0bqVglvck0PR"
      },
      "source": [
        "import pandas as pd\n",
        "import numpy as np\n",
        "import matplotlib.pyplot as plt\n",
        "from sklearn.model_selection import KFold\n",
        "from sklearn.model_selection import cross_val_score\n",
        "from sklearn.neural_network import MLPClassifier\n",
        "from sklearn.model_selection import train_test_split\n",
        "from sklearn.preprocessing import StandardScaler"
      ],
      "execution_count": 19,
      "outputs": []
    },
    {
      "cell_type": "code",
      "metadata": {
        "id": "fnmOALJolOch"
      },
      "source": [
        "x = data.iloc[:,:-1]\n",
        "y = data.iloc[:,-1]"
      ],
      "execution_count": 20,
      "outputs": []
    },
    {
      "cell_type": "code",
      "metadata": {
        "id": "2e6z35HPlQUc",
        "outputId": "04228062-1efa-4aba-a2c7-84d33571c898",
        "colab": {
          "base_uri": "https://localhost:8080/",
          "height": 439
        }
      },
      "source": [
        "estandarizacion = StandardScaler().fit_transform(x)\n",
        "x2 = pd.DataFrame(data=estandarizacion, columns=x.columns)\n",
        "x2"
      ],
      "execution_count": 21,
      "outputs": [
        {
          "output_type": "execute_result",
          "data": {
            "text/html": [
              "<div>\n",
              "<style scoped>\n",
              "    .dataframe tbody tr th:only-of-type {\n",
              "        vertical-align: middle;\n",
              "    }\n",
              "\n",
              "    .dataframe tbody tr th {\n",
              "        vertical-align: top;\n",
              "    }\n",
              "\n",
              "    .dataframe thead th {\n",
              "        text-align: right;\n",
              "    }\n",
              "</style>\n",
              "<table border=\"1\" class=\"dataframe\">\n",
              "  <thead>\n",
              "    <tr style=\"text-align: right;\">\n",
              "      <th></th>\n",
              "      <th>target</th>\n",
              "      <th>monthly_debt_capacity</th>\n",
              "      <th>var_employment_time_in_months</th>\n",
              "      <th>approved_amount</th>\n",
              "      <th>approved_term</th>\n",
              "      <th>approved_interest_amount</th>\n",
              "      <th>var_net_income</th>\n",
              "      <th>person_gender</th>\n",
              "      <th>credit_history_marital_status</th>\n",
              "      <th>var_max_sbs_qual_12m</th>\n",
              "      <th>person_degree_type_desc</th>\n",
              "    </tr>\n",
              "  </thead>\n",
              "  <tbody>\n",
              "    <tr>\n",
              "      <th>0</th>\n",
              "      <td>1.543975</td>\n",
              "      <td>-0.722556</td>\n",
              "      <td>-0.988567</td>\n",
              "      <td>-0.622794</td>\n",
              "      <td>-0.154473</td>\n",
              "      <td>-0.289697</td>\n",
              "      <td>-0.851113</td>\n",
              "      <td>-0.709885</td>\n",
              "      <td>-2.191196</td>\n",
              "      <td>0.390188</td>\n",
              "      <td>0.377746</td>\n",
              "    </tr>\n",
              "    <tr>\n",
              "      <th>1</th>\n",
              "      <td>1.543975</td>\n",
              "      <td>-0.739563</td>\n",
              "      <td>0.634007</td>\n",
              "      <td>0.041875</td>\n",
              "      <td>1.839567</td>\n",
              "      <td>0.708968</td>\n",
              "      <td>-0.894260</td>\n",
              "      <td>1.408678</td>\n",
              "      <td>0.399358</td>\n",
              "      <td>0.390188</td>\n",
              "      <td>0.377746</td>\n",
              "    </tr>\n",
              "    <tr>\n",
              "      <th>2</th>\n",
              "      <td>-0.647679</td>\n",
              "      <td>-0.202554</td>\n",
              "      <td>1.188057</td>\n",
              "      <td>-0.755728</td>\n",
              "      <td>-1.151493</td>\n",
              "      <td>-0.790501</td>\n",
              "      <td>-0.334956</td>\n",
              "      <td>1.408678</td>\n",
              "      <td>0.399358</td>\n",
              "      <td>0.390188</td>\n",
              "      <td>0.377746</td>\n",
              "    </tr>\n",
              "    <tr>\n",
              "      <th>3</th>\n",
              "      <td>-0.647679</td>\n",
              "      <td>0.574154</td>\n",
              "      <td>1.702531</td>\n",
              "      <td>-0.423393</td>\n",
              "      <td>-0.154473</td>\n",
              "      <td>-0.455503</td>\n",
              "      <td>0.399349</td>\n",
              "      <td>-0.709885</td>\n",
              "      <td>0.399358</td>\n",
              "      <td>0.390188</td>\n",
              "      <td>0.919772</td>\n",
              "    </tr>\n",
              "    <tr>\n",
              "      <th>4</th>\n",
              "      <td>-0.647679</td>\n",
              "      <td>-0.248180</td>\n",
              "      <td>1.900406</td>\n",
              "      <td>-0.755728</td>\n",
              "      <td>-1.151493</td>\n",
              "      <td>-0.774921</td>\n",
              "      <td>-0.444593</td>\n",
              "      <td>1.408678</td>\n",
              "      <td>0.399358</td>\n",
              "      <td>0.390188</td>\n",
              "      <td>0.919772</td>\n",
              "    </tr>\n",
              "    <tr>\n",
              "      <th>...</th>\n",
              "      <td>...</td>\n",
              "      <td>...</td>\n",
              "      <td>...</td>\n",
              "      <td>...</td>\n",
              "      <td>...</td>\n",
              "      <td>...</td>\n",
              "      <td>...</td>\n",
              "      <td>...</td>\n",
              "      <td>...</td>\n",
              "      <td>...</td>\n",
              "      <td>...</td>\n",
              "    </tr>\n",
              "    <tr>\n",
              "      <th>1714</th>\n",
              "      <td>-0.647679</td>\n",
              "      <td>0.070419</td>\n",
              "      <td>-1.186441</td>\n",
              "      <td>1.902950</td>\n",
              "      <td>1.839567</td>\n",
              "      <td>2.718490</td>\n",
              "      <td>-0.301551</td>\n",
              "      <td>1.408678</td>\n",
              "      <td>0.399358</td>\n",
              "      <td>-2.635673</td>\n",
              "      <td>-1.248329</td>\n",
              "    </tr>\n",
              "    <tr>\n",
              "      <th>1715</th>\n",
              "      <td>-0.647679</td>\n",
              "      <td>-0.726253</td>\n",
              "      <td>1.583806</td>\n",
              "      <td>-0.622794</td>\n",
              "      <td>-0.154473</td>\n",
              "      <td>-0.557592</td>\n",
              "      <td>-0.268145</td>\n",
              "      <td>1.408678</td>\n",
              "      <td>0.399358</td>\n",
              "      <td>0.390188</td>\n",
              "      <td>-0.706304</td>\n",
              "    </tr>\n",
              "    <tr>\n",
              "      <th>1716</th>\n",
              "      <td>-0.647679</td>\n",
              "      <td>0.233764</td>\n",
              "      <td>0.871457</td>\n",
              "      <td>0.241276</td>\n",
              "      <td>-0.154473</td>\n",
              "      <td>-0.113856</td>\n",
              "      <td>0.041067</td>\n",
              "      <td>-0.709885</td>\n",
              "      <td>0.399358</td>\n",
              "      <td>0.390188</td>\n",
              "      <td>0.919772</td>\n",
              "    </tr>\n",
              "    <tr>\n",
              "      <th>1717</th>\n",
              "      <td>-0.647679</td>\n",
              "      <td>-0.379187</td>\n",
              "      <td>1.821256</td>\n",
              "      <td>-0.822195</td>\n",
              "      <td>-1.151493</td>\n",
              "      <td>-0.803014</td>\n",
              "      <td>-0.303692</td>\n",
              "      <td>-0.709885</td>\n",
              "      <td>0.399358</td>\n",
              "      <td>0.390188</td>\n",
              "      <td>-1.248329</td>\n",
              "    </tr>\n",
              "    <tr>\n",
              "      <th>1718</th>\n",
              "      <td>-0.647679</td>\n",
              "      <td>-0.225954</td>\n",
              "      <td>-0.869842</td>\n",
              "      <td>-0.755728</td>\n",
              "      <td>-1.151493</td>\n",
              "      <td>-0.790501</td>\n",
              "      <td>-0.334335</td>\n",
              "      <td>-0.709885</td>\n",
              "      <td>0.399358</td>\n",
              "      <td>0.390188</td>\n",
              "      <td>0.919772</td>\n",
              "    </tr>\n",
              "  </tbody>\n",
              "</table>\n",
              "<p>1719 rows × 11 columns</p>\n",
              "</div>"
            ],
            "text/plain": [
              "        target  ...  person_degree_type_desc\n",
              "0     1.543975  ...                 0.377746\n",
              "1     1.543975  ...                 0.377746\n",
              "2    -0.647679  ...                 0.377746\n",
              "3    -0.647679  ...                 0.919772\n",
              "4    -0.647679  ...                 0.919772\n",
              "...        ...  ...                      ...\n",
              "1714 -0.647679  ...                -1.248329\n",
              "1715 -0.647679  ...                -0.706304\n",
              "1716 -0.647679  ...                 0.919772\n",
              "1717 -0.647679  ...                -1.248329\n",
              "1718 -0.647679  ...                 0.919772\n",
              "\n",
              "[1719 rows x 11 columns]"
            ]
          },
          "metadata": {
            "tags": []
          },
          "execution_count": 21
        }
      ]
    },
    {
      "cell_type": "markdown",
      "metadata": {
        "id": "2uB1M4eh7C_A"
      },
      "source": [
        "Creamos nuestros datasets de test."
      ]
    },
    {
      "cell_type": "code",
      "metadata": {
        "id": "d2eSgx8ZlSJ1",
        "outputId": "79fbb8c6-55fd-4cf4-a485-8c7baa47d4f4",
        "colab": {
          "base_uri": "https://localhost:8080/",
          "height": 207
        }
      },
      "source": [
        "X_train, X_test, Y_train, Y_test = train_test_split(x2, y, test_size=0.3)\n",
        "red_neuronal = MLPClassifier(hidden_layer_sizes=(8,2), max_iter=100, learning_rate_init=0.01, activation='logistic')\n",
        "red_neuronal.fit(X_train, Y_train)"
      ],
      "execution_count": 22,
      "outputs": [
        {
          "output_type": "stream",
          "text": [
            "/usr/local/lib/python3.6/dist-packages/sklearn/neural_network/_multilayer_perceptron.py:571: ConvergenceWarning: Stochastic Optimizer: Maximum iterations (100) reached and the optimization hasn't converged yet.\n",
            "  % self.max_iter, ConvergenceWarning)\n"
          ],
          "name": "stderr"
        },
        {
          "output_type": "execute_result",
          "data": {
            "text/plain": [
              "MLPClassifier(activation='logistic', alpha=0.0001, batch_size='auto',\n",
              "              beta_1=0.9, beta_2=0.999, early_stopping=False, epsilon=1e-08,\n",
              "              hidden_layer_sizes=(8, 2), learning_rate='constant',\n",
              "              learning_rate_init=0.01, max_fun=15000, max_iter=100,\n",
              "              momentum=0.9, n_iter_no_change=10, nesterovs_momentum=True,\n",
              "              power_t=0.5, random_state=None, shuffle=True, solver='adam',\n",
              "              tol=0.0001, validation_fraction=0.1, verbose=False,\n",
              "              warm_start=False)"
            ]
          },
          "metadata": {
            "tags": []
          },
          "execution_count": 22
        }
      ]
    },
    {
      "cell_type": "code",
      "metadata": {
        "id": "e7lBaF2VlYld",
        "outputId": "95477344-6ce6-4879-b1d3-31ec53e15e15",
        "colab": {
          "base_uri": "https://localhost:8080/",
          "height": 748
        }
      },
      "source": [
        "red_neuronal.coefs_"
      ],
      "execution_count": 23,
      "outputs": [
        {
          "output_type": "execute_result",
          "data": {
            "text/plain": [
              "[array([[ 9.91229852e-02,  6.63917853e-01,  3.45801191e-01,\n",
              "          6.96701347e-02,  7.79832648e-02,  3.07830028e-01,\n",
              "          7.17249376e-01,  3.07464796e-01],\n",
              "        [-5.04067680e-01,  7.05685086e-02, -6.16225227e-01,\n",
              "          1.03389313e+00,  3.17772283e-02,  9.29596325e-01,\n",
              "          1.25010314e+00, -5.99452012e-01],\n",
              "        [-1.52422922e-01, -2.35259004e-01,  2.71701896e-01,\n",
              "          5.95668716e-01,  7.50131499e-01,  7.13145042e-01,\n",
              "          3.07198033e-01,  2.35671484e-01],\n",
              "        [ 1.05745511e+00,  1.26630118e+00, -3.87824855e-01,\n",
              "         -4.90336199e-01,  9.40818980e-01,  1.73691904e-01,\n",
              "          1.74502479e-01, -3.39794866e-01],\n",
              "        [ 1.45682443e+00,  8.31698000e-01,  4.07988164e+00,\n",
              "         -3.49761820e-01,  5.87083248e-01,  7.68647167e-01,\n",
              "          1.61067592e+00,  4.38336987e+00],\n",
              "        [-3.57997146e-01, -7.00361121e-01,  2.81919879e+00,\n",
              "          1.02343627e+00, -6.97698455e-02,  1.21097993e+00,\n",
              "          1.59103719e+00,  2.65685176e+00],\n",
              "        [-2.41722128e-01, -3.46767173e-02, -1.45093663e-01,\n",
              "          7.08806124e-01, -2.68596521e-01,  5.70411087e-01,\n",
              "          2.18682962e-01, -1.38013305e-01],\n",
              "        [ 5.51337345e-01,  1.64679311e-01,  2.80779650e-01,\n",
              "         -1.92624981e-01,  2.41005678e-01,  2.76500297e-03,\n",
              "          2.76305060e-01,  3.12850444e-01],\n",
              "        [-1.03002293e-01,  1.25057178e-01, -7.78130275e-02,\n",
              "         -1.94526100e-01,  4.60234934e-02, -1.91719589e-01,\n",
              "         -4.66713060e-01, -5.63964582e-02],\n",
              "        [-2.84721596e-01, -5.53302665e-01,  3.38981277e-01,\n",
              "          6.85520916e-01,  1.56333717e-01,  5.39261880e-01,\n",
              "          4.01427033e-01,  2.96855831e-01],\n",
              "        [-6.79068246e-02, -3.70563688e-01, -1.29272073e-01,\n",
              "          7.56065665e-02,  5.84621308e-01, -1.58000936e-01,\n",
              "         -6.31169886e-01, -6.80661233e-02]]),\n",
              " array([[ 0.6082974 ,  0.87291482],\n",
              "        [ 0.9846247 ,  0.97088626],\n",
              "        [-2.522728  , -1.7811458 ],\n",
              "        [-0.50397461, -0.48435452],\n",
              "        [ 0.58215374,  0.08260093],\n",
              "        [ 0.10536759, -0.29587401],\n",
              "        [-0.54337467, -0.74703635],\n",
              "        [-2.76783773, -1.88431889]]),\n",
              " array([[1.40329545],\n",
              "        [1.17148882]])]"
            ]
          },
          "metadata": {
            "tags": []
          },
          "execution_count": 23
        }
      ]
    },
    {
      "cell_type": "markdown",
      "metadata": {
        "id": "m8-DtDfk7FH0"
      },
      "source": [
        "Realizamos un fold de 10 particiones"
      ]
    },
    {
      "cell_type": "code",
      "metadata": {
        "id": "GzLZPyCxlaZ8",
        "outputId": "2336f42a-8429-4900-84d9-67094bb689a9",
        "colab": {
          "base_uri": "https://localhost:8080/",
          "height": 411
        }
      },
      "source": [
        "kfold = KFold(n_splits = 10)\n",
        "cv_resultado = cross_val_score(red_neuronal, X_train, Y_train, cv=kfold, scoring='f1_macro')\n",
        "print(cv_resultado)"
      ],
      "execution_count": 24,
      "outputs": [
        {
          "output_type": "stream",
          "text": [
            "/usr/local/lib/python3.6/dist-packages/sklearn/neural_network/_multilayer_perceptron.py:571: ConvergenceWarning: Stochastic Optimizer: Maximum iterations (100) reached and the optimization hasn't converged yet.\n",
            "  % self.max_iter, ConvergenceWarning)\n",
            "/usr/local/lib/python3.6/dist-packages/sklearn/neural_network/_multilayer_perceptron.py:571: ConvergenceWarning: Stochastic Optimizer: Maximum iterations (100) reached and the optimization hasn't converged yet.\n",
            "  % self.max_iter, ConvergenceWarning)\n",
            "/usr/local/lib/python3.6/dist-packages/sklearn/neural_network/_multilayer_perceptron.py:571: ConvergenceWarning: Stochastic Optimizer: Maximum iterations (100) reached and the optimization hasn't converged yet.\n",
            "  % self.max_iter, ConvergenceWarning)\n",
            "/usr/local/lib/python3.6/dist-packages/sklearn/neural_network/_multilayer_perceptron.py:571: ConvergenceWarning: Stochastic Optimizer: Maximum iterations (100) reached and the optimization hasn't converged yet.\n",
            "  % self.max_iter, ConvergenceWarning)\n",
            "/usr/local/lib/python3.6/dist-packages/sklearn/neural_network/_multilayer_perceptron.py:571: ConvergenceWarning: Stochastic Optimizer: Maximum iterations (100) reached and the optimization hasn't converged yet.\n",
            "  % self.max_iter, ConvergenceWarning)\n",
            "/usr/local/lib/python3.6/dist-packages/sklearn/neural_network/_multilayer_perceptron.py:571: ConvergenceWarning: Stochastic Optimizer: Maximum iterations (100) reached and the optimization hasn't converged yet.\n",
            "  % self.max_iter, ConvergenceWarning)\n",
            "/usr/local/lib/python3.6/dist-packages/sklearn/neural_network/_multilayer_perceptron.py:571: ConvergenceWarning: Stochastic Optimizer: Maximum iterations (100) reached and the optimization hasn't converged yet.\n",
            "  % self.max_iter, ConvergenceWarning)\n",
            "/usr/local/lib/python3.6/dist-packages/sklearn/neural_network/_multilayer_perceptron.py:571: ConvergenceWarning: Stochastic Optimizer: Maximum iterations (100) reached and the optimization hasn't converged yet.\n",
            "  % self.max_iter, ConvergenceWarning)\n",
            "/usr/local/lib/python3.6/dist-packages/sklearn/neural_network/_multilayer_perceptron.py:571: ConvergenceWarning: Stochastic Optimizer: Maximum iterations (100) reached and the optimization hasn't converged yet.\n",
            "  % self.max_iter, ConvergenceWarning)\n"
          ],
          "name": "stderr"
        },
        {
          "output_type": "stream",
          "text": [
            "[0.68169214 0.71695906 0.61009667 0.65277778 0.64085642 0.65909091\n",
            " 0.68739824 0.57876639 0.61604286 0.62951528]\n"
          ],
          "name": "stdout"
        },
        {
          "output_type": "stream",
          "text": [
            "/usr/local/lib/python3.6/dist-packages/sklearn/neural_network/_multilayer_perceptron.py:571: ConvergenceWarning: Stochastic Optimizer: Maximum iterations (100) reached and the optimization hasn't converged yet.\n",
            "  % self.max_iter, ConvergenceWarning)\n"
          ],
          "name": "stderr"
        }
      ]
    },
    {
      "cell_type": "markdown",
      "metadata": {
        "id": "sHcxm8Xn7JSI"
      },
      "source": [
        "Imprimimos los resultados de los folds"
      ]
    },
    {
      "cell_type": "code",
      "metadata": {
        "id": "c_ylBJcrlcQi",
        "outputId": "ee41fb76-2c1c-4056-fb39-841d0ab6a1b5",
        "colab": {
          "base_uri": "https://localhost:8080/",
          "height": 187
        }
      },
      "source": [
        "for i in range(len(cv_resultado)):\n",
        "  print(\"F1 en {} fold = {:.2f}\".format(i+1, cv_resultado[i]))"
      ],
      "execution_count": 25,
      "outputs": [
        {
          "output_type": "stream",
          "text": [
            "F1 en 1 fold = 0.68\n",
            "F1 en 2 fold = 0.72\n",
            "F1 en 3 fold = 0.61\n",
            "F1 en 4 fold = 0.65\n",
            "F1 en 5 fold = 0.64\n",
            "F1 en 6 fold = 0.66\n",
            "F1 en 7 fold = 0.69\n",
            "F1 en 8 fold = 0.58\n",
            "F1 en 9 fold = 0.62\n",
            "F1 en 10 fold = 0.63\n"
          ],
          "name": "stdout"
        }
      ]
    },
    {
      "cell_type": "markdown",
      "metadata": {
        "id": "UcOnU9Cr7udS"
      },
      "source": [
        "Promedio de los folds de la red neuronal 1"
      ]
    },
    {
      "cell_type": "code",
      "metadata": {
        "id": "a0sLP4kaleNR",
        "outputId": "a8053b48-25f0-4c05-adf7-978bdf1e150a",
        "colab": {
          "base_uri": "https://localhost:8080/",
          "height": 34
        }
      },
      "source": [
        "promedio = np.mean(cv_resultado)\n",
        "print(\"promedio: \", promedio)"
      ],
      "execution_count": 26,
      "outputs": [
        {
          "output_type": "stream",
          "text": [
            "promedio:  0.6473195756088537\n"
          ],
          "name": "stdout"
        }
      ]
    },
    {
      "cell_type": "code",
      "metadata": {
        "id": "ciGCDWAQlf7Y"
      },
      "source": [
        "pesos_5 = [z for x in red_neuronal.coefs_ for y in x for z in y]"
      ],
      "execution_count": 27,
      "outputs": []
    },
    {
      "cell_type": "code",
      "metadata": {
        "id": "rki0aH8ElibZ",
        "outputId": "85977326-0b88-463c-8048-c09cc737f018",
        "colab": {
          "base_uri": "https://localhost:8080/",
          "height": 611
        }
      },
      "source": [
        "x = np.linspace(1,len(pesos_5),len(pesos_5))\n",
        "plt.figure(figsize=(15,10))\n",
        "plt.scatter(x,pesos_5, color='k', label='MLP5')\n",
        "plt.plot(x,pesos_5, color='k')\n",
        "plt.legend()"
      ],
      "execution_count": 28,
      "outputs": [
        {
          "output_type": "execute_result",
          "data": {
            "text/plain": [
              "<matplotlib.legend.Legend at 0x7efbe387af60>"
            ]
          },
          "metadata": {
            "tags": []
          },
          "execution_count": 28
        },
        {
          "output_type": "display_data",
          "data": {
            "image/png": "[encoded data removed]",
            "text/plain": [
              "<Figure size 1080x720 with 1 Axes>"
            ]
          },
          "metadata": {
            "tags": []
          }
        }
      ]
    },
    {
      "cell_type": "markdown",
      "metadata": {
        "id": "QB_hdIep72PN"
      },
      "source": [
        "Creamos una red nueronal 2"
      ]
    },
    {
      "cell_type": "code",
      "metadata": {
        "id": "pLo1y6GglkFk",
        "outputId": "0d855d9a-77fd-4a97-d692-442b042fa1ff",
        "colab": {
          "base_uri": "https://localhost:8080/",
          "height": 153
        }
      },
      "source": [
        "red_neuronal2 = MLPClassifier(hidden_layer_sizes=(8,2), max_iter=100, learning_rate_init=0.01, activation='logistic', alpha= 0.5)\n",
        "red_neuronal2.fit(X_train, Y_train)"
      ],
      "execution_count": 46,
      "outputs": [
        {
          "output_type": "execute_result",
          "data": {
            "text/plain": [
              "MLPClassifier(activation='logistic', alpha=0.5, batch_size='auto', beta_1=0.9,\n",
              "              beta_2=0.999, early_stopping=False, epsilon=1e-08,\n",
              "              hidden_layer_sizes=(8, 2), learning_rate='constant',\n",
              "              learning_rate_init=0.01, max_fun=15000, max_iter=100,\n",
              "              momentum=0.9, n_iter_no_change=10, nesterovs_momentum=True,\n",
              "              power_t=0.5, random_state=None, shuffle=True, solver='adam',\n",
              "              tol=0.0001, validation_fraction=0.1, verbose=False,\n",
              "              warm_start=False)"
            ]
          },
          "metadata": {
            "tags": []
          },
          "execution_count": 46
        }
      ]
    },
    {
      "cell_type": "code",
      "metadata": {
        "id": "QI4ydP-Flmia",
        "outputId": "84ff45bd-83ce-4a49-8eb0-41a998ed1040",
        "colab": {
          "base_uri": "https://localhost:8080/",
          "height": 748
        }
      },
      "source": [
        "red_neuronal2.coefs_"
      ],
      "execution_count": 47,
      "outputs": [
        {
          "output_type": "execute_result",
          "data": {
            "text/plain": [
              "[array([[-3.17005096e-03,  9.30409955e-04,  1.02244115e-03,\n",
              "         -3.65315334e-03,  1.17449375e-03,  1.00540900e-03,\n",
              "         -3.09601371e-03,  1.43429888e-03],\n",
              "        [-4.93267101e-04, -1.08941123e-03, -9.05002902e-04,\n",
              "         -1.01763020e-03, -1.30764277e-03, -1.05938051e-03,\n",
              "         -1.08552986e-03, -8.28438745e-04],\n",
              "        [-1.24613795e-03,  1.10707191e-03, -1.19148976e-03,\n",
              "         -1.32869676e-03, -1.87464926e-04,  9.88209191e-04,\n",
              "          1.36850898e-03, -9.35306657e-04],\n",
              "        [-3.79232138e-03, -4.50698747e-03, -4.84594417e-03,\n",
              "         -1.40767270e-03, -6.54385554e-03, -3.76421351e-03,\n",
              "         -6.35152913e-04, -3.56147332e-03],\n",
              "        [-4.88735011e-03, -8.36899149e-03, -7.75121906e-03,\n",
              "         -8.24113901e-03, -8.20394184e-03, -2.92455067e-03,\n",
              "         -4.81942737e-03, -7.01112106e-03],\n",
              "        [-7.65338191e-03, -8.21285801e-03, -6.45493215e-03,\n",
              "         -5.86638376e-03, -1.01914774e-02, -4.79125065e-03,\n",
              "         -6.67698578e-03,  9.52711379e-04],\n",
              "        [-4.03149642e-04,  3.62763788e-04, -1.18954808e-03,\n",
              "          6.95529182e-04, -1.61045198e-03, -1.40070728e-03,\n",
              "         -9.26295844e-04, -3.88212719e-04],\n",
              "        [ 5.27681846e-05,  1.62058807e-06, -2.14177628e-05,\n",
              "          1.97440172e-03,  1.38314702e-03, -1.43790307e-04,\n",
              "          3.35627132e-05, -8.08642995e-05],\n",
              "        [ 2.61833991e-04,  1.00010232e-03,  9.62504966e-04,\n",
              "         -3.81033409e-04,  7.11691504e-04, -4.51120279e-08,\n",
              "          1.00445651e-03,  3.58212069e-04],\n",
              "        [-1.07907782e-03, -1.69696589e-03, -1.56962324e-03,\n",
              "         -1.33708540e-03, -2.42167185e-03, -5.30619307e-04,\n",
              "         -4.51975127e-04, -4.31440996e-04],\n",
              "        [ 2.76143555e-03,  3.65108423e-03, -2.16848596e-03,\n",
              "         -2.49317546e-03, -2.17247809e-03,  3.18601342e-03,\n",
              "          3.55870944e-03,  5.91959517e-04]]),\n",
              " array([[-0.00728015,  0.00025123],\n",
              "        [-0.00774254,  0.00530901],\n",
              "        [-0.00593976,  0.00686908],\n",
              "        [-0.02372167,  0.0035177 ],\n",
              "        [-0.00905718,  0.03324789],\n",
              "        [-0.01194802,  0.00773754],\n",
              "        [-0.01505001,  0.00611585],\n",
              "        [-0.01231222, -0.00116105]]),\n",
              " array([[0.09699195],\n",
              "        [0.37567202]])]"
            ]
          },
          "metadata": {
            "tags": []
          },
          "execution_count": 47
        }
      ]
    },
    {
      "cell_type": "code",
      "metadata": {
        "id": "LL5Wi_ggloDt",
        "outputId": "495d6d39-eae6-40f8-d61e-a7a21f906b21",
        "colab": {
          "base_uri": "https://localhost:8080/",
          "height": 173
        }
      },
      "source": [
        "k=10\n",
        "kfold = KFold(n_splits = k)\n",
        "cv_resultado2 = cross_val_score(red_neuronal2, X_train, Y_train, cv=kfold, scoring='f1_macro')\n",
        "print(cv_resultado2)"
      ],
      "execution_count": 48,
      "outputs": [
        {
          "output_type": "stream",
          "text": [
            "/usr/local/lib/python3.6/dist-packages/sklearn/neural_network/_multilayer_perceptron.py:571: ConvergenceWarning: Stochastic Optimizer: Maximum iterations (100) reached and the optimization hasn't converged yet.\n",
            "  % self.max_iter, ConvergenceWarning)\n",
            "/usr/local/lib/python3.6/dist-packages/sklearn/neural_network/_multilayer_perceptron.py:571: ConvergenceWarning: Stochastic Optimizer: Maximum iterations (100) reached and the optimization hasn't converged yet.\n",
            "  % self.max_iter, ConvergenceWarning)\n",
            "/usr/local/lib/python3.6/dist-packages/sklearn/neural_network/_multilayer_perceptron.py:571: ConvergenceWarning: Stochastic Optimizer: Maximum iterations (100) reached and the optimization hasn't converged yet.\n",
            "  % self.max_iter, ConvergenceWarning)\n"
          ],
          "name": "stderr"
        },
        {
          "output_type": "stream",
          "text": [
            "[0.66800148 0.7067636  0.60374063 0.62984724 0.6534018  0.67032967\n",
            " 0.68997416 0.58333333 0.56937799 0.63204654]\n"
          ],
          "name": "stdout"
        }
      ]
    },
    {
      "cell_type": "code",
      "metadata": {
        "id": "2fdKQVFglpTO",
        "outputId": "e3d35eb3-ecba-4d60-f278-483ec5d2557a",
        "colab": {
          "base_uri": "https://localhost:8080/",
          "height": 187
        }
      },
      "source": [
        "for i in range(len(cv_resultado2)):\n",
        "  print(\"F1 en {} fold = {:.2f}\".format(i+1, cv_resultado2[i]))"
      ],
      "execution_count": 49,
      "outputs": [
        {
          "output_type": "stream",
          "text": [
            "F1 en 1 fold = 0.67\n",
            "F1 en 2 fold = 0.71\n",
            "F1 en 3 fold = 0.60\n",
            "F1 en 4 fold = 0.63\n",
            "F1 en 5 fold = 0.65\n",
            "F1 en 6 fold = 0.67\n",
            "F1 en 7 fold = 0.69\n",
            "F1 en 8 fold = 0.58\n",
            "F1 en 9 fold = 0.57\n",
            "F1 en 10 fold = 0.63\n"
          ],
          "name": "stdout"
        }
      ]
    },
    {
      "cell_type": "code",
      "metadata": {
        "id": "k5gaWK9-lrVj"
      },
      "source": [
        "pesos = [z for x in red_neuronal2.coefs_ for y in x for z in y]"
      ],
      "execution_count": 50,
      "outputs": []
    },
    {
      "cell_type": "code",
      "metadata": {
        "id": "L9cLdeBOlvi7",
        "outputId": "be325af7-68ba-49dc-d9eb-0c8d902fcb61",
        "colab": {
          "base_uri": "https://localhost:8080/",
          "height": 611
        }
      },
      "source": [
        "x2 = np.linspace(1,len(pesos),len(pesos))\n",
        "plt.figure(figsize=(15,10))\n",
        "plt.scatter(x2,pesos, color='k', label='MLP5')\n",
        "plt.plot(x2,pesos, color='k')\n",
        "plt.legend()"
      ],
      "execution_count": 51,
      "outputs": [
        {
          "output_type": "execute_result",
          "data": {
            "text/plain": [
              "<matplotlib.legend.Legend at 0x7efbe1a86e80>"
            ]
          },
          "metadata": {
            "tags": []
          },
          "execution_count": 51
        },
        {
          "output_type": "display_data",
          "data": {
            "image/png": "[encoded data removed]",
            "text/plain": [
              "<Figure size 1080x720 with 1 Axes>"
            ]
          },
          "metadata": {
            "tags": []
          }
        }
      ]
    },
    {
      "cell_type": "code",
      "metadata": {
        "id": "hzDnd6L_lxP8",
        "outputId": "8692d9b3-a22b-4048-98e9-20f371653624",
        "colab": {
          "base_uri": "https://localhost:8080/",
          "height": 611
        }
      },
      "source": [
        "plt.figure(figsize=(15,10))\n",
        "plt.scatter(x,pesos_5, color='R', label='MLP5')\n",
        "plt.scatter(x2,pesos, color='B', label='MLP5 alpha')\n",
        "plt.plot(x,pesos_5, color='R')\n",
        "plt.plot(x2,pesos, color='B')\n",
        "plt.legend()"
      ],
      "execution_count": 52,
      "outputs": [
        {
          "output_type": "execute_result",
          "data": {
            "text/plain": [
              "<matplotlib.legend.Legend at 0x7efbe18dcef0>"
            ]
          },
          "metadata": {
            "tags": []
          },
          "execution_count": 52
        },
        {
          "output_type": "display_data",
          "data": {
            "image/png": "[encoded data removed]",
            "text/plain": [
              "<Figure size 1080x720 with 1 Axes>"
            ]
          },
          "metadata": {
            "tags": []
          }
        }
      ]
    },
    {
      "cell_type": "code",
      "metadata": {
        "id": "hXnM4NJ5ly7F",
        "outputId": "42cf886f-f716-4a6c-8036-a9c92083b438",
        "colab": {
          "base_uri": "https://localhost:8080/",
          "height": 153
        }
      },
      "source": [
        "red_neuronal3 = MLPClassifier(hidden_layer_sizes=(5,4), max_iter=100, learning_rate_init=0.0001, activation='logistic')\n",
        "red_neuronal3.fit(X_train, Y_train)"
      ],
      "execution_count": 41,
      "outputs": [
        {
          "output_type": "execute_result",
          "data": {
            "text/plain": [
              "MLPClassifier(activation='logistic', alpha=0.0001, batch_size='auto',\n",
              "              beta_1=0.9, beta_2=0.999, early_stopping=False, epsilon=1e-08,\n",
              "              hidden_layer_sizes=(5, 4), learning_rate='constant',\n",
              "              learning_rate_init=0.0001, max_fun=15000, max_iter=100,\n",
              "              momentum=0.9, n_iter_no_change=10, nesterovs_momentum=True,\n",
              "              power_t=0.5, random_state=None, shuffle=True, solver='adam',\n",
              "              tol=0.0001, validation_fraction=0.1, verbose=False,\n",
              "              warm_start=False)"
            ]
          },
          "metadata": {
            "tags": []
          },
          "execution_count": 41
        }
      ]
    },
    {
      "cell_type": "code",
      "metadata": {
        "id": "jVtT7cKGl0kH",
        "outputId": "90298101-ce99-4c59-cab9-db165297aaf6",
        "colab": {
          "base_uri": "https://localhost:8080/",
          "height": 357
        }
      },
      "source": [
        "red_neuronal3.coefs_"
      ],
      "execution_count": 42,
      "outputs": [
        {
          "output_type": "execute_result",
          "data": {
            "text/plain": [
              "[array([[ 0.34240802, -0.02247297, -0.23759962,  0.01999638, -0.09172066],\n",
              "        [-0.23164811, -0.26258199, -0.34653013, -0.19066625, -0.1033221 ],\n",
              "        [-0.0559385 , -0.28707821,  0.11099467, -0.02029885, -0.0797599 ],\n",
              "        [ 0.32372302, -0.05761989, -0.25846217, -0.33981131,  0.0734484 ],\n",
              "        [ 0.06134148,  0.12760147,  0.25140951,  0.13570075, -0.23469863],\n",
              "        [-0.31129438,  0.0058443 , -0.1074397 ,  0.0570471 ,  0.02092378],\n",
              "        [-0.07461181, -0.18794992, -0.00761407, -0.22189968,  0.32073126],\n",
              "        [ 0.04095521, -0.25349715,  0.16041869, -0.26606256, -0.00982628],\n",
              "        [-0.23952787,  0.01717608, -0.05177879, -0.12113706, -0.30654747],\n",
              "        [ 0.24153811,  0.16638671, -0.31807869,  0.21410034, -0.33116828],\n",
              "        [ 0.04991171, -0.09381787,  0.27442277,  0.08513977,  0.07988809]]),\n",
              " array([[ 0.42743952,  0.44191488, -0.16766552, -0.47219478],\n",
              "        [-0.20192399, -0.23114804,  0.396525  , -0.4364658 ],\n",
              "        [ 0.05240889, -0.43656724, -0.02594089,  0.41992423],\n",
              "        [-0.0940891 , -0.0330702 , -0.3926281 ,  0.32938146],\n",
              "        [-0.33298139, -0.37454902, -0.40652092,  0.1608185 ]]),\n",
              " array([[ 0.48582077],\n",
              "        [-0.53121459],\n",
              "        [ 0.34726822],\n",
              "        [ 0.38977009]])]"
            ]
          },
          "metadata": {
            "tags": []
          },
          "execution_count": 42
        }
      ]
    },
    {
      "cell_type": "code",
      "metadata": {
        "id": "SwSDTJj3l2Sy",
        "outputId": "9f8b828b-2da7-402a-8741-e2fa354b14c9",
        "colab": {
          "base_uri": "https://localhost:8080/",
          "height": 173
        }
      },
      "source": [
        "kfold = KFold(n_splits = 10)\n",
        "cv_resultado2 = cross_val_score(red_neuronal2, X_train, Y_train, cv=kfold, scoring='f1_macro')\n",
        "print(cv_resultado2)"
      ],
      "execution_count": 43,
      "outputs": [
        {
          "output_type": "stream",
          "text": [
            "/usr/local/lib/python3.6/dist-packages/sklearn/neural_network/_multilayer_perceptron.py:571: ConvergenceWarning: Stochastic Optimizer: Maximum iterations (100) reached and the optimization hasn't converged yet.\n",
            "  % self.max_iter, ConvergenceWarning)\n",
            "/usr/local/lib/python3.6/dist-packages/sklearn/neural_network/_multilayer_perceptron.py:571: ConvergenceWarning: Stochastic Optimizer: Maximum iterations (100) reached and the optimization hasn't converged yet.\n",
            "  % self.max_iter, ConvergenceWarning)\n",
            "/usr/local/lib/python3.6/dist-packages/sklearn/neural_network/_multilayer_perceptron.py:571: ConvergenceWarning: Stochastic Optimizer: Maximum iterations (100) reached and the optimization hasn't converged yet.\n",
            "  % self.max_iter, ConvergenceWarning)\n"
          ],
          "name": "stderr"
        },
        {
          "output_type": "stream",
          "text": [
            "[0.67531306 0.7067636  0.60374063 0.66834385 0.66536531 0.68121442\n",
            " 0.68997416 0.58333333 0.59013283 0.625     ]\n"
          ],
          "name": "stdout"
        }
      ]
    },
    {
      "cell_type": "code",
      "metadata": {
        "id": "9i_OcCidl4ns",
        "outputId": "9d764f81-53e0-4a41-e67e-f9ffb5d96ea9",
        "colab": {
          "base_uri": "https://localhost:8080/",
          "height": 34
        }
      },
      "source": [
        "np.mean(cv_resultado2)"
      ],
      "execution_count": 44,
      "outputs": [
        {
          "output_type": "execute_result",
          "data": {
            "text/plain": [
              "0.6489181194770927"
            ]
          },
          "metadata": {
            "tags": []
          },
          "execution_count": 44
        }
      ]
    },
    {
      "cell_type": "code",
      "metadata": {
        "id": "onxaSlMol9Jz",
        "outputId": "815b36df-eeb0-4d04-8e9e-3c88c8e86efa",
        "colab": {
          "base_uri": "https://localhost:8080/",
          "height": 187
        }
      },
      "source": [
        "for i in range(len(cv_resultado2)):\n",
        "  print(\"F1 en {} fold = {:.2f}\".format(i+1, cv_resultado2[i]))"
      ],
      "execution_count": 45,
      "outputs": [
        {
          "output_type": "stream",
          "text": [
            "F1 en 1 fold = 0.68\n",
            "F1 en 2 fold = 0.71\n",
            "F1 en 3 fold = 0.60\n",
            "F1 en 4 fold = 0.67\n",
            "F1 en 5 fold = 0.67\n",
            "F1 en 6 fold = 0.68\n",
            "F1 en 7 fold = 0.69\n",
            "F1 en 8 fold = 0.58\n",
            "F1 en 9 fold = 0.59\n",
            "F1 en 10 fold = 0.62\n"
          ],
          "name": "stdout"
        }
      ]
    },
    {
      "cell_type": "markdown",
      "metadata": {
        "id": "w7eStGEs8Dml"
      },
      "source": [
        "# MODELO NEURAL NETWORK CON DATASET 2\n"
      ]
    },
    {
      "cell_type": "markdown",
      "metadata": {
        "id": "tBHr7u3d8Ptq"
      },
      "source": [
        "Tal como en el primer modelo, se realizan los mismos pasos, solo que con el dataset pre procesado de una manera distinta."
      ]
    },
    {
      "cell_type": "code",
      "metadata": {
        "id": "bODpvNpnmQVn"
      },
      "source": [
        "data2 = pd.read_csv('https://raw.githubusercontent.com/JumpNShootMan/TP_MachineLearning/master/datos_banco_post.csv', encoding='latin-1')\n"
      ],
      "execution_count": 56,
      "outputs": []
    },
    {
      "cell_type": "code",
      "metadata": {
        "id": "gk_2ugvK0QHU",
        "outputId": "89a6c4c5-409d-4152-979c-615e16ab4747",
        "colab": {
          "base_uri": "https://localhost:8080/",
          "height": 456
        }
      },
      "source": [
        "data2"
      ],
      "execution_count": 57,
      "outputs": [
        {
          "output_type": "execute_result",
          "data": {
            "text/html": [
              "<div>\n",
              "<style scoped>\n",
              "    .dataframe tbody tr th:only-of-type {\n",
              "        vertical-align: middle;\n",
              "    }\n",
              "\n",
              "    .dataframe tbody tr th {\n",
              "        vertical-align: top;\n",
              "    }\n",
              "\n",
              "    .dataframe thead th {\n",
              "        text-align: right;\n",
              "    }\n",
              "</style>\n",
              "<table border=\"1\" class=\"dataframe\">\n",
              "  <thead>\n",
              "    <tr style=\"text-align: right;\">\n",
              "      <th></th>\n",
              "      <th>Unnamed: 0</th>\n",
              "      <th>target</th>\n",
              "      <th>monthly_debt_capacity</th>\n",
              "      <th>var_employment_time_in_months</th>\n",
              "      <th>approved_amount</th>\n",
              "      <th>approved_term</th>\n",
              "      <th>approved_interest_amount</th>\n",
              "      <th>var_net_income</th>\n",
              "      <th>default_request_term</th>\n",
              "      <th>person_gender_FEMALE</th>\n",
              "      <th>person_gender_MALE</th>\n",
              "      <th>credit_history_marital_status_C</th>\n",
              "      <th>credit_history_marital_status_D</th>\n",
              "      <th>credit_history_marital_status_S</th>\n",
              "      <th>credit_history_marital_status_V</th>\n",
              "      <th>var_max_sbs_qual_12m_CPP</th>\n",
              "      <th>var_max_sbs_qual_12m_DEFICIENTE</th>\n",
              "      <th>var_max_sbs_qual_12m_DUDOSO</th>\n",
              "      <th>var_max_sbs_qual_12m_NORMAL</th>\n",
              "      <th>var_max_sbs_qual_12m_PERDIDA</th>\n",
              "      <th>person_degree_type_desc_Carrera Tecnica</th>\n",
              "      <th>person_degree_type_desc_Postgrado</th>\n",
              "      <th>person_degree_type_desc_Primaria</th>\n",
              "      <th>person_degree_type_desc_Secundaria</th>\n",
              "      <th>person_degree_type_desc_Universitaria</th>\n",
              "    </tr>\n",
              "  </thead>\n",
              "  <tbody>\n",
              "    <tr>\n",
              "      <th>0</th>\n",
              "      <td>0</td>\n",
              "      <td>1</td>\n",
              "      <td>0.055545</td>\n",
              "      <td>0.113636</td>\n",
              "      <td>0.059829</td>\n",
              "      <td>6</td>\n",
              "      <td>0.116370</td>\n",
              "      <td>0.039883</td>\n",
              "      <td>1</td>\n",
              "      <td>0</td>\n",
              "      <td>1</td>\n",
              "      <td>1</td>\n",
              "      <td>0</td>\n",
              "      <td>0</td>\n",
              "      <td>0</td>\n",
              "      <td>0</td>\n",
              "      <td>0</td>\n",
              "      <td>0</td>\n",
              "      <td>1</td>\n",
              "      <td>0</td>\n",
              "      <td>0</td>\n",
              "      <td>0</td>\n",
              "      <td>0</td>\n",
              "      <td>1</td>\n",
              "      <td>0</td>\n",
              "    </tr>\n",
              "    <tr>\n",
              "      <th>1</th>\n",
              "      <td>1</td>\n",
              "      <td>1</td>\n",
              "      <td>0.054488</td>\n",
              "      <td>0.579545</td>\n",
              "      <td>0.145299</td>\n",
              "      <td>12</td>\n",
              "      <td>0.294249</td>\n",
              "      <td>0.037128</td>\n",
              "      <td>0</td>\n",
              "      <td>1</td>\n",
              "      <td>0</td>\n",
              "      <td>0</td>\n",
              "      <td>0</td>\n",
              "      <td>1</td>\n",
              "      <td>0</td>\n",
              "      <td>0</td>\n",
              "      <td>0</td>\n",
              "      <td>0</td>\n",
              "      <td>1</td>\n",
              "      <td>0</td>\n",
              "      <td>0</td>\n",
              "      <td>0</td>\n",
              "      <td>0</td>\n",
              "      <td>1</td>\n",
              "      <td>0</td>\n",
              "    </tr>\n",
              "    <tr>\n",
              "      <th>2</th>\n",
              "      <td>2</td>\n",
              "      <td>0</td>\n",
              "      <td>0.087848</td>\n",
              "      <td>0.738636</td>\n",
              "      <td>0.042735</td>\n",
              "      <td>3</td>\n",
              "      <td>0.027169</td>\n",
              "      <td>0.072837</td>\n",
              "      <td>0</td>\n",
              "      <td>1</td>\n",
              "      <td>0</td>\n",
              "      <td>0</td>\n",
              "      <td>0</td>\n",
              "      <td>1</td>\n",
              "      <td>0</td>\n",
              "      <td>0</td>\n",
              "      <td>0</td>\n",
              "      <td>0</td>\n",
              "      <td>1</td>\n",
              "      <td>0</td>\n",
              "      <td>0</td>\n",
              "      <td>0</td>\n",
              "      <td>0</td>\n",
              "      <td>1</td>\n",
              "      <td>0</td>\n",
              "    </tr>\n",
              "    <tr>\n",
              "      <th>3</th>\n",
              "      <td>3</td>\n",
              "      <td>0</td>\n",
              "      <td>0.136099</td>\n",
              "      <td>0.886364</td>\n",
              "      <td>0.085470</td>\n",
              "      <td>6</td>\n",
              "      <td>0.086837</td>\n",
              "      <td>0.119720</td>\n",
              "      <td>0</td>\n",
              "      <td>0</td>\n",
              "      <td>1</td>\n",
              "      <td>0</td>\n",
              "      <td>0</td>\n",
              "      <td>1</td>\n",
              "      <td>0</td>\n",
              "      <td>0</td>\n",
              "      <td>0</td>\n",
              "      <td>0</td>\n",
              "      <td>1</td>\n",
              "      <td>0</td>\n",
              "      <td>0</td>\n",
              "      <td>0</td>\n",
              "      <td>0</td>\n",
              "      <td>0</td>\n",
              "      <td>1</td>\n",
              "    </tr>\n",
              "    <tr>\n",
              "      <th>4</th>\n",
              "      <td>4</td>\n",
              "      <td>0</td>\n",
              "      <td>0.085014</td>\n",
              "      <td>0.943182</td>\n",
              "      <td>0.042735</td>\n",
              "      <td>3</td>\n",
              "      <td>0.029944</td>\n",
              "      <td>0.065837</td>\n",
              "      <td>1</td>\n",
              "      <td>1</td>\n",
              "      <td>0</td>\n",
              "      <td>0</td>\n",
              "      <td>0</td>\n",
              "      <td>1</td>\n",
              "      <td>0</td>\n",
              "      <td>0</td>\n",
              "      <td>0</td>\n",
              "      <td>0</td>\n",
              "      <td>1</td>\n",
              "      <td>0</td>\n",
              "      <td>0</td>\n",
              "      <td>0</td>\n",
              "      <td>0</td>\n",
              "      <td>0</td>\n",
              "      <td>1</td>\n",
              "    </tr>\n",
              "    <tr>\n",
              "      <th>...</th>\n",
              "      <td>...</td>\n",
              "      <td>...</td>\n",
              "      <td>...</td>\n",
              "      <td>...</td>\n",
              "      <td>...</td>\n",
              "      <td>...</td>\n",
              "      <td>...</td>\n",
              "      <td>...</td>\n",
              "      <td>...</td>\n",
              "      <td>...</td>\n",
              "      <td>...</td>\n",
              "      <td>...</td>\n",
              "      <td>...</td>\n",
              "      <td>...</td>\n",
              "      <td>...</td>\n",
              "      <td>...</td>\n",
              "      <td>...</td>\n",
              "      <td>...</td>\n",
              "      <td>...</td>\n",
              "      <td>...</td>\n",
              "      <td>...</td>\n",
              "      <td>...</td>\n",
              "      <td>...</td>\n",
              "      <td>...</td>\n",
              "      <td>...</td>\n",
              "    </tr>\n",
              "    <tr>\n",
              "      <th>1714</th>\n",
              "      <td>1714</td>\n",
              "      <td>0</td>\n",
              "      <td>0.104806</td>\n",
              "      <td>0.056818</td>\n",
              "      <td>0.384615</td>\n",
              "      <td>12</td>\n",
              "      <td>0.652178</td>\n",
              "      <td>0.074970</td>\n",
              "      <td>0</td>\n",
              "      <td>1</td>\n",
              "      <td>0</td>\n",
              "      <td>0</td>\n",
              "      <td>0</td>\n",
              "      <td>1</td>\n",
              "      <td>0</td>\n",
              "      <td>1</td>\n",
              "      <td>0</td>\n",
              "      <td>0</td>\n",
              "      <td>0</td>\n",
              "      <td>0</td>\n",
              "      <td>1</td>\n",
              "      <td>0</td>\n",
              "      <td>0</td>\n",
              "      <td>0</td>\n",
              "      <td>0</td>\n",
              "    </tr>\n",
              "    <tr>\n",
              "      <th>1715</th>\n",
              "      <td>1715</td>\n",
              "      <td>0</td>\n",
              "      <td>0.055315</td>\n",
              "      <td>0.852273</td>\n",
              "      <td>0.059829</td>\n",
              "      <td>6</td>\n",
              "      <td>0.068654</td>\n",
              "      <td>0.077103</td>\n",
              "      <td>1</td>\n",
              "      <td>1</td>\n",
              "      <td>0</td>\n",
              "      <td>0</td>\n",
              "      <td>0</td>\n",
              "      <td>1</td>\n",
              "      <td>0</td>\n",
              "      <td>0</td>\n",
              "      <td>0</td>\n",
              "      <td>0</td>\n",
              "      <td>1</td>\n",
              "      <td>0</td>\n",
              "      <td>0</td>\n",
              "      <td>1</td>\n",
              "      <td>0</td>\n",
              "      <td>0</td>\n",
              "      <td>0</td>\n",
              "    </tr>\n",
              "    <tr>\n",
              "      <th>1716</th>\n",
              "      <td>1716</td>\n",
              "      <td>0</td>\n",
              "      <td>0.114953</td>\n",
              "      <td>0.647727</td>\n",
              "      <td>0.170940</td>\n",
              "      <td>6</td>\n",
              "      <td>0.147690</td>\n",
              "      <td>0.096845</td>\n",
              "      <td>0</td>\n",
              "      <td>0</td>\n",
              "      <td>1</td>\n",
              "      <td>0</td>\n",
              "      <td>0</td>\n",
              "      <td>1</td>\n",
              "      <td>0</td>\n",
              "      <td>0</td>\n",
              "      <td>0</td>\n",
              "      <td>0</td>\n",
              "      <td>1</td>\n",
              "      <td>0</td>\n",
              "      <td>0</td>\n",
              "      <td>0</td>\n",
              "      <td>0</td>\n",
              "      <td>0</td>\n",
              "      <td>1</td>\n",
              "    </tr>\n",
              "    <tr>\n",
              "      <th>1717</th>\n",
              "      <td>1717</td>\n",
              "      <td>0</td>\n",
              "      <td>0.076876</td>\n",
              "      <td>0.920455</td>\n",
              "      <td>0.034188</td>\n",
              "      <td>3</td>\n",
              "      <td>0.024940</td>\n",
              "      <td>0.074833</td>\n",
              "      <td>1</td>\n",
              "      <td>0</td>\n",
              "      <td>1</td>\n",
              "      <td>0</td>\n",
              "      <td>0</td>\n",
              "      <td>1</td>\n",
              "      <td>0</td>\n",
              "      <td>0</td>\n",
              "      <td>0</td>\n",
              "      <td>0</td>\n",
              "      <td>1</td>\n",
              "      <td>0</td>\n",
              "      <td>1</td>\n",
              "      <td>0</td>\n",
              "      <td>0</td>\n",
              "      <td>0</td>\n",
              "      <td>0</td>\n",
              "    </tr>\n",
              "    <tr>\n",
              "      <th>1718</th>\n",
              "      <td>1718</td>\n",
              "      <td>0</td>\n",
              "      <td>0.086395</td>\n",
              "      <td>0.147727</td>\n",
              "      <td>0.042735</td>\n",
              "      <td>3</td>\n",
              "      <td>0.027169</td>\n",
              "      <td>0.072877</td>\n",
              "      <td>0</td>\n",
              "      <td>0</td>\n",
              "      <td>1</td>\n",
              "      <td>0</td>\n",
              "      <td>0</td>\n",
              "      <td>1</td>\n",
              "      <td>0</td>\n",
              "      <td>0</td>\n",
              "      <td>0</td>\n",
              "      <td>0</td>\n",
              "      <td>1</td>\n",
              "      <td>0</td>\n",
              "      <td>0</td>\n",
              "      <td>0</td>\n",
              "      <td>0</td>\n",
              "      <td>0</td>\n",
              "      <td>1</td>\n",
              "    </tr>\n",
              "  </tbody>\n",
              "</table>\n",
              "<p>1719 rows × 25 columns</p>\n",
              "</div>"
            ],
            "text/plain": [
              "      Unnamed: 0  ...  person_degree_type_desc_Universitaria\n",
              "0              0  ...                                      0\n",
              "1              1  ...                                      0\n",
              "2              2  ...                                      0\n",
              "3              3  ...                                      1\n",
              "4              4  ...                                      1\n",
              "...          ...  ...                                    ...\n",
              "1714        1714  ...                                      0\n",
              "1715        1715  ...                                      0\n",
              "1716        1716  ...                                      1\n",
              "1717        1717  ...                                      0\n",
              "1718        1718  ...                                      1\n",
              "\n",
              "[1719 rows x 25 columns]"
            ]
          },
          "metadata": {
            "tags": []
          },
          "execution_count": 57
        }
      ]
    },
    {
      "cell_type": "code",
      "metadata": {
        "id": "d5p744ql0XNZ"
      },
      "source": [
        "x = data2.iloc[:,:-1]\n",
        "y = data2.iloc[:,-1]"
      ],
      "execution_count": 58,
      "outputs": []
    },
    {
      "cell_type": "code",
      "metadata": {
        "id": "VeuZxwHZ0m_3",
        "outputId": "a20605b4-5f9c-4e9a-e463-a556748407c5",
        "colab": {
          "base_uri": "https://localhost:8080/",
          "height": 456
        }
      },
      "source": [
        "estandarizacion = StandardScaler().fit_transform(x)\n",
        "x2 = pd.DataFrame(data=estandarizacion, columns=x.columns)\n",
        "x2"
      ],
      "execution_count": 59,
      "outputs": [
        {
          "output_type": "execute_result",
          "data": {
            "text/html": [
              "<div>\n",
              "<style scoped>\n",
              "    .dataframe tbody tr th:only-of-type {\n",
              "        vertical-align: middle;\n",
              "    }\n",
              "\n",
              "    .dataframe tbody tr th {\n",
              "        vertical-align: top;\n",
              "    }\n",
              "\n",
              "    .dataframe thead th {\n",
              "        text-align: right;\n",
              "    }\n",
              "</style>\n",
              "<table border=\"1\" class=\"dataframe\">\n",
              "  <thead>\n",
              "    <tr style=\"text-align: right;\">\n",
              "      <th></th>\n",
              "      <th>Unnamed: 0</th>\n",
              "      <th>target</th>\n",
              "      <th>monthly_debt_capacity</th>\n",
              "      <th>var_employment_time_in_months</th>\n",
              "      <th>approved_amount</th>\n",
              "      <th>approved_term</th>\n",
              "      <th>approved_interest_amount</th>\n",
              "      <th>var_net_income</th>\n",
              "      <th>default_request_term</th>\n",
              "      <th>person_gender_FEMALE</th>\n",
              "      <th>person_gender_MALE</th>\n",
              "      <th>credit_history_marital_status_C</th>\n",
              "      <th>credit_history_marital_status_D</th>\n",
              "      <th>credit_history_marital_status_S</th>\n",
              "      <th>credit_history_marital_status_V</th>\n",
              "      <th>var_max_sbs_qual_12m_CPP</th>\n",
              "      <th>var_max_sbs_qual_12m_DEFICIENTE</th>\n",
              "      <th>var_max_sbs_qual_12m_DUDOSO</th>\n",
              "      <th>var_max_sbs_qual_12m_NORMAL</th>\n",
              "      <th>var_max_sbs_qual_12m_PERDIDA</th>\n",
              "      <th>person_degree_type_desc_Carrera Tecnica</th>\n",
              "      <th>person_degree_type_desc_Postgrado</th>\n",
              "      <th>person_degree_type_desc_Primaria</th>\n",
              "      <th>person_degree_type_desc_Secundaria</th>\n",
              "    </tr>\n",
              "  </thead>\n",
              "  <tbody>\n",
              "    <tr>\n",
              "      <th>0</th>\n",
              "      <td>-1.731044</td>\n",
              "      <td>1.543975</td>\n",
              "      <td>-0.722556</td>\n",
              "      <td>-0.988567</td>\n",
              "      <td>-0.622794</td>\n",
              "      <td>-0.154473</td>\n",
              "      <td>-0.289697</td>\n",
              "      <td>-0.851113</td>\n",
              "      <td>0.984415</td>\n",
              "      <td>-0.709885</td>\n",
              "      <td>0.709885</td>\n",
              "      <td>2.266999</td>\n",
              "      <td>-0.087294</td>\n",
              "      <td>-2.201576</td>\n",
              "      <td>-0.024126</td>\n",
              "      <td>-0.364908</td>\n",
              "      <td>-0.135517</td>\n",
              "      <td>-0.024126</td>\n",
              "      <td>0.400877</td>\n",
              "      <td>-0.048295</td>\n",
              "      <td>-0.754893</td>\n",
              "      <td>-0.198239</td>\n",
              "      <td>-0.041812</td>\n",
              "      <td>2.610294</td>\n",
              "    </tr>\n",
              "    <tr>\n",
              "      <th>1</th>\n",
              "      <td>-1.729028</td>\n",
              "      <td>1.543975</td>\n",
              "      <td>-0.739563</td>\n",
              "      <td>0.634007</td>\n",
              "      <td>0.041875</td>\n",
              "      <td>1.839567</td>\n",
              "      <td>0.708968</td>\n",
              "      <td>-0.894260</td>\n",
              "      <td>-1.015832</td>\n",
              "      <td>1.408678</td>\n",
              "      <td>-1.408678</td>\n",
              "      <td>-0.441112</td>\n",
              "      <td>-0.087294</td>\n",
              "      <td>0.454220</td>\n",
              "      <td>-0.024126</td>\n",
              "      <td>-0.364908</td>\n",
              "      <td>-0.135517</td>\n",
              "      <td>-0.024126</td>\n",
              "      <td>0.400877</td>\n",
              "      <td>-0.048295</td>\n",
              "      <td>-0.754893</td>\n",
              "      <td>-0.198239</td>\n",
              "      <td>-0.041812</td>\n",
              "      <td>2.610294</td>\n",
              "    </tr>\n",
              "    <tr>\n",
              "      <th>2</th>\n",
              "      <td>-1.727013</td>\n",
              "      <td>-0.647679</td>\n",
              "      <td>-0.202554</td>\n",
              "      <td>1.188057</td>\n",
              "      <td>-0.755728</td>\n",
              "      <td>-1.151493</td>\n",
              "      <td>-0.790501</td>\n",
              "      <td>-0.334956</td>\n",
              "      <td>-1.015832</td>\n",
              "      <td>1.408678</td>\n",
              "      <td>-1.408678</td>\n",
              "      <td>-0.441112</td>\n",
              "      <td>-0.087294</td>\n",
              "      <td>0.454220</td>\n",
              "      <td>-0.024126</td>\n",
              "      <td>-0.364908</td>\n",
              "      <td>-0.135517</td>\n",
              "      <td>-0.024126</td>\n",
              "      <td>0.400877</td>\n",
              "      <td>-0.048295</td>\n",
              "      <td>-0.754893</td>\n",
              "      <td>-0.198239</td>\n",
              "      <td>-0.041812</td>\n",
              "      <td>2.610294</td>\n",
              "    </tr>\n",
              "    <tr>\n",
              "      <th>3</th>\n",
              "      <td>-1.724998</td>\n",
              "      <td>-0.647679</td>\n",
              "      <td>0.574154</td>\n",
              "      <td>1.702531</td>\n",
              "      <td>-0.423393</td>\n",
              "      <td>-0.154473</td>\n",
              "      <td>-0.455503</td>\n",
              "      <td>0.399349</td>\n",
              "      <td>-1.015832</td>\n",
              "      <td>-0.709885</td>\n",
              "      <td>0.709885</td>\n",
              "      <td>-0.441112</td>\n",
              "      <td>-0.087294</td>\n",
              "      <td>0.454220</td>\n",
              "      <td>-0.024126</td>\n",
              "      <td>-0.364908</td>\n",
              "      <td>-0.135517</td>\n",
              "      <td>-0.024126</td>\n",
              "      <td>0.400877</td>\n",
              "      <td>-0.048295</td>\n",
              "      <td>-0.754893</td>\n",
              "      <td>-0.198239</td>\n",
              "      <td>-0.041812</td>\n",
              "      <td>-0.383099</td>\n",
              "    </tr>\n",
              "    <tr>\n",
              "      <th>4</th>\n",
              "      <td>-1.722983</td>\n",
              "      <td>-0.647679</td>\n",
              "      <td>-0.248180</td>\n",
              "      <td>1.900406</td>\n",
              "      <td>-0.755728</td>\n",
              "      <td>-1.151493</td>\n",
              "      <td>-0.774921</td>\n",
              "      <td>-0.444593</td>\n",
              "      <td>0.984415</td>\n",
              "      <td>1.408678</td>\n",
              "      <td>-1.408678</td>\n",
              "      <td>-0.441112</td>\n",
              "      <td>-0.087294</td>\n",
              "      <td>0.454220</td>\n",
              "      <td>-0.024126</td>\n",
              "      <td>-0.364908</td>\n",
              "      <td>-0.135517</td>\n",
              "      <td>-0.024126</td>\n",
              "      <td>0.400877</td>\n",
              "      <td>-0.048295</td>\n",
              "      <td>-0.754893</td>\n",
              "      <td>-0.198239</td>\n",
              "      <td>-0.041812</td>\n",
              "      <td>-0.383099</td>\n",
              "    </tr>\n",
              "    <tr>\n",
              "      <th>...</th>\n",
              "      <td>...</td>\n",
              "      <td>...</td>\n",
              "      <td>...</td>\n",
              "      <td>...</td>\n",
              "      <td>...</td>\n",
              "      <td>...</td>\n",
              "      <td>...</td>\n",
              "      <td>...</td>\n",
              "      <td>...</td>\n",
              "      <td>...</td>\n",
              "      <td>...</td>\n",
              "      <td>...</td>\n",
              "      <td>...</td>\n",
              "      <td>...</td>\n",
              "      <td>...</td>\n",
              "      <td>...</td>\n",
              "      <td>...</td>\n",
              "      <td>...</td>\n",
              "      <td>...</td>\n",
              "      <td>...</td>\n",
              "      <td>...</td>\n",
              "      <td>...</td>\n",
              "      <td>...</td>\n",
              "      <td>...</td>\n",
              "    </tr>\n",
              "    <tr>\n",
              "      <th>1714</th>\n",
              "      <td>1.722983</td>\n",
              "      <td>-0.647679</td>\n",
              "      <td>0.070419</td>\n",
              "      <td>-1.186441</td>\n",
              "      <td>1.902950</td>\n",
              "      <td>1.839567</td>\n",
              "      <td>2.718490</td>\n",
              "      <td>-0.301551</td>\n",
              "      <td>-1.015832</td>\n",
              "      <td>1.408678</td>\n",
              "      <td>-1.408678</td>\n",
              "      <td>-0.441112</td>\n",
              "      <td>-0.087294</td>\n",
              "      <td>0.454220</td>\n",
              "      <td>-0.024126</td>\n",
              "      <td>2.740420</td>\n",
              "      <td>-0.135517</td>\n",
              "      <td>-0.024126</td>\n",
              "      <td>-2.494532</td>\n",
              "      <td>-0.048295</td>\n",
              "      <td>1.324692</td>\n",
              "      <td>-0.198239</td>\n",
              "      <td>-0.041812</td>\n",
              "      <td>-0.383099</td>\n",
              "    </tr>\n",
              "    <tr>\n",
              "      <th>1715</th>\n",
              "      <td>1.724998</td>\n",
              "      <td>-0.647679</td>\n",
              "      <td>-0.726253</td>\n",
              "      <td>1.583806</td>\n",
              "      <td>-0.622794</td>\n",
              "      <td>-0.154473</td>\n",
              "      <td>-0.557592</td>\n",
              "      <td>-0.268145</td>\n",
              "      <td>0.984415</td>\n",
              "      <td>1.408678</td>\n",
              "      <td>-1.408678</td>\n",
              "      <td>-0.441112</td>\n",
              "      <td>-0.087294</td>\n",
              "      <td>0.454220</td>\n",
              "      <td>-0.024126</td>\n",
              "      <td>-0.364908</td>\n",
              "      <td>-0.135517</td>\n",
              "      <td>-0.024126</td>\n",
              "      <td>0.400877</td>\n",
              "      <td>-0.048295</td>\n",
              "      <td>-0.754893</td>\n",
              "      <td>5.044418</td>\n",
              "      <td>-0.041812</td>\n",
              "      <td>-0.383099</td>\n",
              "    </tr>\n",
              "    <tr>\n",
              "      <th>1716</th>\n",
              "      <td>1.727013</td>\n",
              "      <td>-0.647679</td>\n",
              "      <td>0.233764</td>\n",
              "      <td>0.871457</td>\n",
              "      <td>0.241276</td>\n",
              "      <td>-0.154473</td>\n",
              "      <td>-0.113856</td>\n",
              "      <td>0.041067</td>\n",
              "      <td>-1.015832</td>\n",
              "      <td>-0.709885</td>\n",
              "      <td>0.709885</td>\n",
              "      <td>-0.441112</td>\n",
              "      <td>-0.087294</td>\n",
              "      <td>0.454220</td>\n",
              "      <td>-0.024126</td>\n",
              "      <td>-0.364908</td>\n",
              "      <td>-0.135517</td>\n",
              "      <td>-0.024126</td>\n",
              "      <td>0.400877</td>\n",
              "      <td>-0.048295</td>\n",
              "      <td>-0.754893</td>\n",
              "      <td>-0.198239</td>\n",
              "      <td>-0.041812</td>\n",
              "      <td>-0.383099</td>\n",
              "    </tr>\n",
              "    <tr>\n",
              "      <th>1717</th>\n",
              "      <td>1.729028</td>\n",
              "      <td>-0.647679</td>\n",
              "      <td>-0.379187</td>\n",
              "      <td>1.821256</td>\n",
              "      <td>-0.822195</td>\n",
              "      <td>-1.151493</td>\n",
              "      <td>-0.803014</td>\n",
              "      <td>-0.303692</td>\n",
              "      <td>0.984415</td>\n",
              "      <td>-0.709885</td>\n",
              "      <td>0.709885</td>\n",
              "      <td>-0.441112</td>\n",
              "      <td>-0.087294</td>\n",
              "      <td>0.454220</td>\n",
              "      <td>-0.024126</td>\n",
              "      <td>-0.364908</td>\n",
              "      <td>-0.135517</td>\n",
              "      <td>-0.024126</td>\n",
              "      <td>0.400877</td>\n",
              "      <td>-0.048295</td>\n",
              "      <td>1.324692</td>\n",
              "      <td>-0.198239</td>\n",
              "      <td>-0.041812</td>\n",
              "      <td>-0.383099</td>\n",
              "    </tr>\n",
              "    <tr>\n",
              "      <th>1718</th>\n",
              "      <td>1.731044</td>\n",
              "      <td>-0.647679</td>\n",
              "      <td>-0.225954</td>\n",
              "      <td>-0.869842</td>\n",
              "      <td>-0.755728</td>\n",
              "      <td>-1.151493</td>\n",
              "      <td>-0.790501</td>\n",
              "      <td>-0.334335</td>\n",
              "      <td>-1.015832</td>\n",
              "      <td>-0.709885</td>\n",
              "      <td>0.709885</td>\n",
              "      <td>-0.441112</td>\n",
              "      <td>-0.087294</td>\n",
              "      <td>0.454220</td>\n",
              "      <td>-0.024126</td>\n",
              "      <td>-0.364908</td>\n",
              "      <td>-0.135517</td>\n",
              "      <td>-0.024126</td>\n",
              "      <td>0.400877</td>\n",
              "      <td>-0.048295</td>\n",
              "      <td>-0.754893</td>\n",
              "      <td>-0.198239</td>\n",
              "      <td>-0.041812</td>\n",
              "      <td>-0.383099</td>\n",
              "    </tr>\n",
              "  </tbody>\n",
              "</table>\n",
              "<p>1719 rows × 24 columns</p>\n",
              "</div>"
            ],
            "text/plain": [
              "      Unnamed: 0  ...  person_degree_type_desc_Secundaria\n",
              "0      -1.731044  ...                            2.610294\n",
              "1      -1.729028  ...                            2.610294\n",
              "2      -1.727013  ...                            2.610294\n",
              "3      -1.724998  ...                           -0.383099\n",
              "4      -1.722983  ...                           -0.383099\n",
              "...          ...  ...                                 ...\n",
              "1714    1.722983  ...                           -0.383099\n",
              "1715    1.724998  ...                           -0.383099\n",
              "1716    1.727013  ...                           -0.383099\n",
              "1717    1.729028  ...                           -0.383099\n",
              "1718    1.731044  ...                           -0.383099\n",
              "\n",
              "[1719 rows x 24 columns]"
            ]
          },
          "metadata": {
            "tags": []
          },
          "execution_count": 59
        }
      ]
    },
    {
      "cell_type": "code",
      "metadata": {
        "id": "kQYxEwdP0qeM",
        "outputId": "4209635a-ac25-4fc0-aff5-add2803469de",
        "colab": {
          "base_uri": "https://localhost:8080/",
          "height": 207
        }
      },
      "source": [
        "X_train, X_test, Y_train, Y_test = train_test_split(x2, y, test_size=0.3)\n",
        "red_neuronal = MLPClassifier(hidden_layer_sizes=(8,2), max_iter=100, learning_rate_init=0.01, activation='logistic')\n",
        "red_neuronal.fit(X_train, Y_train)"
      ],
      "execution_count": 60,
      "outputs": [
        {
          "output_type": "stream",
          "text": [
            "/usr/local/lib/python3.6/dist-packages/sklearn/neural_network/_multilayer_perceptron.py:571: ConvergenceWarning: Stochastic Optimizer: Maximum iterations (100) reached and the optimization hasn't converged yet.\n",
            "  % self.max_iter, ConvergenceWarning)\n"
          ],
          "name": "stderr"
        },
        {
          "output_type": "execute_result",
          "data": {
            "text/plain": [
              "MLPClassifier(activation='logistic', alpha=0.0001, batch_size='auto',\n",
              "              beta_1=0.9, beta_2=0.999, early_stopping=False, epsilon=1e-08,\n",
              "              hidden_layer_sizes=(8, 2), learning_rate='constant',\n",
              "              learning_rate_init=0.01, max_fun=15000, max_iter=100,\n",
              "              momentum=0.9, n_iter_no_change=10, nesterovs_momentum=True,\n",
              "              power_t=0.5, random_state=None, shuffle=True, solver='adam',\n",
              "              tol=0.0001, validation_fraction=0.1, verbose=False,\n",
              "              warm_start=False)"
            ]
          },
          "metadata": {
            "tags": []
          },
          "execution_count": 60
        }
      ]
    },
    {
      "cell_type": "code",
      "metadata": {
        "id": "EGuF59bi04pR",
        "outputId": "e8b633d8-f8b4-4326-b67c-1f469f6c640a",
        "colab": {
          "base_uri": "https://localhost:8080/",
          "height": 1000
        }
      },
      "source": [
        "red_neuronal.coefs_"
      ],
      "execution_count": 61,
      "outputs": [
        {
          "output_type": "execute_result",
          "data": {
            "text/plain": [
              "[array([[ 9.34323475e-03,  1.00786386e-02,  7.43284777e-03,\n",
              "         -5.79318213e-03, -1.35243739e-02, -1.01574438e-02,\n",
              "         -8.20040173e-03, -8.83212873e-03],\n",
              "        [ 4.05608362e-02,  3.47403316e-02,  2.98086551e-02,\n",
              "         -4.17928806e-02, -3.59574065e-02, -4.46521642e-02,\n",
              "         -4.31023678e-02, -4.69783555e-02],\n",
              "        [-1.69164255e-02, -1.62795715e-02,  2.31311273e-02,\n",
              "          5.96289968e-02, -4.06821892e-02,  2.34679133e-02,\n",
              "          3.08837947e-02, -5.99813466e-03],\n",
              "        [ 5.69294120e-02,  1.67842805e-02,  2.84585436e-02,\n",
              "         -3.18001755e-02, -4.75525811e-02, -5.21121807e-02,\n",
              "         -4.14108116e-02, -5.40058235e-02],\n",
              "        [-7.02761708e-02, -5.16721794e-02,  2.82103157e-02,\n",
              "          4.97258791e-02, -1.27795311e-02, -2.78560203e-02,\n",
              "          7.01044213e-02,  1.83534266e-03],\n",
              "        [ 1.34260087e-03,  7.56471045e-02,  6.51656720e-02,\n",
              "         -6.33299075e-02,  3.45815954e-02,  1.45924390e-02,\n",
              "         -8.70323593e-02, -8.88920202e-02],\n",
              "        [-1.33606381e-02, -1.05389440e-01, -1.69371803e-01,\n",
              "          9.29272491e-02,  5.10658383e-02,  8.59407158e-02,\n",
              "          1.02310011e-01,  1.67942872e-01],\n",
              "        [-4.57199419e-02, -7.54425294e-03, -6.33350127e-02,\n",
              "         -2.41189046e-02,  1.26147318e-01,  7.12180378e-02,\n",
              "         -4.19411439e-03,  7.23535202e-02],\n",
              "        [ 5.07254037e-03, -6.64606704e-04, -8.35038824e-03,\n",
              "          1.15200591e-03, -1.31491817e-03,  4.25054197e-03,\n",
              "         -3.09259071e-03, -1.78435342e-03],\n",
              "        [-3.82807324e-02, -1.55800112e-02,  2.22939204e-02,\n",
              "          1.76969503e-01, -3.83029512e-02, -5.77496552e-02,\n",
              "         -4.24212717e-02,  4.15947554e-02],\n",
              "        [-1.10797033e-02,  2.19693084e-03,  3.06599480e-02,\n",
              "          1.44829128e-01, -7.07588641e-02, -1.00318328e-01,\n",
              "         -7.61507575e-02, -1.92148687e-03],\n",
              "        [ 9.09518460e-02,  1.27252274e-01,  1.94118004e-01,\n",
              "          6.80445896e-02, -2.19202910e-01,  1.21666427e-01,\n",
              "          1.56538168e-01,  6.56622452e-02],\n",
              "        [-7.12605121e-03,  3.31099629e-02,  2.16179039e-02,\n",
              "          1.68040362e-02, -2.24355142e-02,  4.54463049e-02,\n",
              "          5.98518282e-02,  4.08181611e-02],\n",
              "        [ 5.25717070e-02,  8.29958982e-02,  1.50157782e-01,\n",
              "          1.00747769e-01, -1.85487880e-01,  1.54752605e-01,\n",
              "          1.91469311e-01,  9.80227558e-02],\n",
              "        [ 5.02173624e-02,  5.18168166e-02,  5.10094315e-02,\n",
              "         -9.17224985e-02, -4.74396500e-02, -3.90583635e-02,\n",
              "         -3.96150823e-02, -4.29392305e-02],\n",
              "        [ 1.06634298e-01, -6.15737273e-02,  1.00397080e-01,\n",
              "         -3.80938573e-02, -1.40659826e-01,  4.69075336e-03,\n",
              "         -1.12769206e-01,  6.61318249e-02],\n",
              "        [ 4.95916303e-02, -2.16093084e-02,  4.32975672e-02,\n",
              "         -2.35994267e-02, -5.83592153e-02, -4.47443705e-03,\n",
              "         -5.61772195e-02,  1.76720319e-02],\n",
              "        [-1.65095600e-01, -4.60598145e-02, -5.14913747e-02,\n",
              "          1.40969517e-01,  1.08247649e-01,  1.55060707e-01,\n",
              "          1.28095725e-01,  1.68825054e-01],\n",
              "        [ 1.21089250e-01, -6.66219482e-02,  1.01337914e-01,\n",
              "         -4.96955648e-02, -1.59834177e-01, -7.61286681e-03,\n",
              "         -1.31013053e-01,  5.47017335e-02],\n",
              "        [ 3.19851614e-02,  1.94212787e-03,  2.02846380e-02,\n",
              "         -2.20388264e-02, -3.85005210e-02, -1.87603649e-02,\n",
              "         -3.48765055e-02, -1.43915884e-02],\n",
              "        [ 2.06254730e+00,  1.97452123e+00,  2.13702704e+00,\n",
              "         -2.18013111e+00, -2.29659568e+00, -2.21669508e+00,\n",
              "         -2.08056559e+00, -2.13568262e+00],\n",
              "        [ 1.01914675e+00,  9.59571655e-01,  1.01519859e+00,\n",
              "         -1.02298183e+00, -9.90392328e-01, -1.02383128e+00,\n",
              "         -9.63125533e-01, -9.86282925e-01],\n",
              "        [ 2.77192478e-01, -4.13870545e-02,  2.57634335e-01,\n",
              "         -2.59831757e-01, -2.75200435e-01, -2.75457476e-01,\n",
              "         -2.72943481e-01, -2.67525799e-01],\n",
              "        [ 1.51715555e+00,  1.60715959e+00,  1.76445230e+00,\n",
              "         -1.57972192e+00, -1.55233941e+00, -1.48746299e+00,\n",
              "         -1.49723467e+00, -1.38066023e+00]]),\n",
              " array([[ 2.03538746,  2.04707869],\n",
              "        [ 1.71426626,  1.74033087],\n",
              "        [ 1.48749902,  1.94939969],\n",
              "        [-1.91683827, -1.86579706],\n",
              "        [-1.80779502, -2.07450586],\n",
              "        [-2.17830783, -1.73033343],\n",
              "        [-2.13782945, -1.61250405],\n",
              "        [-2.05117188, -1.66504494]]),\n",
              " array([[-3.73437638],\n",
              "        [-3.79160881]])]"
            ]
          },
          "metadata": {
            "tags": []
          },
          "execution_count": 61
        }
      ]
    },
    {
      "cell_type": "code",
      "metadata": {
        "id": "KcJLUBj006NL",
        "outputId": "b920dd50-0b4a-49fb-eb02-9db6ceb18703",
        "colab": {
          "base_uri": "https://localhost:8080/",
          "height": 411
        }
      },
      "source": [
        "k=10\n",
        "kfold = KFold(n_splits = k)\n",
        "cv_resultado = cross_val_score(red_neuronal, X_train, Y_train, cv=kfold, scoring='f1_macro')\n",
        "print(cv_resultado)"
      ],
      "execution_count": 62,
      "outputs": [
        {
          "output_type": "stream",
          "text": [
            "/usr/local/lib/python3.6/dist-packages/sklearn/neural_network/_multilayer_perceptron.py:571: ConvergenceWarning: Stochastic Optimizer: Maximum iterations (100) reached and the optimization hasn't converged yet.\n",
            "  % self.max_iter, ConvergenceWarning)\n",
            "/usr/local/lib/python3.6/dist-packages/sklearn/neural_network/_multilayer_perceptron.py:571: ConvergenceWarning: Stochastic Optimizer: Maximum iterations (100) reached and the optimization hasn't converged yet.\n",
            "  % self.max_iter, ConvergenceWarning)\n",
            "/usr/local/lib/python3.6/dist-packages/sklearn/neural_network/_multilayer_perceptron.py:571: ConvergenceWarning: Stochastic Optimizer: Maximum iterations (100) reached and the optimization hasn't converged yet.\n",
            "  % self.max_iter, ConvergenceWarning)\n",
            "/usr/local/lib/python3.6/dist-packages/sklearn/neural_network/_multilayer_perceptron.py:571: ConvergenceWarning: Stochastic Optimizer: Maximum iterations (100) reached and the optimization hasn't converged yet.\n",
            "  % self.max_iter, ConvergenceWarning)\n",
            "/usr/local/lib/python3.6/dist-packages/sklearn/neural_network/_multilayer_perceptron.py:571: ConvergenceWarning: Stochastic Optimizer: Maximum iterations (100) reached and the optimization hasn't converged yet.\n",
            "  % self.max_iter, ConvergenceWarning)\n",
            "/usr/local/lib/python3.6/dist-packages/sklearn/neural_network/_multilayer_perceptron.py:571: ConvergenceWarning: Stochastic Optimizer: Maximum iterations (100) reached and the optimization hasn't converged yet.\n",
            "  % self.max_iter, ConvergenceWarning)\n",
            "/usr/local/lib/python3.6/dist-packages/sklearn/neural_network/_multilayer_perceptron.py:571: ConvergenceWarning: Stochastic Optimizer: Maximum iterations (100) reached and the optimization hasn't converged yet.\n",
            "  % self.max_iter, ConvergenceWarning)\n",
            "/usr/local/lib/python3.6/dist-packages/sklearn/neural_network/_multilayer_perceptron.py:571: ConvergenceWarning: Stochastic Optimizer: Maximum iterations (100) reached and the optimization hasn't converged yet.\n",
            "  % self.max_iter, ConvergenceWarning)\n",
            "/usr/local/lib/python3.6/dist-packages/sklearn/neural_network/_multilayer_perceptron.py:571: ConvergenceWarning: Stochastic Optimizer: Maximum iterations (100) reached and the optimization hasn't converged yet.\n",
            "  % self.max_iter, ConvergenceWarning)\n"
          ],
          "name": "stderr"
        },
        {
          "output_type": "stream",
          "text": [
            "[1.         1.         1.         1.         1.         1.\n",
            " 1.         0.99161953 1.         0.99134886]\n"
          ],
          "name": "stdout"
        },
        {
          "output_type": "stream",
          "text": [
            "/usr/local/lib/python3.6/dist-packages/sklearn/neural_network/_multilayer_perceptron.py:571: ConvergenceWarning: Stochastic Optimizer: Maximum iterations (100) reached and the optimization hasn't converged yet.\n",
            "  % self.max_iter, ConvergenceWarning)\n"
          ],
          "name": "stderr"
        }
      ]
    },
    {
      "cell_type": "markdown",
      "metadata": {
        "id": "LH-ID9pl8ZST"
      },
      "source": [
        "La primera sorpresa que tenemos es que los folds dan resultados muy elevados, esto a causa de que los valores de algunas columnas tuvieron reducción de cardinalidad, lo cual se ve reflejado en los resultados."
      ]
    },
    {
      "cell_type": "code",
      "metadata": {
        "id": "Dmppm7_R07tB",
        "outputId": "d447570a-c8e0-41b9-f993-7c45121bd0e7",
        "colab": {
          "base_uri": "https://localhost:8080/",
          "height": 187
        }
      },
      "source": [
        "for i in range(len(cv_resultado)):\n",
        "  print(\"F1 en {} fold = {:.2f}\".format(i+1, cv_resultado[i]))"
      ],
      "execution_count": 63,
      "outputs": [
        {
          "output_type": "stream",
          "text": [
            "F1 en 1 fold = 1.00\n",
            "F1 en 2 fold = 1.00\n",
            "F1 en 3 fold = 1.00\n",
            "F1 en 4 fold = 1.00\n",
            "F1 en 5 fold = 1.00\n",
            "F1 en 6 fold = 1.00\n",
            "F1 en 7 fold = 1.00\n",
            "F1 en 8 fold = 0.99\n",
            "F1 en 9 fold = 1.00\n",
            "F1 en 10 fold = 0.99\n"
          ],
          "name": "stdout"
        }
      ]
    },
    {
      "cell_type": "code",
      "metadata": {
        "id": "QNvmTxyB0-PH",
        "outputId": "e3298104-16ef-45d1-f1a4-8438fb32d922",
        "colab": {
          "base_uri": "https://localhost:8080/",
          "height": 34
        }
      },
      "source": [
        "promedio = np.mean(cv_resultado)\n",
        "print(\"promedio: \", promedio)"
      ],
      "execution_count": 64,
      "outputs": [
        {
          "output_type": "stream",
          "text": [
            "promedio:  0.9982968383831485\n"
          ],
          "name": "stdout"
        }
      ]
    },
    {
      "cell_type": "code",
      "metadata": {
        "id": "bBo5AQoO49TP"
      },
      "source": [
        "pesos_5 = [z for x in red_neuronal.coefs_ for y in x for z in y]"
      ],
      "execution_count": 65,
      "outputs": []
    },
    {
      "cell_type": "code",
      "metadata": {
        "id": "BvAbExyC4_BL",
        "outputId": "ea379ec3-764c-455c-c632-cba1e0650cc8",
        "colab": {
          "base_uri": "https://localhost:8080/",
          "height": 611
        }
      },
      "source": [
        "x = np.linspace(1,len(pesos_5),len(pesos_5))\n",
        "plt.figure(figsize=(15,10))\n",
        "plt.scatter(x,pesos_5, color='k', label='MLP5')\n",
        "plt.plot(x,pesos_5, color='k')\n",
        "plt.legend()"
      ],
      "execution_count": 66,
      "outputs": [
        {
          "output_type": "execute_result",
          "data": {
            "text/plain": [
              "<matplotlib.legend.Legend at 0x7efbe1860550>"
            ]
          },
          "metadata": {
            "tags": []
          },
          "execution_count": 66
        },
        {
          "output_type": "display_data",
          "data": {
            "image/png": "[encoded data removed]",
            "text/plain": [
              "<Figure size 1080x720 with 1 Axes>"
            ]
          },
          "metadata": {
            "tags": []
          }
        }
      ]
    },
    {
      "cell_type": "markdown",
      "metadata": {
        "id": "kTf6RURd8nLD"
      },
      "source": [
        "A esta red nueronal 2 se le aplica alpha = 2, y los resultados son muy similares a la red neuronal 1, esto debido a que la red 1 ya esaba en overfitting."
      ]
    },
    {
      "cell_type": "code",
      "metadata": {
        "id": "-HIAdl-B5AqK",
        "outputId": "38211f6d-7fa7-4b40-e5b5-0d794d2e05fa",
        "colab": {
          "base_uri": "https://localhost:8080/",
          "height": 207
        }
      },
      "source": [
        "red_neuronal2 = MLPClassifier(hidden_layer_sizes=(8,2), max_iter=100, learning_rate_init=0.01, activation='logistic', alpha= 0.2)\n",
        "red_neuronal2.fit(X_train, Y_train)"
      ],
      "execution_count": 67,
      "outputs": [
        {
          "output_type": "stream",
          "text": [
            "/usr/local/lib/python3.6/dist-packages/sklearn/neural_network/_multilayer_perceptron.py:571: ConvergenceWarning: Stochastic Optimizer: Maximum iterations (100) reached and the optimization hasn't converged yet.\n",
            "  % self.max_iter, ConvergenceWarning)\n"
          ],
          "name": "stderr"
        },
        {
          "output_type": "execute_result",
          "data": {
            "text/plain": [
              "MLPClassifier(activation='logistic', alpha=0.2, batch_size='auto', beta_1=0.9,\n",
              "              beta_2=0.999, early_stopping=False, epsilon=1e-08,\n",
              "              hidden_layer_sizes=(8, 2), learning_rate='constant',\n",
              "              learning_rate_init=0.01, max_fun=15000, max_iter=100,\n",
              "              momentum=0.9, n_iter_no_change=10, nesterovs_momentum=True,\n",
              "              power_t=0.5, random_state=None, shuffle=True, solver='adam',\n",
              "              tol=0.0001, validation_fraction=0.1, verbose=False,\n",
              "              warm_start=False)"
            ]
          },
          "metadata": {
            "tags": []
          },
          "execution_count": 67
        }
      ]
    },
    {
      "cell_type": "code",
      "metadata": {
        "id": "67-57Z715DIP",
        "outputId": "2ff27305-e67e-4343-df72-614b5b3305e6",
        "colab": {
          "base_uri": "https://localhost:8080/",
          "height": 1000
        }
      },
      "source": [
        "red_neuronal2.coefs_"
      ],
      "execution_count": 68,
      "outputs": [
        {
          "output_type": "execute_result",
          "data": {
            "text/plain": [
              "[array([[ 1.05294858e-02,  1.17633771e-02,  1.25748901e-02,\n",
              "          1.23862304e-02, -8.58291825e-03,  1.09774532e-02,\n",
              "         -8.60643023e-03,  1.16044395e-02],\n",
              "        [-3.48144196e-02, -3.48593562e-02, -3.49384171e-02,\n",
              "         -3.48953205e-02,  3.53972967e-02, -3.48142781e-02,\n",
              "          3.53450028e-02, -3.45134408e-02],\n",
              "        [ 1.48120870e-02,  1.56392105e-02,  1.62214085e-02,\n",
              "          1.59197236e-02, -1.31270975e-02,  1.53529327e-02,\n",
              "         -1.24743467e-02,  1.62288255e-02],\n",
              "        [-1.46579120e-02, -1.46204126e-02, -1.48814999e-02,\n",
              "         -1.48125726e-02,  1.56609917e-02, -1.47782736e-02,\n",
              "          1.55275606e-02, -1.48569121e-02],\n",
              "        [ 2.06943210e-02,  2.08714834e-02,  2.05996768e-02,\n",
              "          2.07558238e-02, -2.00638194e-02,  2.05166776e-02,\n",
              "         -2.00109664e-02,  2.06326789e-02],\n",
              "        [-2.06456380e-02, -2.02292995e-02, -2.00698396e-02,\n",
              "         -1.97664021e-02,  2.38023780e-02, -1.99222906e-02,\n",
              "          2.38924223e-02, -1.99469630e-02],\n",
              "        [ 1.94105066e-02,  1.93392557e-02,  1.90465693e-02,\n",
              "          1.91610232e-02, -2.00808440e-02,  1.93714905e-02,\n",
              "         -2.02563558e-02,  1.90782269e-02],\n",
              "        [ 1.02420772e-02,  1.06449508e-02,  1.09581924e-02,\n",
              "          1.07543822e-02, -9.74362822e-03,  1.04718821e-02,\n",
              "         -9.77020653e-03,  1.09530291e-02],\n",
              "        [-1.75062484e-02, -1.75554197e-02, -1.76227957e-02,\n",
              "         -1.76377948e-02,  1.69109147e-02, -1.71608057e-02,\n",
              "          1.70349537e-02, -1.77326349e-02],\n",
              "        [ 1.38468197e-02,  1.39372432e-02,  1.39471846e-02,\n",
              "          1.38949212e-02, -1.35184322e-02,  1.38587266e-02,\n",
              "         -1.33981533e-02,  1.39595040e-02],\n",
              "        [-1.38239696e-02, -1.39308750e-02, -1.39670740e-02,\n",
              "         -1.40018717e-02,  1.34415302e-02, -1.38574065e-02,\n",
              "          1.33961877e-02, -1.40116016e-02],\n",
              "        [-2.74310781e-02, -2.81790712e-02, -2.88726304e-02,\n",
              "         -2.85393571e-02,  2.71382243e-02, -2.79382048e-02,\n",
              "          2.66365363e-02, -2.88848416e-02],\n",
              "        [ 4.57006315e-02,  4.64853809e-02,  4.73974084e-02,\n",
              "          4.66930561e-02, -4.07828152e-02,  4.62904148e-02,\n",
              "         -4.02824137e-02,  4.74185051e-02],\n",
              "        [ 2.09563569e-02,  2.15361095e-02,  2.19972404e-02,\n",
              "          2.14881672e-02, -2.15474532e-02,  2.13765835e-02,\n",
              "         -2.10644525e-02,  2.17607626e-02],\n",
              "        [-1.28197428e-02, -1.25379969e-02, -1.23425936e-02,\n",
              "         -1.24577396e-02,  1.42907185e-02, -1.26627359e-02,\n",
              "          1.43395997e-02, -1.23457207e-02],\n",
              "        [-1.33244102e-02, -1.37580820e-02, -1.42521534e-02,\n",
              "         -1.40810648e-02,  1.32552796e-02, -1.33805079e-02,\n",
              "          1.28726209e-02, -1.42427618e-02],\n",
              "        [ 1.20666880e-03,  1.02520083e-03,  8.81327027e-04,\n",
              "          1.01091282e-03, -1.70141215e-03,  1.09030264e-03,\n",
              "         -1.76472464e-03,  8.54977686e-04],\n",
              "        [ 1.39497970e-02,  1.37360219e-02,  1.35971464e-02,\n",
              "          1.39218375e-02, -1.52355090e-02,  1.36599384e-02,\n",
              "         -1.54504588e-02,  1.38137209e-02],\n",
              "        [ 1.23689099e-02,  1.29506476e-02,  1.34437028e-02,\n",
              "          1.32476787e-02, -1.19431181e-02,  1.26538980e-02,\n",
              "         -1.16492671e-02,  1.34358448e-02],\n",
              "        [-1.21648510e-02, -1.21193885e-02, -1.20849382e-02,\n",
              "         -1.21353192e-02,  1.28768667e-02, -1.21636518e-02,\n",
              "          1.28494889e-02, -1.20639207e-02],\n",
              "        [-9.43958576e-01, -9.05615512e-01, -8.75942591e-01,\n",
              "         -8.94141257e-01,  1.15223414e+00, -9.17956244e-01,\n",
              "          1.16844945e+00, -8.75282115e-01],\n",
              "        [-3.44660909e-01, -3.30522487e-01, -3.19574959e-01,\n",
              "         -3.26283353e-01,  4.25744939e-01, -3.35075597e-01,\n",
              "          4.31825447e-01, -3.19338957e-01],\n",
              "        [-7.34377143e-02, -7.05742315e-02, -6.83363858e-02,\n",
              "         -6.97134771e-02,  9.02809042e-02, -7.14797934e-02,\n",
              "          9.15242707e-02, -6.83201447e-02],\n",
              "        [-6.16225747e-01, -5.90799924e-01, -5.71107817e-01,\n",
              "         -5.83173801e-01,  7.58480563e-01, -5.98979242e-01,\n",
              "          7.69297805e-01, -5.70669888e-01]]),\n",
              " array([[-0.94747943,  0.81217861],\n",
              "        [-0.89711268,  0.77798585],\n",
              "        [-0.86002834,  0.75091809],\n",
              "        [-0.88262089,  0.76757126],\n",
              "        [ 1.26403802, -1.06222851],\n",
              "        [-0.91304511,  0.78918361],\n",
              "        [ 1.2936153 , -1.07707581],\n",
              "        [-0.85923637,  0.75041497]]),\n",
              " array([[-3.52378526],\n",
              "        [ 2.62118266]])]"
            ]
          },
          "metadata": {
            "tags": []
          },
          "execution_count": 68
        }
      ]
    },
    {
      "cell_type": "code",
      "metadata": {
        "id": "nHgtbBdt5EyF",
        "outputId": "17f74911-e79b-4480-9505-35b0fc842a7a",
        "colab": {
          "base_uri": "https://localhost:8080/",
          "height": 394
        }
      },
      "source": [
        "k=10\n",
        "kfold = KFold(n_splits = k)\n",
        "cv_resultado2 = cross_val_score(red_neuronal2, X_train, Y_train, cv=kfold, scoring='f1_macro')\n",
        "print(cv_resultado2)"
      ],
      "execution_count": 69,
      "outputs": [
        {
          "output_type": "stream",
          "text": [
            "/usr/local/lib/python3.6/dist-packages/sklearn/neural_network/_multilayer_perceptron.py:571: ConvergenceWarning: Stochastic Optimizer: Maximum iterations (100) reached and the optimization hasn't converged yet.\n",
            "  % self.max_iter, ConvergenceWarning)\n",
            "/usr/local/lib/python3.6/dist-packages/sklearn/neural_network/_multilayer_perceptron.py:571: ConvergenceWarning: Stochastic Optimizer: Maximum iterations (100) reached and the optimization hasn't converged yet.\n",
            "  % self.max_iter, ConvergenceWarning)\n",
            "/usr/local/lib/python3.6/dist-packages/sklearn/neural_network/_multilayer_perceptron.py:571: ConvergenceWarning: Stochastic Optimizer: Maximum iterations (100) reached and the optimization hasn't converged yet.\n",
            "  % self.max_iter, ConvergenceWarning)\n",
            "/usr/local/lib/python3.6/dist-packages/sklearn/neural_network/_multilayer_perceptron.py:571: ConvergenceWarning: Stochastic Optimizer: Maximum iterations (100) reached and the optimization hasn't converged yet.\n",
            "  % self.max_iter, ConvergenceWarning)\n",
            "/usr/local/lib/python3.6/dist-packages/sklearn/neural_network/_multilayer_perceptron.py:571: ConvergenceWarning: Stochastic Optimizer: Maximum iterations (100) reached and the optimization hasn't converged yet.\n",
            "  % self.max_iter, ConvergenceWarning)\n",
            "/usr/local/lib/python3.6/dist-packages/sklearn/neural_network/_multilayer_perceptron.py:571: ConvergenceWarning: Stochastic Optimizer: Maximum iterations (100) reached and the optimization hasn't converged yet.\n",
            "  % self.max_iter, ConvergenceWarning)\n",
            "/usr/local/lib/python3.6/dist-packages/sklearn/neural_network/_multilayer_perceptron.py:571: ConvergenceWarning: Stochastic Optimizer: Maximum iterations (100) reached and the optimization hasn't converged yet.\n",
            "  % self.max_iter, ConvergenceWarning)\n",
            "/usr/local/lib/python3.6/dist-packages/sklearn/neural_network/_multilayer_perceptron.py:571: ConvergenceWarning: Stochastic Optimizer: Maximum iterations (100) reached and the optimization hasn't converged yet.\n",
            "  % self.max_iter, ConvergenceWarning)\n",
            "/usr/local/lib/python3.6/dist-packages/sklearn/neural_network/_multilayer_perceptron.py:571: ConvergenceWarning: Stochastic Optimizer: Maximum iterations (100) reached and the optimization hasn't converged yet.\n",
            "  % self.max_iter, ConvergenceWarning)\n"
          ],
          "name": "stderr"
        },
        {
          "output_type": "stream",
          "text": [
            "[1. 1. 1. 1. 1. 1. 1. 1. 1. 1.]\n"
          ],
          "name": "stdout"
        },
        {
          "output_type": "stream",
          "text": [
            "/usr/local/lib/python3.6/dist-packages/sklearn/neural_network/_multilayer_perceptron.py:571: ConvergenceWarning: Stochastic Optimizer: Maximum iterations (100) reached and the optimization hasn't converged yet.\n",
            "  % self.max_iter, ConvergenceWarning)\n"
          ],
          "name": "stderr"
        }
      ]
    },
    {
      "cell_type": "markdown",
      "metadata": {
        "id": "IeLLqXxh9Slq"
      },
      "source": [
        "se observa un ligero aumento"
      ]
    },
    {
      "cell_type": "code",
      "metadata": {
        "id": "fti8-uK-5GEN",
        "outputId": "81bb6aa7-3cd9-4f46-9d41-cb0a4b2f199e",
        "colab": {
          "base_uri": "https://localhost:8080/",
          "height": 187
        }
      },
      "source": [
        "for i in range(len(cv_resultado2)):\n",
        "  print(\"F1 en {} fold = {:.2f}\".format(i+1, cv_resultado2[i]))"
      ],
      "execution_count": 70,
      "outputs": [
        {
          "output_type": "stream",
          "text": [
            "F1 en 1 fold = 1.00\n",
            "F1 en 2 fold = 1.00\n",
            "F1 en 3 fold = 1.00\n",
            "F1 en 4 fold = 1.00\n",
            "F1 en 5 fold = 1.00\n",
            "F1 en 6 fold = 1.00\n",
            "F1 en 7 fold = 1.00\n",
            "F1 en 8 fold = 1.00\n",
            "F1 en 9 fold = 1.00\n",
            "F1 en 10 fold = 1.00\n"
          ],
          "name": "stdout"
        }
      ]
    },
    {
      "cell_type": "code",
      "metadata": {
        "id": "pFtB7KmV5Hhw",
        "outputId": "07ffc8e5-10d3-4d3b-bf50-dbc08c103e9c",
        "colab": {
          "base_uri": "https://localhost:8080/",
          "height": 34
        }
      },
      "source": [
        "promedio = np.mean(cv_resultado2)\n",
        "print(\"promedio: \", promedio)"
      ],
      "execution_count": 78,
      "outputs": [
        {
          "output_type": "stream",
          "text": [
            "promedio:  1.0\n"
          ],
          "name": "stdout"
        }
      ]
    },
    {
      "cell_type": "code",
      "metadata": {
        "id": "MuY5TIxx5JG-"
      },
      "source": [
        "pesos = [z for x in red_neuronal2.coefs_ for y in x for z in y]"
      ],
      "execution_count": 72,
      "outputs": []
    },
    {
      "cell_type": "code",
      "metadata": {
        "id": "Yqi-LZ_t5KnS",
        "outputId": "58833615-5d06-471e-95a1-8f19c65ca68a",
        "colab": {
          "base_uri": "https://localhost:8080/",
          "height": 611
        }
      },
      "source": [
        "x2 = np.linspace(1,len(pesos),len(pesos))\n",
        "plt.figure(figsize=(15,10))\n",
        "plt.scatter(x2,pesos, color='k', label='MLP5')\n",
        "plt.plot(x2,pesos, color='k')\n",
        "plt.legend()"
      ],
      "execution_count": 73,
      "outputs": [
        {
          "output_type": "execute_result",
          "data": {
            "text/plain": [
              "<matplotlib.legend.Legend at 0x7efbe173f1d0>"
            ]
          },
          "metadata": {
            "tags": []
          },
          "execution_count": 73
        },
        {
          "output_type": "display_data",
          "data": {
            "image/png": "[encoded data removed]",
            "text/plain": [
              "<Figure size 1080x720 with 1 Axes>"
            ]
          },
          "metadata": {
            "tags": []
          }
        }
      ]
    },
    {
      "cell_type": "code",
      "metadata": {
        "id": "dQop59FJ5MMW",
        "outputId": "99fe2487-fc29-4676-cefa-c61b04ca5457",
        "colab": {
          "base_uri": "https://localhost:8080/",
          "height": 611
        }
      },
      "source": [
        "plt.figure(figsize=(15,10))\n",
        "plt.scatter(x,pesos_5, color='R', label='MLP5')\n",
        "plt.scatter(x2,pesos, color='B', label='MLP5 alpha')\n",
        "plt.plot(x,pesos_5, color='R')\n",
        "plt.plot(x2,pesos, color='B')\n",
        "plt.legend()"
      ],
      "execution_count": 74,
      "outputs": [
        {
          "output_type": "execute_result",
          "data": {
            "text/plain": [
              "<matplotlib.legend.Legend at 0x7efbe1712fd0>"
            ]
          },
          "metadata": {
            "tags": []
          },
          "execution_count": 74
        },
        {
          "output_type": "display_data",
          "data": {
            "image/png": "[encoded data removed]",
            "text/plain": [
              "<Figure size 1080x720 with 1 Axes>"
            ]
          },
          "metadata": {
            "tags": []
          }
        }
      ]
    },
    {
      "cell_type": "code",
      "metadata": {
        "id": "5yH-yl0U5RcY"
      },
      "source": [
        ""
      ],
      "execution_count": null,
      "outputs": []
    }
  ]
}